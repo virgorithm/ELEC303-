{
 "cells": [
  {
   "cell_type": "markdown",
   "id": "c997aed3-ecda-4dfb-9f56-3ee5378ba2e6",
   "metadata": {},
   "source": [
    "<h1 style=\"font-size:20px;\"><strong>\n",
    "Activity 2: UK Accident Datasets </strong></h1>\n",
    "\n",
    "<p>Analyst: Imari Calado</p>\n",
    "\n",
    "\n",
    "    \n"
   ]
  },
  {
   "cell_type": "code",
   "execution_count": 80,
   "id": "54991917-6932-4977-a8c7-b67ee8d35b64",
   "metadata": {},
   "outputs": [],
   "source": [
    "import numpy as np \n",
    "import pandas as pd\n",
    "import matplotlib.pyplot as plt\n",
    "import warnings\n",
    "warnings.filterwarnings('ignore')"
   ]
  },
  {
   "cell_type": "code",
   "execution_count": 81,
   "id": "c3c0d277-cb4d-488f-9e80-bf3a9a9610b5",
   "metadata": {},
   "outputs": [],
   "source": [
    "accident = pd.read_csv('accident_data.csv')"
   ]
  },
  {
   "cell_type": "code",
   "execution_count": 82,
   "id": "3d9d4004-5c78-40fc-b8d7-249cca6afec7",
   "metadata": {},
   "outputs": [
    {
     "data": {
      "text/html": [
       "<div>\n",
       "<style scoped>\n",
       "    .dataframe tbody tr th:only-of-type {\n",
       "        vertical-align: middle;\n",
       "    }\n",
       "\n",
       "    .dataframe tbody tr th {\n",
       "        vertical-align: top;\n",
       "    }\n",
       "\n",
       "    .dataframe thead th {\n",
       "        text-align: right;\n",
       "    }\n",
       "</style>\n",
       "<table border=\"1\" class=\"dataframe\">\n",
       "  <thead>\n",
       "    <tr style=\"text-align: right;\">\n",
       "      <th></th>\n",
       "      <th>Index</th>\n",
       "      <th>Accident_Severity</th>\n",
       "      <th>Accident Date</th>\n",
       "      <th>Latitude</th>\n",
       "      <th>Light_Conditions</th>\n",
       "      <th>District Area</th>\n",
       "      <th>Longitude</th>\n",
       "      <th>Number_of_Casualties</th>\n",
       "      <th>Number_of_Vehicles</th>\n",
       "      <th>Road_Surface_Conditions</th>\n",
       "      <th>Road_Type</th>\n",
       "      <th>Urban_or_Rural_Area</th>\n",
       "      <th>Weather_Conditions</th>\n",
       "      <th>Vehicle_Type</th>\n",
       "    </tr>\n",
       "  </thead>\n",
       "  <tbody>\n",
       "    <tr>\n",
       "      <th>0</th>\n",
       "      <td>200701BS64157</td>\n",
       "      <td>Serious</td>\n",
       "      <td>05/06/2019</td>\n",
       "      <td>51.506187</td>\n",
       "      <td>Darkness - lights lit</td>\n",
       "      <td>Kensington and Chelsea</td>\n",
       "      <td>-0.209082</td>\n",
       "      <td>1</td>\n",
       "      <td>2</td>\n",
       "      <td>Dry</td>\n",
       "      <td>Single carriageway</td>\n",
       "      <td>Urban</td>\n",
       "      <td>Fine no high winds</td>\n",
       "      <td>Car</td>\n",
       "    </tr>\n",
       "    <tr>\n",
       "      <th>1</th>\n",
       "      <td>200701BS65737</td>\n",
       "      <td>Serious</td>\n",
       "      <td>02/07/2019</td>\n",
       "      <td>51.495029</td>\n",
       "      <td>Daylight</td>\n",
       "      <td>Kensington and Chelsea</td>\n",
       "      <td>-0.173647</td>\n",
       "      <td>1</td>\n",
       "      <td>2</td>\n",
       "      <td>Wet or damp</td>\n",
       "      <td>Single carriageway</td>\n",
       "      <td>Urban</td>\n",
       "      <td>Raining no high winds</td>\n",
       "      <td>Car</td>\n",
       "    </tr>\n",
       "    <tr>\n",
       "      <th>2</th>\n",
       "      <td>200701BS66127</td>\n",
       "      <td>Serious</td>\n",
       "      <td>26/08/2019</td>\n",
       "      <td>51.517715</td>\n",
       "      <td>Darkness - lighting unknown</td>\n",
       "      <td>Kensington and Chelsea</td>\n",
       "      <td>-0.210215</td>\n",
       "      <td>1</td>\n",
       "      <td>3</td>\n",
       "      <td>Dry</td>\n",
       "      <td>NaN</td>\n",
       "      <td>Urban</td>\n",
       "      <td>NaN</td>\n",
       "      <td>Taxi/Private hire car</td>\n",
       "    </tr>\n",
       "    <tr>\n",
       "      <th>3</th>\n",
       "      <td>200701BS66128</td>\n",
       "      <td>Serious</td>\n",
       "      <td>16/08/2019</td>\n",
       "      <td>51.495478</td>\n",
       "      <td>Daylight</td>\n",
       "      <td>Kensington and Chelsea</td>\n",
       "      <td>-0.202731</td>\n",
       "      <td>1</td>\n",
       "      <td>4</td>\n",
       "      <td>Dry</td>\n",
       "      <td>Single carriageway</td>\n",
       "      <td>Urban</td>\n",
       "      <td>Fine no high winds</td>\n",
       "      <td>Bus or coach (17 or more pass seats)</td>\n",
       "    </tr>\n",
       "    <tr>\n",
       "      <th>4</th>\n",
       "      <td>200701BS66837</td>\n",
       "      <td>Slight</td>\n",
       "      <td>03/09/2019</td>\n",
       "      <td>51.488576</td>\n",
       "      <td>Darkness - lights lit</td>\n",
       "      <td>Kensington and Chelsea</td>\n",
       "      <td>-0.192487</td>\n",
       "      <td>1</td>\n",
       "      <td>2</td>\n",
       "      <td>Dry</td>\n",
       "      <td>NaN</td>\n",
       "      <td>Urban</td>\n",
       "      <td>NaN</td>\n",
       "      <td>Other vehicle</td>\n",
       "    </tr>\n",
       "  </tbody>\n",
       "</table>\n",
       "</div>"
      ],
      "text/plain": [
       "           Index Accident_Severity Accident Date   Latitude  \\\n",
       "0  200701BS64157           Serious    05/06/2019  51.506187   \n",
       "1  200701BS65737           Serious    02/07/2019  51.495029   \n",
       "2  200701BS66127           Serious    26/08/2019  51.517715   \n",
       "3  200701BS66128           Serious    16/08/2019  51.495478   \n",
       "4  200701BS66837            Slight    03/09/2019  51.488576   \n",
       "\n",
       "              Light_Conditions           District Area  Longitude  \\\n",
       "0        Darkness - lights lit  Kensington and Chelsea  -0.209082   \n",
       "1                     Daylight  Kensington and Chelsea  -0.173647   \n",
       "2  Darkness - lighting unknown  Kensington and Chelsea  -0.210215   \n",
       "3                     Daylight  Kensington and Chelsea  -0.202731   \n",
       "4        Darkness - lights lit  Kensington and Chelsea  -0.192487   \n",
       "\n",
       "   Number_of_Casualties  Number_of_Vehicles Road_Surface_Conditions  \\\n",
       "0                     1                   2                     Dry   \n",
       "1                     1                   2             Wet or damp   \n",
       "2                     1                   3                     Dry   \n",
       "3                     1                   4                     Dry   \n",
       "4                     1                   2                     Dry   \n",
       "\n",
       "            Road_Type Urban_or_Rural_Area     Weather_Conditions  \\\n",
       "0  Single carriageway               Urban     Fine no high winds   \n",
       "1  Single carriageway               Urban  Raining no high winds   \n",
       "2                 NaN               Urban                    NaN   \n",
       "3  Single carriageway               Urban     Fine no high winds   \n",
       "4                 NaN               Urban                    NaN   \n",
       "\n",
       "                           Vehicle_Type  \n",
       "0                                   Car  \n",
       "1                                   Car  \n",
       "2                 Taxi/Private hire car  \n",
       "3  Bus or coach (17 or more pass seats)  \n",
       "4                         Other vehicle  "
      ]
     },
     "execution_count": 82,
     "metadata": {},
     "output_type": "execute_result"
    }
   ],
   "source": [
    "accident.head()"
   ]
  },
  {
   "cell_type": "code",
   "execution_count": 83,
   "id": "814b0cbc-4a24-4411-8ef2-57c4ee66c13f",
   "metadata": {},
   "outputs": [
    {
     "data": {
      "text/plain": [
       "Index                          0\n",
       "Accident_Severity              0\n",
       "Accident Date                  0\n",
       "Latitude                      25\n",
       "Light_Conditions               0\n",
       "District Area                  0\n",
       "Longitude                     26\n",
       "Number_of_Casualties           0\n",
       "Number_of_Vehicles             0\n",
       "Road_Surface_Conditions      726\n",
       "Road_Type                   4520\n",
       "Urban_or_Rural_Area           15\n",
       "Weather_Conditions         14128\n",
       "Vehicle_Type                   0\n",
       "dtype: int64"
      ]
     },
     "execution_count": 83,
     "metadata": {},
     "output_type": "execute_result"
    }
   ],
   "source": [
    "accident.isnull().sum()"
   ]
  },
  {
   "cell_type": "markdown",
   "id": "b0563697-ba39-4afd-9f9a-38d5ab2a11a0",
   "metadata": {},
   "source": [
    "<h1 style=\"font-size:20px;\"><strong>\n",
    "Data Cleansing\n",
    "\n",
    "\n",
    "    \n"
   ]
  },
  {
   "cell_type": "code",
   "execution_count": 84,
   "id": "1112456b-a684-4697-9872-779cfa1b48a8",
   "metadata": {},
   "outputs": [],
   "source": [
    "accident['Latitude'] = accident['Latitude'].fillna(accident['Latitude'].mode()[0])\n",
    "accident['Longitude'] = accident['Longitude'].fillna(accident['Latitude'].mode()[0])\n",
    "accident['Road_Surface_Conditions'] = accident['Road_Surface_Conditions'].fillna('unaccounted')\n",
    "accident['Road_Type'] = accident['Road_Type'].fillna('unaccounted')\n",
    "accident['Accident Date'] = accident['Accident Date'].fillna(0)\n",
    "accident['Urban_or_Rural_Area'] = accident['Urban_or_Rural_Area'].fillna(accident['Urban_or_Rural_Area'].mode()[0])\n",
    "accident['Weather_Conditions'] = accident['Weather_Conditions'].fillna(accident['Weather_Conditions'].mode()[0])\n"
   ]
  },
  {
   "cell_type": "code",
   "execution_count": 85,
   "id": "be202ff2-5d13-4903-949e-e266fa5a8a02",
   "metadata": {},
   "outputs": [
    {
     "data": {
      "text/plain": [
       "Index                      0\n",
       "Accident_Severity          0\n",
       "Accident Date              0\n",
       "Latitude                   0\n",
       "Light_Conditions           0\n",
       "District Area              0\n",
       "Longitude                  0\n",
       "Number_of_Casualties       0\n",
       "Number_of_Vehicles         0\n",
       "Road_Surface_Conditions    0\n",
       "Road_Type                  0\n",
       "Urban_or_Rural_Area        0\n",
       "Weather_Conditions         0\n",
       "Vehicle_Type               0\n",
       "dtype: int64"
      ]
     },
     "execution_count": 85,
     "metadata": {},
     "output_type": "execute_result"
    }
   ],
   "source": [
    "accident.isnull().sum()"
   ]
  },
  {
   "cell_type": "markdown",
   "id": "1c4d069a-8ca0-4c92-8d53-b5759659bdd4",
   "metadata": {},
   "source": [
    "<h1 style=\"font-size:20px;\"><strong>\n",
    "Categorical Data Fields </h1>"
   ]
  },
  {
   "cell_type": "code",
   "execution_count": 86,
   "id": "406a16c0-7e56-4dda-9733-b3a2573c9f08",
   "metadata": {},
   "outputs": [
    {
     "name": "stdout",
     "output_type": "stream",
     "text": [
      "<class 'pandas.core.frame.DataFrame'>\n",
      "RangeIndex: 660679 entries, 0 to 660678\n",
      "Data columns (total 14 columns):\n",
      " #   Column                   Non-Null Count   Dtype  \n",
      "---  ------                   --------------   -----  \n",
      " 0   Index                    660679 non-null  object \n",
      " 1   Accident_Severity        660679 non-null  object \n",
      " 2   Accident Date            660679 non-null  object \n",
      " 3   Latitude                 660679 non-null  float64\n",
      " 4   Light_Conditions         660679 non-null  object \n",
      " 5   District Area            660679 non-null  object \n",
      " 6   Longitude                660679 non-null  float64\n",
      " 7   Number_of_Casualties     660679 non-null  int64  \n",
      " 8   Number_of_Vehicles       660679 non-null  int64  \n",
      " 9   Road_Surface_Conditions  660679 non-null  object \n",
      " 10  Road_Type                660679 non-null  object \n",
      " 11  Urban_or_Rural_Area      660679 non-null  object \n",
      " 12  Weather_Conditions       660679 non-null  object \n",
      " 13  Vehicle_Type             660679 non-null  object \n",
      "dtypes: float64(2), int64(2), object(10)\n",
      "memory usage: 70.6+ MB\n"
     ]
    }
   ],
   "source": [
    "accident.info()"
   ]
  },
  {
   "cell_type": "code",
   "execution_count": 87,
   "id": "518ac9b6-a47e-4949-b764-7d70d2ba3fc0",
   "metadata": {},
   "outputs": [],
   "source": [
    "accident['Index'] = accident ['Index'].astype('category')\n",
    "accident['Light_Conditions'] = accident ['Light_Conditions'].astype('category')\n",
    "accident['District Area'] = accident ['District Area'].astype('category')\n",
    "accident['Road_Surface_Conditions'] = accident ['Road_Surface_Conditions'].astype('category')\n",
    "accident['Road_Type'] = accident ['Road_Type'].astype('category')\n",
    "accident['Urban_or_Rural_Area'] = accident ['Urban_or_Rural_Area'].astype('category')\n",
    "accident['Weather_Conditions'] = accident ['Weather_Conditions'].astype('category')\n",
    "accident['Vehicle_Type'] = accident ['Vehicle_Type'].astype('category')\n"
   ]
  },
  {
   "cell_type": "code",
   "execution_count": 88,
   "id": "006a2c6e-c463-48d8-8aac-a3d6ed868b37",
   "metadata": {},
   "outputs": [
    {
     "name": "stdout",
     "output_type": "stream",
     "text": [
      "<class 'pandas.core.frame.DataFrame'>\n",
      "RangeIndex: 660679 entries, 0 to 660678\n",
      "Data columns (total 14 columns):\n",
      " #   Column                   Non-Null Count   Dtype   \n",
      "---  ------                   --------------   -----   \n",
      " 0   Index                    660679 non-null  category\n",
      " 1   Accident_Severity        660679 non-null  object  \n",
      " 2   Accident Date            660679 non-null  object  \n",
      " 3   Latitude                 660679 non-null  float64 \n",
      " 4   Light_Conditions         660679 non-null  category\n",
      " 5   District Area            660679 non-null  category\n",
      " 6   Longitude                660679 non-null  float64 \n",
      " 7   Number_of_Casualties     660679 non-null  int64   \n",
      " 8   Number_of_Vehicles       660679 non-null  int64   \n",
      " 9   Road_Surface_Conditions  660679 non-null  category\n",
      " 10  Road_Type                660679 non-null  category\n",
      " 11  Urban_or_Rural_Area      660679 non-null  category\n",
      " 12  Weather_Conditions       660679 non-null  category\n",
      " 13  Vehicle_Type             660679 non-null  category\n",
      "dtypes: category(8), float64(2), int64(2), object(2)\n",
      "memory usage: 57.2+ MB\n"
     ]
    }
   ],
   "source": [
    "accident.info()"
   ]
  },
  {
   "cell_type": "code",
   "execution_count": 89,
   "id": "190397b3-954f-443f-bf4c-db2ab4e1f305",
   "metadata": {},
   "outputs": [],
   "source": [
    "accident['Accident Date'] = accident ['Accident Date'].str.strip()\n",
    "\n",
    "accident['Accident Date'] = accident ['Accident Date'].astype('str')\n",
    "\n",
    "accident['Accident Date'] = accident ['Accident Date'].str.replace('/','-')\n",
    "\n",
    "accident['Accident Date'] = pd.to_datetime(accident['Accident Date'], dayfirst = True,  errors='coerce')\n"
   ]
  },
  {
   "cell_type": "markdown",
   "id": "9d5ab948-b4f6-450e-af81-ae4c3b32a46e",
   "metadata": {},
   "source": [
    "<h1 style=\"font-size:20px;\"><strong>\n",
    "Adjusting Data Types </h1>"
   ]
  },
  {
   "cell_type": "code",
   "execution_count": 90,
   "id": "4d462162-b2e2-45fa-a904-4bfca91488ed",
   "metadata": {},
   "outputs": [
    {
     "data": {
      "text/plain": [
       "Index                            category\n",
       "Accident_Severity                  object\n",
       "Accident Date              datetime64[ns]\n",
       "Latitude                          float64\n",
       "Light_Conditions                 category\n",
       "District Area                    category\n",
       "Longitude                         float64\n",
       "Number_of_Casualties                int64\n",
       "Number_of_Vehicles                  int64\n",
       "Road_Surface_Conditions          category\n",
       "Road_Type                        category\n",
       "Urban_or_Rural_Area              category\n",
       "Weather_Conditions               category\n",
       "Vehicle_Type                     category\n",
       "dtype: object"
      ]
     },
     "execution_count": 90,
     "metadata": {},
     "output_type": "execute_result"
    }
   ],
   "source": [
    "accident.dtypes"
   ]
  },
  {
   "cell_type": "markdown",
   "id": "d9521e89-a226-47cd-b050-5b15faec90b8",
   "metadata": {},
   "source": [
    "<h1 style=\"font-size:20px;\"><strong>\n",
    "Extracting date information using pandas date time </h1>"
   ]
  },
  {
   "cell_type": "code",
   "execution_count": 91,
   "id": "a66f3592-6830-46a4-8ae1-0202c45b829f",
   "metadata": {},
   "outputs": [],
   "source": [
    "accident['Year'] = accident['Accident Date'].dt.year\n",
    "accident['Month'] = accident['Accident Date'].dt.month\n",
    "accident['Day'] = accident['Accident Date'].dt.day\n",
    "accident['DayOfWeek'] = accident['Accident Date'].dt.dayofweek  # 0=Monday, 6=Sunday"
   ]
  },
  {
   "cell_type": "code",
   "execution_count": 92,
   "id": "cb66b02d-295d-422f-8753-5b1964897b5c",
   "metadata": {},
   "outputs": [
    {
     "data": {
      "text/plain": [
       "Index                      0\n",
       "Accident_Severity          0\n",
       "Accident Date              0\n",
       "Latitude                   0\n",
       "Light_Conditions           0\n",
       "District Area              0\n",
       "Longitude                  0\n",
       "Number_of_Casualties       0\n",
       "Number_of_Vehicles         0\n",
       "Road_Surface_Conditions    0\n",
       "Road_Type                  0\n",
       "Urban_or_Rural_Area        0\n",
       "Weather_Conditions         0\n",
       "Vehicle_Type               0\n",
       "Year                       0\n",
       "Month                      0\n",
       "Day                        0\n",
       "DayOfWeek                  0\n",
       "dtype: int64"
      ]
     },
     "execution_count": 92,
     "metadata": {},
     "output_type": "execute_result"
    }
   ],
   "source": [
    "accident.isnull().sum()"
   ]
  },
  {
   "cell_type": "markdown",
   "id": "730dc432-a97f-4260-add8-17b201182949",
   "metadata": {},
   "source": [
    "<h1 style=\"font-size:20px;\"><strong>\n",
    "UK Accident Questions </h1>"
   ]
  },
  {
   "cell_type": "markdown",
   "id": "c8db757b-863e-4467-9878-0f2e088a8162",
   "metadata": {},
   "source": [
    " <h1 style=\"font-size:20px;\"><strong> Q1.Total accidents are recorded in the dataset?\n",
    "</h1>"
   ]
  },
  {
   "cell_type": "code",
   "execution_count": 93,
   "id": "41c4794e-3543-4385-8d82-511ab28ed289",
   "metadata": {},
   "outputs": [
    {
     "data": {
      "text/plain": [
       "660679"
      ]
     },
     "execution_count": 93,
     "metadata": {},
     "output_type": "execute_result"
    }
   ],
   "source": [
    "len(accident)   \n"
   ]
  },
  {
   "cell_type": "markdown",
   "id": "a05d4c45-6c4f-4a94-942c-3ef151d6a0ff",
   "metadata": {},
   "source": [
    " <h1 style=\"font-size:15px;\"><strong> Insight 1: There are 660,679 accident records. \n",
    "</h1>"
   ]
  },
  {
   "cell_type": "code",
   "execution_count": 94,
   "id": "d74e306d-0e10-4ee3-b956-32572794eef5",
   "metadata": {},
   "outputs": [
    {
     "data": {
      "text/plain": [
       "1461"
      ]
     },
     "execution_count": 94,
     "metadata": {},
     "output_type": "execute_result"
    }
   ],
   "source": [
    "accident[\"Accident Date\"].nunique()  "
   ]
  },
  {
   "cell_type": "markdown",
   "id": "3d048666-7987-455a-85cc-9df357a2e535",
   "metadata": {},
   "source": [
    " <h1 style=\"font-size:15px;\"><strong> Insight 2: These accidents are spread across X unique dates. \n",
    "</h1>"
   ]
  },
  {
   "cell_type": "markdown",
   "id": "874abea9-cf9f-4f60-a3cf-6f2b72c029dc",
   "metadata": {},
   "source": [
    " <h1 style=\"font-size:20px;\"><strong> Q2. Most common accident severity\n",
    "</h1>"
   ]
  },
  {
   "cell_type": "code",
   "execution_count": 110,
   "id": "6d412f86-74da-4023-8b89-96606cb7b46f",
   "metadata": {},
   "outputs": [
    {
     "data": {
      "text/plain": [
       "Accident_Severity\n",
       "Slight     563801\n",
       "Serious     88217\n",
       "Fatal        8661\n",
       "Name: count, dtype: int64"
      ]
     },
     "execution_count": 110,
     "metadata": {},
     "output_type": "execute_result"
    }
   ],
   "source": [
    "accident[\"Accident_Severity\"].value_counts()\n"
   ]
  },
  {
   "cell_type": "markdown",
   "id": "ac49a2e6-ad5c-4a25-901b-66fb11d6389c",
   "metadata": {},
   "source": [
    " <h1 style=\"font-size:15px;\"><strong> Insight 3: Slight accidents are the most common type.\n",
    "</h1>"
   ]
  },
  {
   "cell_type": "code",
   "execution_count": 96,
   "id": "9d58fa30-d554-4bf1-889c-c159d0555d4e",
   "metadata": {},
   "outputs": [
    {
     "data": {
      "text/plain": [
       "Accident_Severity\n",
       "Slight     85.336601\n",
       "Serious    13.352475\n",
       "Fatal       1.310924\n",
       "Name: proportion, dtype: float64"
      ]
     },
     "execution_count": 96,
     "metadata": {},
     "output_type": "execute_result"
    }
   ],
   "source": [
    "accident[\"Accident_Severity\"].value_counts(normalize=True) * 100"
   ]
  },
  {
   "cell_type": "markdown",
   "id": "2848be43-7c3f-4f05-bda6-01f5b9065a6c",
   "metadata": {},
   "source": [
    " <h1 style=\"font-size:15px;\"><strong> Insight 4: Fatal accidents represent only a small percentage of total cases.\n",
    "</h1>"
   ]
  },
  {
   "cell_type": "code",
   "execution_count": 97,
   "id": "72da4a8f-3c5c-489c-8d34-af32a351a369",
   "metadata": {},
   "outputs": [
    {
     "data": {
      "text/plain": [
       "Accident_Severity\n",
       "Fatal      1.903129\n",
       "Serious    1.467280\n",
       "Slight     1.331402\n",
       "Name: Number_of_Casualties, dtype: float64"
      ]
     },
     "execution_count": 97,
     "metadata": {},
     "output_type": "execute_result"
    }
   ],
   "source": [
    "accident.groupby(\"Accident_Severity\")[\"Number_of_Casualties\"].mean()"
   ]
  },
  {
   "cell_type": "markdown",
   "id": "9aa5137e-6040-476f-8f6c-eb66964a6a40",
   "metadata": {},
   "source": [
    " <h1 style=\"font-size:15px;\"><strong>Insight 5: The average number of casualties is highest in fatal accidents."
   ]
  },
  {
   "cell_type": "markdown",
   "id": "fbfd7f0e-59ec-4909-9db3-496f306fc49f",
   "metadata": {},
   "source": [
    " <h1 style=\"font-size:20px;\"><strong> Q3. Accidents by light conditions\n",
    "</h1>"
   ]
  },
  {
   "cell_type": "code",
   "execution_count": 98,
   "id": "e4c89d01-ef67-47d1-9c9a-7f9f57899454",
   "metadata": {},
   "outputs": [
    {
     "data": {
      "text/plain": [
       "Light_Conditions\n",
       "Daylight                       484880\n",
       "Darkness - lights lit          129335\n",
       "Darkness - no lighting          37437\n",
       "Darkness - lighting unknown      6484\n",
       "Darkness - lights unlit          2543\n",
       "Name: count, dtype: int64"
      ]
     },
     "execution_count": 98,
     "metadata": {},
     "output_type": "execute_result"
    }
   ],
   "source": [
    "accident[\"Light_Conditions\"].value_counts()"
   ]
  },
  {
   "cell_type": "markdown",
   "id": "1f86a56f-16d2-4656-bd2c-dadb9505131e",
   "metadata": {},
   "source": [
    " <h1 style=\"font-size:15px;\"><strong>Insight 6: Most accidents happen in daylight."
   ]
  },
  {
   "cell_type": "code",
   "execution_count": 99,
   "id": "81fd4e7e-adfd-46ac-a0ec-fc152dd08fba",
   "metadata": {},
   "outputs": [
    {
     "data": {
      "text/plain": [
       "Light_Conditions             Accident_Severity\n",
       "Darkness - lighting unknown  Slight                 5622\n",
       "                             Serious                 794\n",
       "                             Fatal                    68\n",
       "Darkness - lights lit        Slight               108345\n",
       "                             Serious               19130\n",
       "                             Fatal                  1860\n",
       "Darkness - lights unlit      Slight                 2138\n",
       "                             Serious                 360\n",
       "                             Fatal                    45\n",
       "Darkness - no lighting       Slight                28651\n",
       "Name: count, dtype: int64"
      ]
     },
     "execution_count": 99,
     "metadata": {},
     "output_type": "execute_result"
    }
   ],
   "source": [
    "accident.groupby(\"Light_Conditions\")[\"Accident_Severity\"].value_counts().head(10)"
   ]
  },
  {
   "cell_type": "markdown",
   "id": "a60e6775-1655-4ac3-a2ac-7096200edd7a",
   "metadata": {},
   "source": [
    "<h1 style=\"font-size:15px;\"><strong>Insight 7: Accidents in darkness without lighting are more severe compared to daylight."
   ]
  },
  {
   "cell_type": "markdown",
   "id": "b642d9ab-3ae0-44ea-a67e-d178e54648c5",
   "metadata": {},
   "source": [
    " <h1 style=\"font-size:20px;\"><strong> Q4. Number of vehicles per accident\n",
    "</h1>"
   ]
  },
  {
   "cell_type": "code",
   "execution_count": 100,
   "id": "c8184dc4-85fe-4ddc-9693-96c5ca03810f",
   "metadata": {},
   "outputs": [
    {
     "data": {
      "text/plain": [
       "Number_of_Vehicles\n",
       "1     200787\n",
       "2     391995\n",
       "3      52806\n",
       "4      11300\n",
       "5       2464\n",
       "6        758\n",
       "7        296\n",
       "8        147\n",
       "9         57\n",
       "10        27\n",
       "11        12\n",
       "12         7\n",
       "13         6\n",
       "14         9\n",
       "15         1\n",
       "16         4\n",
       "19         1\n",
       "28         1\n",
       "32         1\n",
       "Name: count, dtype: int64"
      ]
     },
     "execution_count": 100,
     "metadata": {},
     "output_type": "execute_result"
    }
   ],
   "source": [
    "accident[\"Number_of_Vehicles\"].value_counts().sort_index()\n",
    "\n"
   ]
  },
  {
   "cell_type": "markdown",
   "id": "3cb72952-9dc3-4505-b86d-3a05633bc08b",
   "metadata": {},
   "source": [
    "<h1 style=\"font-size:15px;\"><strong>Insight 8: Most accidents involve in 2 vehicles."
   ]
  },
  {
   "cell_type": "code",
   "execution_count": 101,
   "id": "44fe3ee6-8871-4101-a862-9659ef48775f",
   "metadata": {},
   "outputs": [
    {
     "data": {
      "text/plain": [
       "Number_of_Vehicles\n",
       "1      1.170932\n",
       "2      1.374880\n",
       "3      1.711169\n",
       "4      1.995575\n",
       "5      2.315341\n",
       "6      2.612137\n",
       "7      3.064189\n",
       "8      3.401361\n",
       "9      3.350877\n",
       "10     3.629630\n",
       "11     4.000000\n",
       "12     2.285714\n",
       "13     7.833333\n",
       "14     5.444444\n",
       "15     5.000000\n",
       "16     6.000000\n",
       "19    13.000000\n",
       "28    16.000000\n",
       "32     5.000000\n",
       "Name: Number_of_Casualties, dtype: float64"
      ]
     },
     "execution_count": 101,
     "metadata": {},
     "output_type": "execute_result"
    }
   ],
   "source": [
    "accident.groupby(\"Number_of_Vehicles\")[\"Number_of_Casualties\"].mean()\n"
   ]
  },
  {
   "cell_type": "markdown",
   "id": "2f1bf3c4-c979-4595-a53f-1eb18184aa1f",
   "metadata": {},
   "source": [
    "<h1 style=\"font-size:15px;\"><strong>Insight 9: Single vehicle accidents are fewer but often more severe."
   ]
  },
  {
   "cell_type": "markdown",
   "id": "ee453edb-d842-43b2-b564-87b38d3d6500",
   "metadata": {},
   "source": [
    " <h1 style=\"font-size:20px;\"><strong> Q5. District with most accidents\n",
    "</h1>"
   ]
  },
  {
   "cell_type": "code",
   "execution_count": 102,
   "id": "a5e0f321-53e4-4b5c-b371-e0140cf19b3a",
   "metadata": {},
   "outputs": [
    {
     "data": {
      "text/plain": [
       "District Area\n",
       "Birmingham          13491\n",
       "Leeds                8898\n",
       "Manchester           6720\n",
       "Bradford             6212\n",
       "Sheffield            5710\n",
       "Westminster          5706\n",
       "Liverpool            5587\n",
       "Glasgow City         4942\n",
       "Bristol, City of     4819\n",
       "Kirklees             4690\n",
       "Name: count, dtype: int64"
      ]
     },
     "execution_count": 102,
     "metadata": {},
     "output_type": "execute_result"
    }
   ],
   "source": [
    "accident[\"District Area\"].value_counts().head(10)\n"
   ]
  },
  {
   "cell_type": "markdown",
   "id": "456c7ae2-0879-4dbd-a354-22abd3e701ca",
   "metadata": {},
   "source": [
    "<h1 style=\"font-size:15px;\"><strong>Insight 10: Birmingham have more accidents"
   ]
  },
  {
   "cell_type": "markdown",
   "id": "b9ecefc9-ad4e-4ef0-88af-e43242fd61a9",
   "metadata": {},
   "source": [
    "<h1 style=\"font-size:20px;\"><strong> Q6. Casualties by district density\n",
    "</h1>"
   ]
  },
  {
   "cell_type": "code",
   "execution_count": 103,
   "id": "ef885316-ee79-4c51-b757-525cbf26f2e2",
   "metadata": {},
   "outputs": [
    {
     "data": {
      "text/plain": [
       "District Area\n",
       "Blaeu Gwent          1.693694\n",
       "West Somerset        1.613990\n",
       "Derwentside          1.606186\n",
       "Chester-le-Street    1.603306\n",
       "Durham               1.580431\n",
       "Blaenau Gwent        1.579310\n",
       "Fylde                1.569350\n",
       "Hambleton            1.568523\n",
       "Merthyr Tydfil       1.568182\n",
       "West Lancashire      1.566341\n",
       "Name: Number_of_Casualties, dtype: float64"
      ]
     },
     "execution_count": 103,
     "metadata": {},
     "output_type": "execute_result"
    }
   ],
   "source": [
    "accident.groupby(\"District Area\")[\"Number_of_Casualties\"].mean().sort_values(ascending=False).head(10)\n"
   ]
  },
  {
   "cell_type": "markdown",
   "id": "6345eb8e-4693-4dea-a08c-753762d65228",
   "metadata": {},
   "source": [
    "<h1 style=\"font-size:15px;\"><strong>Insight 11:Blaeu Gwent has the highest average with most crashes "
   ]
  },
  {
   "cell_type": "markdown",
   "id": "dc380c0e-460f-4eff-8a96-c4e3a65953ce",
   "metadata": {},
   "source": [
    "<h1 style=\"font-size:20px;\"><strong> Q7. Correlation between number of vehicles and casualties\n",
    "</h1>"
   ]
  },
  {
   "cell_type": "code",
   "execution_count": 104,
   "id": "e8f871fb-fafb-4b49-8265-5ac7bef77616",
   "metadata": {},
   "outputs": [
    {
     "data": {
      "text/html": [
       "<div>\n",
       "<style scoped>\n",
       "    .dataframe tbody tr th:only-of-type {\n",
       "        vertical-align: middle;\n",
       "    }\n",
       "\n",
       "    .dataframe tbody tr th {\n",
       "        vertical-align: top;\n",
       "    }\n",
       "\n",
       "    .dataframe thead th {\n",
       "        text-align: right;\n",
       "    }\n",
       "</style>\n",
       "<table border=\"1\" class=\"dataframe\">\n",
       "  <thead>\n",
       "    <tr style=\"text-align: right;\">\n",
       "      <th></th>\n",
       "      <th>Number_of_Vehicles</th>\n",
       "      <th>Number_of_Casualties</th>\n",
       "    </tr>\n",
       "  </thead>\n",
       "  <tbody>\n",
       "    <tr>\n",
       "      <th>Number_of_Vehicles</th>\n",
       "      <td>1.000000</td>\n",
       "      <td>0.228889</td>\n",
       "    </tr>\n",
       "    <tr>\n",
       "      <th>Number_of_Casualties</th>\n",
       "      <td>0.228889</td>\n",
       "      <td>1.000000</td>\n",
       "    </tr>\n",
       "  </tbody>\n",
       "</table>\n",
       "</div>"
      ],
      "text/plain": [
       "                      Number_of_Vehicles  Number_of_Casualties\n",
       "Number_of_Vehicles              1.000000              0.228889\n",
       "Number_of_Casualties            0.228889              1.000000"
      ]
     },
     "execution_count": 104,
     "metadata": {},
     "output_type": "execute_result"
    }
   ],
   "source": [
    "accident[[\"Number_of_Vehicles\",\"Number_of_Casualties\"]].corr()\n"
   ]
  },
  {
   "cell_type": "markdown",
   "id": "6c3755ad-9f77-48a2-b835-be9022f4191a",
   "metadata": {},
   "source": [
    "<h1 style=\"font-size:15px;\"><strong>Insight 12: There is a positive correlation"
   ]
  },
  {
   "cell_type": "code",
   "execution_count": 105,
   "id": "49a98072-7ef7-48ef-85db-90aaf77d2098",
   "metadata": {},
   "outputs": [
    {
     "data": {
      "text/plain": [
       "Day_of_Week\n",
       "Saturday     107178\n",
       "Wednesday     99558\n",
       "Thursday      99511\n",
       "Friday        97900\n",
       "Tuesday       94550\n",
       "Sunday        89302\n",
       "Monday        72680\n",
       "Name: count, dtype: int64"
      ]
     },
     "execution_count": 105,
     "metadata": {},
     "output_type": "execute_result"
    }
   ],
   "source": [
    "accident['Accident Date'] = pd.to_datetime(accident['Accident Date'])\n",
    "accident['Day_of_Week'] = accident['Accident Date'].dt.day_name()\n",
    "accident['Day_of_Week'].value_counts()\n"
   ]
  },
  {
   "cell_type": "markdown",
   "id": "94dddf06-4694-4165-85e9-7882afb20fa0",
   "metadata": {},
   "source": [
    "<h1 style=\"font-size:15px;\"><strong>Insight 13: Saturday has the most accidents."
   ]
  },
  {
   "cell_type": "markdown",
   "id": "53aeb898-12fb-4d86-bf21-82c84edd16ee",
   "metadata": {},
   "source": [
    "<h1 style=\"font-size:20px;\"><strong> Q8. Has more accidents (Urban and Rural)\n"
   ]
  },
  {
   "cell_type": "code",
   "execution_count": 106,
   "id": "dbf499de-0996-4b3e-8d65-651723c7a6df",
   "metadata": {},
   "outputs": [
    {
     "data": {
      "text/plain": [
       "Urban_or_Rural_Area\n",
       "Urban          421678\n",
       "Rural          238990\n",
       "Unallocated        11\n",
       "Name: count, dtype: int64"
      ]
     },
     "execution_count": 106,
     "metadata": {},
     "output_type": "execute_result"
    }
   ],
   "source": [
    "accident['Urban_or_Rural_Area'].value_counts()\n"
   ]
  },
  {
   "cell_type": "markdown",
   "id": "00a49cbc-09bf-40ca-9a93-d5725c46dbbf",
   "metadata": {},
   "source": [
    "<h1 style=\"font-size:15px;\"><strong>Insight 14: Urban areas usually have more accidents."
   ]
  },
  {
   "cell_type": "markdown",
   "id": "4f7a3034-e7ec-438d-96aa-b5d9947822eb",
   "metadata": {},
   "source": [
    "<h1 style=\"font-size:20px;\"><strong>\n",
    "VISUALIZATION "
   ]
  },
  {
   "cell_type": "markdown",
   "id": "9612342a-c61f-4c51-bacb-399584bda848",
   "metadata": {},
   "source": [
    "<h1 style=\"font-size:20px;\"><strong> Q9. Road surface conditions that are linked with accidents\n"
   ]
  },
  {
   "cell_type": "code",
   "execution_count": 107,
   "id": "eb736f86-e7e6-44ed-bf31-7c999fbc3c1f",
   "metadata": {},
   "outputs": [
    {
     "data": {
      "image/png": "[encoded data removed]",
      "text/plain": [
       "<Figure size 1000x500 with 1 Axes>"
      ]
     },
     "metadata": {},
     "output_type": "display_data"
    }
   ],
   "source": [
    "surface_counts = accident[\"Road_Surface_Conditions\"].value_counts()\n",
    "surface_counts.plot(color ='#6A0066', kind=\"bar\",figsize=(10,5), title=\"Accidents by Road Surface Condition\")\n",
    "plt.show()"
   ]
  },
  {
   "cell_type": "markdown",
   "id": "57f23ea6-725f-4be4-a9d6-f6f557a3bab1",
   "metadata": {},
   "source": [
    "<h1 style=\"font-size:15px;\"><strong>Insight 15: Most accidents occur on dry roads.\n",
    "<h2 style=\"font-size:15px;\"><strong> Insight 16: Accident numbers significantly increase on wet or damp roads."
   ]
  },
  {
   "cell_type": "markdown",
   "id": "8de26c94-db89-4c1b-8bbb-2696fb0038fd",
   "metadata": {},
   "source": [
    "<h1 style=\"font-size:20px;\"><strong> Q9. Monthly distribution of accident occurrences\n"
   ]
  },
  {
   "cell_type": "code",
   "execution_count": 108,
   "id": "29df6681-bfe5-4ff2-9993-8838fdf2e61e",
   "metadata": {},
   "outputs": [
    {
     "data": {
      "image/png": "[encoded data removed]",
      "text/plain": [
       "<Figure size 1000x500 with 1 Axes>"
      ]
     },
     "metadata": {},
     "output_type": "display_data"
    }
   ],
   "source": [
    "monthly_accidents = accident[\"Accident Date\"].dt.month.value_counts().sort_index()\n",
    "monthly_accidents.index = [\"Jan\",\"Feb\",\"Mar\",\"Apr\",\"May\",\"Jun\",\"Jul\",\"Aug\",\"Sep\",\"Oct\",\"Nov\",\"Dec\"]\n",
    "monthly_accidents.plot(color='#6A0066', kind=\"bar\", figsize=(10,5), title=\"Accidents by Month\")\n",
    "plt.show()"
   ]
  },
  {
   "cell_type": "markdown",
   "id": "1536e30b-184d-417a-9de0-00fb983b86f1",
   "metadata": {},
   "source": [
    "<h1 style=\"font-size:15px;\"><strong>Insight 17: The 2nd month (February) shows the lowest bar, meaning fewer accidents occur in February compared to other months\n",
    "<h2 style=\"font-size:15px;\"><strong> Insight 18: From May to June, the accident counts remain fairly steady without sharp peaks. This suggests that summer months have more stable accident trends"
   ]
  },
  {
   "cell_type": "markdown",
   "id": "857e32d1-36f3-4f29-a1bb-844fd2ff86ef",
   "metadata": {},
   "source": [
    "<h1 style=\"font-size:20px;\"><strong> Q10. Average Cassualties per Accidents \n"
   ]
  },
  {
   "cell_type": "code",
   "execution_count": 109,
   "id": "5aeae653-3240-4bfd-9568-107372ee8394",
   "metadata": {},
   "outputs": [
    {
     "data": {
      "image/png": "[encoded data removed]",
      "text/plain": [
       "<Figure size 1000x500 with 1 Axes>"
      ]
     },
     "metadata": {},
     "output_type": "display_data"
    }
   ],
   "source": [
    "casualty_distribution = accident[\"Number_of_Casualties\"].value_counts().sort_index()\n",
    "casualty_distribution.plot(color='#6A0066', kind=\"bar\", figsize=(10,5), title=\"Casualties per Accident\")\n",
    "plt.show()"
   ]
  },
  {
   "cell_type": "markdown",
   "id": "13c99013-4002-4fb7-8b2c-d3ea73a7243b",
   "metadata": {},
   "source": [
    "<h1 style=\"font-size:15px;\"><strong>Insight 19: it's indicates that most accidents result in one casualty\n",
    "<h2 style=\"font-size:15px;\"><strong> Insight 20: When you look at accidents with 2 or more casualties, the numbers drop fast, so those cases don’t happen as often."
   ]
  },
  {
   "cell_type": "code",
   "execution_count": null,
   "id": "20cd140a-6d91-4f21-bf61-bd9659fa9a48",
   "metadata": {},
   "outputs": [],
   "source": []
  }
 ],
 "metadata": {
  "kernelspec": {
   "display_name": "Python 3 (ipykernel)",
   "language": "python",
   "name": "python3"
  },
  "language_info": {
   "codemirror_mode": {
    "name": "ipython",
    "version": 3
   },
   "file_extension": ".py",
   "mimetype": "text/x-python",
   "name": "python",
   "nbconvert_exporter": "python",
   "pygments_lexer": "ipython3",
   "version": "3.12.10"
  }
 },
 "nbformat": 4,
 "nbformat_minor": 5
}
