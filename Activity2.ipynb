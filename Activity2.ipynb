{
 "cells": [
  {
   "cell_type": "markdown",
   "id": "c997aed3-ecda-4dfb-9f56-3ee5378ba2e6",
   "metadata": {},
   "source": [
    "<h1 style=\"font-size:20px;\"><strong>\n",
    "Activity 2: UK Accident Datasets </strong></h1>\n",
    "\n",
    "<p>Analyst: Imari Calado</p>\n",
    "\n",
    "\n",
    "    \n"
   ]
  },
  {
   "cell_type": "code",
   "execution_count": 33,
   "id": "54991917-6932-4977-a8c7-b67ee8d35b64",
   "metadata": {},
   "outputs": [],
   "source": [
    "import numpy as np \n",
    "import pandas as pd\n",
    "import seaborn as sns\n",
    "import matplotlib.pyplot as plt\n",
    "import warnings\n",
    "warnings.filterwarnings('ignore')"
   ]
  },
  {
   "cell_type": "code",
   "execution_count": 34,
   "id": "c3c0d277-cb4d-488f-9e80-bf3a9a9610b5",
   "metadata": {},
   "outputs": [],
   "source": [
    "accident = pd.read_csv('accident_data.csv')"
   ]
  },
  {
   "cell_type": "code",
   "execution_count": 35,
   "id": "3d9d4004-5c78-40fc-b8d7-249cca6afec7",
   "metadata": {},
   "outputs": [
    {
     "data": {
      "text/html": [
       "<div>\n",
       "<style scoped>\n",
       "    .dataframe tbody tr th:only-of-type {\n",
       "        vertical-align: middle;\n",
       "    }\n",
       "\n",
       "    .dataframe tbody tr th {\n",
       "        vertical-align: top;\n",
       "    }\n",
       "\n",
       "    .dataframe thead th {\n",
       "        text-align: right;\n",
       "    }\n",
       "</style>\n",
       "<table border=\"1\" class=\"dataframe\">\n",
       "  <thead>\n",
       "    <tr style=\"text-align: right;\">\n",
       "      <th></th>\n",
       "      <th>Index</th>\n",
       "      <th>Accident_Severity</th>\n",
       "      <th>Accident Date</th>\n",
       "      <th>Latitude</th>\n",
       "      <th>Light_Conditions</th>\n",
       "      <th>District Area</th>\n",
       "      <th>Longitude</th>\n",
       "      <th>Number_of_Casualties</th>\n",
       "      <th>Number_of_Vehicles</th>\n",
       "      <th>Road_Surface_Conditions</th>\n",
       "      <th>Road_Type</th>\n",
       "      <th>Urban_or_Rural_Area</th>\n",
       "      <th>Weather_Conditions</th>\n",
       "      <th>Vehicle_Type</th>\n",
       "    </tr>\n",
       "  </thead>\n",
       "  <tbody>\n",
       "    <tr>\n",
       "      <th>0</th>\n",
       "      <td>200701BS64157</td>\n",
       "      <td>Serious</td>\n",
       "      <td>05/06/2019</td>\n",
       "      <td>51.506187</td>\n",
       "      <td>Darkness - lights lit</td>\n",
       "      <td>Kensington and Chelsea</td>\n",
       "      <td>-0.209082</td>\n",
       "      <td>1</td>\n",
       "      <td>2</td>\n",
       "      <td>Dry</td>\n",
       "      <td>Single carriageway</td>\n",
       "      <td>Urban</td>\n",
       "      <td>Fine no high winds</td>\n",
       "      <td>Car</td>\n",
       "    </tr>\n",
       "    <tr>\n",
       "      <th>1</th>\n",
       "      <td>200701BS65737</td>\n",
       "      <td>Serious</td>\n",
       "      <td>02/07/2019</td>\n",
       "      <td>51.495029</td>\n",
       "      <td>Daylight</td>\n",
       "      <td>Kensington and Chelsea</td>\n",
       "      <td>-0.173647</td>\n",
       "      <td>1</td>\n",
       "      <td>2</td>\n",
       "      <td>Wet or damp</td>\n",
       "      <td>Single carriageway</td>\n",
       "      <td>Urban</td>\n",
       "      <td>Raining no high winds</td>\n",
       "      <td>Car</td>\n",
       "    </tr>\n",
       "    <tr>\n",
       "      <th>2</th>\n",
       "      <td>200701BS66127</td>\n",
       "      <td>Serious</td>\n",
       "      <td>26/08/2019</td>\n",
       "      <td>51.517715</td>\n",
       "      <td>Darkness - lighting unknown</td>\n",
       "      <td>Kensington and Chelsea</td>\n",
       "      <td>-0.210215</td>\n",
       "      <td>1</td>\n",
       "      <td>3</td>\n",
       "      <td>Dry</td>\n",
       "      <td>NaN</td>\n",
       "      <td>Urban</td>\n",
       "      <td>NaN</td>\n",
       "      <td>Taxi/Private hire car</td>\n",
       "    </tr>\n",
       "    <tr>\n",
       "      <th>3</th>\n",
       "      <td>200701BS66128</td>\n",
       "      <td>Serious</td>\n",
       "      <td>16/08/2019</td>\n",
       "      <td>51.495478</td>\n",
       "      <td>Daylight</td>\n",
       "      <td>Kensington and Chelsea</td>\n",
       "      <td>-0.202731</td>\n",
       "      <td>1</td>\n",
       "      <td>4</td>\n",
       "      <td>Dry</td>\n",
       "      <td>Single carriageway</td>\n",
       "      <td>Urban</td>\n",
       "      <td>Fine no high winds</td>\n",
       "      <td>Bus or coach (17 or more pass seats)</td>\n",
       "    </tr>\n",
       "    <tr>\n",
       "      <th>4</th>\n",
       "      <td>200701BS66837</td>\n",
       "      <td>Slight</td>\n",
       "      <td>03/09/2019</td>\n",
       "      <td>51.488576</td>\n",
       "      <td>Darkness - lights lit</td>\n",
       "      <td>Kensington and Chelsea</td>\n",
       "      <td>-0.192487</td>\n",
       "      <td>1</td>\n",
       "      <td>2</td>\n",
       "      <td>Dry</td>\n",
       "      <td>NaN</td>\n",
       "      <td>Urban</td>\n",
       "      <td>NaN</td>\n",
       "      <td>Other vehicle</td>\n",
       "    </tr>\n",
       "  </tbody>\n",
       "</table>\n",
       "</div>"
      ],
      "text/plain": [
       "           Index Accident_Severity Accident Date   Latitude  \\\n",
       "0  200701BS64157           Serious    05/06/2019  51.506187   \n",
       "1  200701BS65737           Serious    02/07/2019  51.495029   \n",
       "2  200701BS66127           Serious    26/08/2019  51.517715   \n",
       "3  200701BS66128           Serious    16/08/2019  51.495478   \n",
       "4  200701BS66837            Slight    03/09/2019  51.488576   \n",
       "\n",
       "              Light_Conditions           District Area  Longitude  \\\n",
       "0        Darkness - lights lit  Kensington and Chelsea  -0.209082   \n",
       "1                     Daylight  Kensington and Chelsea  -0.173647   \n",
       "2  Darkness - lighting unknown  Kensington and Chelsea  -0.210215   \n",
       "3                     Daylight  Kensington and Chelsea  -0.202731   \n",
       "4        Darkness - lights lit  Kensington and Chelsea  -0.192487   \n",
       "\n",
       "   Number_of_Casualties  Number_of_Vehicles Road_Surface_Conditions  \\\n",
       "0                     1                   2                     Dry   \n",
       "1                     1                   2             Wet or damp   \n",
       "2                     1                   3                     Dry   \n",
       "3                     1                   4                     Dry   \n",
       "4                     1                   2                     Dry   \n",
       "\n",
       "            Road_Type Urban_or_Rural_Area     Weather_Conditions  \\\n",
       "0  Single carriageway               Urban     Fine no high winds   \n",
       "1  Single carriageway               Urban  Raining no high winds   \n",
       "2                 NaN               Urban                    NaN   \n",
       "3  Single carriageway               Urban     Fine no high winds   \n",
       "4                 NaN               Urban                    NaN   \n",
       "\n",
       "                           Vehicle_Type  \n",
       "0                                   Car  \n",
       "1                                   Car  \n",
       "2                 Taxi/Private hire car  \n",
       "3  Bus or coach (17 or more pass seats)  \n",
       "4                         Other vehicle  "
      ]
     },
     "execution_count": 35,
     "metadata": {},
     "output_type": "execute_result"
    }
   ],
   "source": [
    "accident.head()"
   ]
  },
  {
   "cell_type": "code",
   "execution_count": 36,
   "id": "814b0cbc-4a24-4411-8ef2-57c4ee66c13f",
   "metadata": {},
   "outputs": [
    {
     "data": {
      "text/plain": [
       "Index                          0\n",
       "Accident_Severity              0\n",
       "Accident Date                  0\n",
       "Latitude                      25\n",
       "Light_Conditions               0\n",
       "District Area                  0\n",
       "Longitude                     26\n",
       "Number_of_Casualties           0\n",
       "Number_of_Vehicles             0\n",
       "Road_Surface_Conditions      726\n",
       "Road_Type                   4520\n",
       "Urban_or_Rural_Area           15\n",
       "Weather_Conditions         14128\n",
       "Vehicle_Type                   0\n",
       "dtype: int64"
      ]
     },
     "execution_count": 36,
     "metadata": {},
     "output_type": "execute_result"
    }
   ],
   "source": [
    "accident.isnull().sum()"
   ]
  },
  {
   "cell_type": "markdown",
   "id": "b0563697-ba39-4afd-9f9a-38d5ab2a11a0",
   "metadata": {},
   "source": [
    "<h1 style=\"font-size:20px;\"><strong>\n",
    "Data Cleansing\n",
    "\n",
    "\n",
    "    \n"
   ]
  },
  {
   "cell_type": "code",
   "execution_count": 37,
   "id": "1112456b-a684-4697-9872-779cfa1b48a8",
   "metadata": {},
   "outputs": [],
   "source": [
    "accident['Latitude'] = accident['Latitude'].fillna(accident['Latitude'].mode()[0])\n",
    "accident['Longitude'] = accident['Longitude'].fillna(accident['Latitude'].mode()[0])\n",
    "accident['Road_Surface_Conditions'] = accident['Road_Surface_Conditions'].fillna('unaccounted')\n",
    "accident['Road_Type'] = accident['Road_Type'].fillna('unaccounted')\n",
    "accident['Accident Date'] = accident['Accident Date'].fillna(0)\n",
    "accident['Urban_or_Rural_Area'] = accident['Urban_or_Rural_Area'].fillna(accident['Urban_or_Rural_Area'].mode()[0])\n",
    "accident['Weather_Conditions'] = accident['Weather_Conditions'].fillna(accident['Weather_Conditions'].mode()[0])\n"
   ]
  },
  {
   "cell_type": "code",
   "execution_count": 38,
   "id": "be202ff2-5d13-4903-949e-e266fa5a8a02",
   "metadata": {},
   "outputs": [
    {
     "data": {
      "text/plain": [
       "Index                      0\n",
       "Accident_Severity          0\n",
       "Accident Date              0\n",
       "Latitude                   0\n",
       "Light_Conditions           0\n",
       "District Area              0\n",
       "Longitude                  0\n",
       "Number_of_Casualties       0\n",
       "Number_of_Vehicles         0\n",
       "Road_Surface_Conditions    0\n",
       "Road_Type                  0\n",
       "Urban_or_Rural_Area        0\n",
       "Weather_Conditions         0\n",
       "Vehicle_Type               0\n",
       "dtype: int64"
      ]
     },
     "execution_count": 38,
     "metadata": {},
     "output_type": "execute_result"
    }
   ],
   "source": [
    "accident.isnull().sum()"
   ]
  },
  {
   "cell_type": "markdown",
   "id": "1c4d069a-8ca0-4c92-8d53-b5759659bdd4",
   "metadata": {},
   "source": [
    "<h1 style=\"font-size:20px;\"><strong>\n",
    "Categorical Data Fields </h1>"
   ]
  },
  {
   "cell_type": "code",
   "execution_count": 39,
   "id": "406a16c0-7e56-4dda-9733-b3a2573c9f08",
   "metadata": {},
   "outputs": [
    {
     "name": "stdout",
     "output_type": "stream",
     "text": [
      "<class 'pandas.core.frame.DataFrame'>\n",
      "RangeIndex: 660679 entries, 0 to 660678\n",
      "Data columns (total 14 columns):\n",
      " #   Column                   Non-Null Count   Dtype  \n",
      "---  ------                   --------------   -----  \n",
      " 0   Index                    660679 non-null  object \n",
      " 1   Accident_Severity        660679 non-null  object \n",
      " 2   Accident Date            660679 non-null  object \n",
      " 3   Latitude                 660679 non-null  float64\n",
      " 4   Light_Conditions         660679 non-null  object \n",
      " 5   District Area            660679 non-null  object \n",
      " 6   Longitude                660679 non-null  float64\n",
      " 7   Number_of_Casualties     660679 non-null  int64  \n",
      " 8   Number_of_Vehicles       660679 non-null  int64  \n",
      " 9   Road_Surface_Conditions  660679 non-null  object \n",
      " 10  Road_Type                660679 non-null  object \n",
      " 11  Urban_or_Rural_Area      660679 non-null  object \n",
      " 12  Weather_Conditions       660679 non-null  object \n",
      " 13  Vehicle_Type             660679 non-null  object \n",
      "dtypes: float64(2), int64(2), object(10)\n",
      "memory usage: 70.6+ MB\n"
     ]
    }
   ],
   "source": [
    "accident.info()"
   ]
  },
  {
   "cell_type": "code",
   "execution_count": 40,
   "id": "518ac9b6-a47e-4949-b764-7d70d2ba3fc0",
   "metadata": {},
   "outputs": [],
   "source": [
    "accident['Index'] = accident ['Index'].astype('category')\n",
    "accident['Light_Conditions'] = accident ['Light_Conditions'].astype('category')\n",
    "accident['District Area'] = accident ['District Area'].astype('category')\n",
    "accident['Road_Surface_Conditions'] = accident ['Road_Surface_Conditions'].astype('category')\n",
    "accident['Road_Type'] = accident ['Road_Type'].astype('category')\n",
    "accident['Urban_or_Rural_Area'] = accident ['Urban_or_Rural_Area'].astype('category')\n",
    "accident['Weather_Conditions'] = accident ['Weather_Conditions'].astype('category')\n",
    "accident['Vehicle_Type'] = accident ['Vehicle_Type'].astype('category')\n"
   ]
  },
  {
   "cell_type": "code",
   "execution_count": 41,
   "id": "006a2c6e-c463-48d8-8aac-a3d6ed868b37",
   "metadata": {},
   "outputs": [
    {
     "name": "stdout",
     "output_type": "stream",
     "text": [
      "<class 'pandas.core.frame.DataFrame'>\n",
      "RangeIndex: 660679 entries, 0 to 660678\n",
      "Data columns (total 14 columns):\n",
      " #   Column                   Non-Null Count   Dtype   \n",
      "---  ------                   --------------   -----   \n",
      " 0   Index                    660679 non-null  category\n",
      " 1   Accident_Severity        660679 non-null  object  \n",
      " 2   Accident Date            660679 non-null  object  \n",
      " 3   Latitude                 660679 non-null  float64 \n",
      " 4   Light_Conditions         660679 non-null  category\n",
      " 5   District Area            660679 non-null  category\n",
      " 6   Longitude                660679 non-null  float64 \n",
      " 7   Number_of_Casualties     660679 non-null  int64   \n",
      " 8   Number_of_Vehicles       660679 non-null  int64   \n",
      " 9   Road_Surface_Conditions  660679 non-null  category\n",
      " 10  Road_Type                660679 non-null  category\n",
      " 11  Urban_or_Rural_Area      660679 non-null  category\n",
      " 12  Weather_Conditions       660679 non-null  category\n",
      " 13  Vehicle_Type             660679 non-null  category\n",
      "dtypes: category(8), float64(2), int64(2), object(2)\n",
      "memory usage: 57.2+ MB\n"
     ]
    }
   ],
   "source": [
    "accident.info()"
   ]
  },
  {
   "cell_type": "code",
   "execution_count": 42,
   "id": "190397b3-954f-443f-bf4c-db2ab4e1f305",
   "metadata": {},
   "outputs": [],
   "source": [
    "accident['Accident Date'] = accident ['Accident Date'].str.strip()\n",
    "\n",
    "accident['Accident Date'] = accident ['Accident Date'].astype('str')\n",
    "\n",
    "accident['Accident Date'] = accident ['Accident Date'].str.replace('/','-')\n",
    "\n",
    "accident['Accident Date'] = pd.to_datetime(accident['Accident Date'], dayfirst = True,  errors='coerce')\n"
   ]
  },
  {
   "cell_type": "markdown",
   "id": "9d5ab948-b4f6-450e-af81-ae4c3b32a46e",
   "metadata": {},
   "source": [
    "<h1 style=\"font-size:20px;\"><strong>\n",
    "Adjusting Data Types </h1>"
   ]
  },
  {
   "cell_type": "code",
   "execution_count": 43,
   "id": "4d462162-b2e2-45fa-a904-4bfca91488ed",
   "metadata": {},
   "outputs": [
    {
     "data": {
      "text/plain": [
       "Index                            category\n",
       "Accident_Severity                  object\n",
       "Accident Date              datetime64[ns]\n",
       "Latitude                          float64\n",
       "Light_Conditions                 category\n",
       "District Area                    category\n",
       "Longitude                         float64\n",
       "Number_of_Casualties                int64\n",
       "Number_of_Vehicles                  int64\n",
       "Road_Surface_Conditions          category\n",
       "Road_Type                        category\n",
       "Urban_or_Rural_Area              category\n",
       "Weather_Conditions               category\n",
       "Vehicle_Type                     category\n",
       "dtype: object"
      ]
     },
     "execution_count": 43,
     "metadata": {},
     "output_type": "execute_result"
    }
   ],
   "source": [
    "accident.dtypes"
   ]
  },
  {
   "cell_type": "markdown",
   "id": "d9521e89-a226-47cd-b050-5b15faec90b8",
   "metadata": {},
   "source": [
    "<h1 style=\"font-size:20px;\"><strong>\n",
    "Extracting date information using pandas date time </h1>"
   ]
  },
  {
   "cell_type": "code",
   "execution_count": 44,
   "id": "a66f3592-6830-46a4-8ae1-0202c45b829f",
   "metadata": {},
   "outputs": [],
   "source": [
    "accident['Year'] = accident['Accident Date'].dt.year\n",
    "accident['Month'] = accident['Accident Date'].dt.month\n",
    "accident['Day'] = accident['Accident Date'].dt.day\n",
    "accident['DayOfWeek'] = accident['Accident Date'].dt.dayofweek  # 0=Monday, 6=Sunday"
   ]
  },
  {
   "cell_type": "code",
   "execution_count": 45,
   "id": "cb66b02d-295d-422f-8753-5b1964897b5c",
   "metadata": {},
   "outputs": [
    {
     "data": {
      "text/plain": [
       "Index                      0\n",
       "Accident_Severity          0\n",
       "Accident Date              0\n",
       "Latitude                   0\n",
       "Light_Conditions           0\n",
       "District Area              0\n",
       "Longitude                  0\n",
       "Number_of_Casualties       0\n",
       "Number_of_Vehicles         0\n",
       "Road_Surface_Conditions    0\n",
       "Road_Type                  0\n",
       "Urban_or_Rural_Area        0\n",
       "Weather_Conditions         0\n",
       "Vehicle_Type               0\n",
       "Year                       0\n",
       "Month                      0\n",
       "Day                        0\n",
       "DayOfWeek                  0\n",
       "dtype: int64"
      ]
     },
     "execution_count": 45,
     "metadata": {},
     "output_type": "execute_result"
    }
   ],
   "source": [
    "accident.isnull().sum()"
   ]
  },
  {
   "cell_type": "markdown",
   "id": "730dc432-a97f-4260-add8-17b201182949",
   "metadata": {},
   "source": [
    "<h1 style=\"font-size:20px;\"><strong>\n",
    "UK Accident Questions </h1>"
   ]
  },
  {
   "cell_type": "markdown",
   "id": "c8db757b-863e-4467-9878-0f2e088a8162",
   "metadata": {},
   "source": [
    " <h1 style=\"font-size:20px;\"><strong> Q1.Total accidents are recorded in the dataset?\n",
    "</h1>"
   ]
  },
  {
   "cell_type": "code",
   "execution_count": 46,
   "id": "41c4794e-3543-4385-8d82-511ab28ed289",
   "metadata": {},
   "outputs": [
    {
     "data": {
      "text/plain": [
       "660679"
      ]
     },
     "execution_count": 46,
     "metadata": {},
     "output_type": "execute_result"
    }
   ],
   "source": [
    "len(accident)   \n"
   ]
  },
  {
   "cell_type": "markdown",
   "id": "a05d4c45-6c4f-4a94-942c-3ef151d6a0ff",
   "metadata": {},
   "source": [
    " <h1 style=\"font-size:15px;\"><strong> Insight 1: There are 660,679 accident records. \n",
    "</h1>"
   ]
  },
  {
   "cell_type": "code",
   "execution_count": 47,
   "id": "d74e306d-0e10-4ee3-b956-32572794eef5",
   "metadata": {},
   "outputs": [
    {
     "data": {
      "text/plain": [
       "1461"
      ]
     },
     "execution_count": 47,
     "metadata": {},
     "output_type": "execute_result"
    }
   ],
   "source": [
    "accident[\"Accident Date\"].nunique()  "
   ]
  },
  {
   "cell_type": "markdown",
   "id": "3d048666-7987-455a-85cc-9df357a2e535",
   "metadata": {},
   "source": [
    " <h1 style=\"font-size:15px;\"><strong> Insight 2: These accidents are spread across X unique dates. \n",
    "</h1>"
   ]
  },
  {
   "cell_type": "markdown",
   "id": "874abea9-cf9f-4f60-a3cf-6f2b72c029dc",
   "metadata": {},
   "source": [
    " <h1 style=\"font-size:20px;\"><strong> Q2. Most common accident severity\n",
    "</h1>"
   ]
  },
  {
   "cell_type": "code",
   "execution_count": 48,
   "id": "6d412f86-74da-4023-8b89-96606cb7b46f",
   "metadata": {},
   "outputs": [
    {
     "data": {
      "text/plain": [
       "Accident_Severity\n",
       "Slight     563801\n",
       "Serious     88217\n",
       "Fatal        8661\n",
       "Name: count, dtype: int64"
      ]
     },
     "execution_count": 48,
     "metadata": {},
     "output_type": "execute_result"
    }
   ],
   "source": [
    "accident[\"Accident_Severity\"].value_counts()\n"
   ]
  },
  {
   "cell_type": "markdown",
   "id": "ac49a2e6-ad5c-4a25-901b-66fb11d6389c",
   "metadata": {},
   "source": [
    "<h1 style=\"font-size:15px;\"><strong> Insight 3: Slight accidents are the most common type.</h1>\n",
    "<h2 style=\"font-size:15px;\"><strong> Insight 4: Fatal accidents are the least common type.</h2>"
   ]
  },
  {
   "cell_type": "code",
   "execution_count": 49,
   "id": "9d58fa30-d554-4bf1-889c-c159d0555d4e",
   "metadata": {},
   "outputs": [
    {
     "data": {
      "text/plain": [
       "Accident_Severity\n",
       "Slight     85.336601\n",
       "Serious    13.352475\n",
       "Fatal       1.310924\n",
       "Name: proportion, dtype: float64"
      ]
     },
     "execution_count": 49,
     "metadata": {},
     "output_type": "execute_result"
    }
   ],
   "source": [
    "accident[\"Accident_Severity\"].value_counts(normalize=True) * 100"
   ]
  },
  {
   "cell_type": "markdown",
   "id": "2848be43-7c3f-4f05-bda6-01f5b9065a6c",
   "metadata": {},
   "source": [
    "<h1 style=\"font-size:15px;\"><strong> Insight 5: Fatal accidents represent only a small percentage of total cases.\n",
    "</h1>"
   ]
  },
  {
   "cell_type": "code",
   "execution_count": 50,
   "id": "72da4a8f-3c5c-489c-8d34-af32a351a369",
   "metadata": {},
   "outputs": [
    {
     "data": {
      "text/plain": [
       "Accident_Severity\n",
       "Fatal      1.903129\n",
       "Serious    1.467280\n",
       "Slight     1.331402\n",
       "Name: Number_of_Casualties, dtype: float64"
      ]
     },
     "execution_count": 50,
     "metadata": {},
     "output_type": "execute_result"
    }
   ],
   "source": [
    "accident.groupby(\"Accident_Severity\")[\"Number_of_Casualties\"].mean()"
   ]
  },
  {
   "cell_type": "markdown",
   "id": "9aa5137e-6040-476f-8f6c-eb66964a6a40",
   "metadata": {},
   "source": [
    " <h1 style=\"font-size:15px;\"><strong>Insight 6: The average number of casualties is highest in fatal accidents."
   ]
  },
  {
   "cell_type": "markdown",
   "id": "fbfd7f0e-59ec-4909-9db3-496f306fc49f",
   "metadata": {},
   "source": [
    " <h1 style=\"font-size:20px;\"><strong> Q3. Accidents by light conditions\n",
    "</h1>"
   ]
  },
  {
   "cell_type": "code",
   "execution_count": 51,
   "id": "e4c89d01-ef67-47d1-9c9a-7f9f57899454",
   "metadata": {},
   "outputs": [
    {
     "data": {
      "text/plain": [
       "Light_Conditions\n",
       "Daylight                       484880\n",
       "Darkness - lights lit          129335\n",
       "Darkness - no lighting          37437\n",
       "Darkness - lighting unknown      6484\n",
       "Darkness - lights unlit          2543\n",
       "Name: count, dtype: int64"
      ]
     },
     "execution_count": 51,
     "metadata": {},
     "output_type": "execute_result"
    }
   ],
   "source": [
    "accident[\"Light_Conditions\"].value_counts()"
   ]
  },
  {
   "cell_type": "markdown",
   "id": "1f86a56f-16d2-4656-bd2c-dadb9505131e",
   "metadata": {},
   "source": [
    " <h1 style=\"font-size:15px;\"><strong>Insight 7: Most accidents happen in daylight."
   ]
  },
  {
   "cell_type": "code",
   "execution_count": 52,
   "id": "81fd4e7e-adfd-46ac-a0ec-fc152dd08fba",
   "metadata": {},
   "outputs": [
    {
     "data": {
      "text/plain": [
       "Light_Conditions             Accident_Severity\n",
       "Darkness - lighting unknown  Slight                 5622\n",
       "                             Serious                 794\n",
       "                             Fatal                    68\n",
       "Darkness - lights lit        Slight               108345\n",
       "                             Serious               19130\n",
       "                             Fatal                  1860\n",
       "Darkness - lights unlit      Slight                 2138\n",
       "                             Serious                 360\n",
       "                             Fatal                    45\n",
       "Darkness - no lighting       Slight                28651\n",
       "Name: count, dtype: int64"
      ]
     },
     "execution_count": 52,
     "metadata": {},
     "output_type": "execute_result"
    }
   ],
   "source": [
    "accident.groupby(\"Light_Conditions\")[\"Accident_Severity\"].value_counts().head(10)"
   ]
  },
  {
   "cell_type": "markdown",
   "id": "a60e6775-1655-4ac3-a2ac-7096200edd7a",
   "metadata": {},
   "source": [
    "<h1 style=\"font-size:15px;\"><strong>Insight 8: Accidents in darkness without lighting are more severe compared to daylight. </h1></strong>\n",
    "<h2 style=\"font-size:15px;\"><strong>Insight 9: Most nighttime accidents still happen where streetlights are lit. </h2>"
   ]
  },
  {
   "cell_type": "markdown",
   "id": "b642d9ab-3ae0-44ea-a67e-d178e54648c5",
   "metadata": {},
   "source": [
    " <h1 style=\"font-size:20px;\"><strong> Q4. Number of vehicles per accident\n",
    "</h1>"
   ]
  },
  {
   "cell_type": "code",
   "execution_count": 53,
   "id": "c8184dc4-85fe-4ddc-9693-96c5ca03810f",
   "metadata": {},
   "outputs": [
    {
     "data": {
      "text/plain": [
       "Number_of_Vehicles\n",
       "1     200787\n",
       "2     391995\n",
       "3      52806\n",
       "4      11300\n",
       "5       2464\n",
       "6        758\n",
       "7        296\n",
       "8        147\n",
       "9         57\n",
       "10        27\n",
       "11        12\n",
       "12         7\n",
       "13         6\n",
       "14         9\n",
       "15         1\n",
       "16         4\n",
       "19         1\n",
       "28         1\n",
       "32         1\n",
       "Name: count, dtype: int64"
      ]
     },
     "execution_count": 53,
     "metadata": {},
     "output_type": "execute_result"
    }
   ],
   "source": [
    "accident[\"Number_of_Vehicles\"].value_counts().sort_index()\n",
    "\n"
   ]
  },
  {
   "cell_type": "markdown",
   "id": "3cb72952-9dc3-4505-b86d-3a05633bc08b",
   "metadata": {},
   "source": [
    "<h1 style=\"font-size:15px;\"><strong>Insight 10: Most accidents involve in 2 vehicles."
   ]
  },
  {
   "cell_type": "code",
   "execution_count": 54,
   "id": "44fe3ee6-8871-4101-a862-9659ef48775f",
   "metadata": {},
   "outputs": [
    {
     "data": {
      "text/plain": [
       "Number_of_Vehicles\n",
       "1      1.170932\n",
       "2      1.374880\n",
       "3      1.711169\n",
       "4      1.995575\n",
       "5      2.315341\n",
       "6      2.612137\n",
       "7      3.064189\n",
       "8      3.401361\n",
       "9      3.350877\n",
       "10     3.629630\n",
       "11     4.000000\n",
       "12     2.285714\n",
       "13     7.833333\n",
       "14     5.444444\n",
       "15     5.000000\n",
       "16     6.000000\n",
       "19    13.000000\n",
       "28    16.000000\n",
       "32     5.000000\n",
       "Name: Number_of_Casualties, dtype: float64"
      ]
     },
     "execution_count": 54,
     "metadata": {},
     "output_type": "execute_result"
    }
   ],
   "source": [
    "accident.groupby(\"Number_of_Vehicles\")[\"Number_of_Casualties\"].mean()\n"
   ]
  },
  {
   "cell_type": "markdown",
   "id": "2f1bf3c4-c979-4595-a53f-1eb18184aa1f",
   "metadata": {},
   "source": [
    "<h1 style=\"font-size:15px;\"><strong>Insight 11: Single vehicle accidents are fewer but often more severe."
   ]
  },
  {
   "cell_type": "markdown",
   "id": "ee453edb-d842-43b2-b564-87b38d3d6500",
   "metadata": {},
   "source": [
    " <h1 style=\"font-size:20px;\"><strong> Q5. District with most accidents\n",
    "</h1>"
   ]
  },
  {
   "cell_type": "code",
   "execution_count": 55,
   "id": "a5e0f321-53e4-4b5c-b371-e0140cf19b3a",
   "metadata": {},
   "outputs": [
    {
     "data": {
      "text/plain": [
       "District Area\n",
       "Birmingham          13491\n",
       "Leeds                8898\n",
       "Manchester           6720\n",
       "Bradford             6212\n",
       "Sheffield            5710\n",
       "Westminster          5706\n",
       "Liverpool            5587\n",
       "Glasgow City         4942\n",
       "Bristol, City of     4819\n",
       "Kirklees             4690\n",
       "Name: count, dtype: int64"
      ]
     },
     "execution_count": 55,
     "metadata": {},
     "output_type": "execute_result"
    }
   ],
   "source": [
    "accident[\"District Area\"].value_counts().head(10)\n"
   ]
  },
  {
   "cell_type": "markdown",
   "id": "456c7ae2-0879-4dbd-a354-22abd3e701ca",
   "metadata": {},
   "source": [
    "<h1 style=\"font-size:15px;\"><strong>Insight 12: Birmingham have more accidents"
   ]
  },
  {
   "cell_type": "markdown",
   "id": "b9ecefc9-ad4e-4ef0-88af-e43242fd61a9",
   "metadata": {},
   "source": [
    "<h1 style=\"font-size:20px;\"><strong> Q6. Casualties by district density\n",
    "</h1>"
   ]
  },
  {
   "cell_type": "code",
   "execution_count": 56,
   "id": "ef885316-ee79-4c51-b757-525cbf26f2e2",
   "metadata": {},
   "outputs": [
    {
     "data": {
      "text/plain": [
       "District Area\n",
       "Blaeu Gwent          1.693694\n",
       "West Somerset        1.613990\n",
       "Derwentside          1.606186\n",
       "Chester-le-Street    1.603306\n",
       "Durham               1.580431\n",
       "Blaenau Gwent        1.579310\n",
       "Fylde                1.569350\n",
       "Hambleton            1.568523\n",
       "Merthyr Tydfil       1.568182\n",
       "West Lancashire      1.566341\n",
       "Name: Number_of_Casualties, dtype: float64"
      ]
     },
     "execution_count": 56,
     "metadata": {},
     "output_type": "execute_result"
    }
   ],
   "source": [
    "accident.groupby(\"District Area\")[\"Number_of_Casualties\"].mean().sort_values(ascending=False).head(10)\n"
   ]
  },
  {
   "cell_type": "markdown",
   "id": "6345eb8e-4693-4dea-a08c-753762d65228",
   "metadata": {},
   "source": [
    "<h1 style=\"font-size:15px;\"><strong>Insight 13:Blaeu Gwent has the highest average with most crashes "
   ]
  },
  {
   "cell_type": "markdown",
   "id": "dc380c0e-460f-4eff-8a96-c4e3a65953ce",
   "metadata": {},
   "source": [
    "<h1 style=\"font-size:20px;\"><strong> Q7. Correlation between number of vehicles and casualties\n",
    "</h1>"
   ]
  },
  {
   "cell_type": "code",
   "execution_count": 57,
   "id": "e8f871fb-fafb-4b49-8265-5ac7bef77616",
   "metadata": {},
   "outputs": [
    {
     "data": {
      "text/html": [
       "<div>\n",
       "<style scoped>\n",
       "    .dataframe tbody tr th:only-of-type {\n",
       "        vertical-align: middle;\n",
       "    }\n",
       "\n",
       "    .dataframe tbody tr th {\n",
       "        vertical-align: top;\n",
       "    }\n",
       "\n",
       "    .dataframe thead th {\n",
       "        text-align: right;\n",
       "    }\n",
       "</style>\n",
       "<table border=\"1\" class=\"dataframe\">\n",
       "  <thead>\n",
       "    <tr style=\"text-align: right;\">\n",
       "      <th></th>\n",
       "      <th>Number_of_Vehicles</th>\n",
       "      <th>Number_of_Casualties</th>\n",
       "    </tr>\n",
       "  </thead>\n",
       "  <tbody>\n",
       "    <tr>\n",
       "      <th>Number_of_Vehicles</th>\n",
       "      <td>1.000000</td>\n",
       "      <td>0.228889</td>\n",
       "    </tr>\n",
       "    <tr>\n",
       "      <th>Number_of_Casualties</th>\n",
       "      <td>0.228889</td>\n",
       "      <td>1.000000</td>\n",
       "    </tr>\n",
       "  </tbody>\n",
       "</table>\n",
       "</div>"
      ],
      "text/plain": [
       "                      Number_of_Vehicles  Number_of_Casualties\n",
       "Number_of_Vehicles              1.000000              0.228889\n",
       "Number_of_Casualties            0.228889              1.000000"
      ]
     },
     "execution_count": 57,
     "metadata": {},
     "output_type": "execute_result"
    }
   ],
   "source": [
    "accident[[\"Number_of_Vehicles\",\"Number_of_Casualties\"]].corr()\n"
   ]
  },
  {
   "cell_type": "markdown",
   "id": "6c3755ad-9f77-48a2-b835-be9022f4191a",
   "metadata": {},
   "source": [
    "<h1 style=\"font-size:15px;\"><strong>Insight 14: There is a positive correlation"
   ]
  },
  {
   "cell_type": "code",
   "execution_count": 58,
   "id": "49a98072-7ef7-48ef-85db-90aaf77d2098",
   "metadata": {},
   "outputs": [
    {
     "data": {
      "text/plain": [
       "Day_of_Week\n",
       "Saturday     107178\n",
       "Wednesday     99558\n",
       "Thursday      99511\n",
       "Friday        97900\n",
       "Tuesday       94550\n",
       "Sunday        89302\n",
       "Monday        72680\n",
       "Name: count, dtype: int64"
      ]
     },
     "execution_count": 58,
     "metadata": {},
     "output_type": "execute_result"
    }
   ],
   "source": [
    "accident['Accident Date'] = pd.to_datetime(accident['Accident Date'])\n",
    "accident['Day_of_Week'] = accident['Accident Date'].dt.day_name()\n",
    "accident['Day_of_Week'].value_counts()\n"
   ]
  },
  {
   "cell_type": "markdown",
   "id": "94dddf06-4694-4165-85e9-7882afb20fa0",
   "metadata": {},
   "source": [
    "<h1 style=\"font-size:15px;\"><strong>Insight 15: Saturday has the most accidents. </strong></h1>\n",
    "<h1 style=\"font-size:15px;\"><strong>Insight 16: Monday has the least number of accidents compared to other days of the week."
   ]
  },
  {
   "cell_type": "markdown",
   "id": "53aeb898-12fb-4d86-bf21-82c84edd16ee",
   "metadata": {},
   "source": [
    "<h1 style=\"font-size:20px;\"><strong> Q8. Has more accidents (Urban and Rural)\n"
   ]
  },
  {
   "cell_type": "code",
   "execution_count": 59,
   "id": "dbf499de-0996-4b3e-8d65-651723c7a6df",
   "metadata": {},
   "outputs": [
    {
     "data": {
      "text/plain": [
       "Urban_or_Rural_Area\n",
       "Urban          421678\n",
       "Rural          238990\n",
       "Unallocated        11\n",
       "Name: count, dtype: int64"
      ]
     },
     "execution_count": 59,
     "metadata": {},
     "output_type": "execute_result"
    }
   ],
   "source": [
    "accident['Urban_or_Rural_Area'].value_counts()\n"
   ]
  },
  {
   "cell_type": "markdown",
   "id": "00a49cbc-09bf-40ca-9a93-d5725c46dbbf",
   "metadata": {},
   "source": [
    "<h1 style=\"font-size:15px;\"><strong>Insight 17: Urban areas usually have more accidents."
   ]
  },
  {
   "cell_type": "markdown",
   "id": "4f7a3034-e7ec-438d-96aa-b5d9947822eb",
   "metadata": {},
   "source": [
    "<h1 style=\"font-size:20px;\"><strong>\n",
    "VISUALIZATION "
   ]
  },
  {
   "cell_type": "markdown",
   "id": "9612342a-c61f-4c51-bacb-399584bda848",
   "metadata": {},
   "source": [
    "<h1 style=\"font-size:20px;\"><strong> Q9. Road surface conditions that are linked with accidents\n"
   ]
  },
  {
   "cell_type": "code",
   "execution_count": 60,
   "id": "eb736f86-e7e6-44ed-bf31-7c999fbc3c1f",
   "metadata": {},
   "outputs": [
    {
     "data": {
      "image/png": "[encoded data removed]",
      "text/plain": [
       "<Figure size 1000x500 with 1 Axes>"
      ]
     },
     "metadata": {},
     "output_type": "display_data"
    }
   ],
   "source": [
    "surface_counts = accident[\"Road_Surface_Conditions\"].value_counts()\n",
    "surface_counts.plot(color ='#6A0066', kind=\"bar\",figsize=(10,5), title=\"Accidents by Road Surface Condition\")\n",
    "plt.show()"
   ]
  },
  {
   "cell_type": "markdown",
   "id": "57f23ea6-725f-4be4-a9d6-f6f557a3bab1",
   "metadata": {},
   "source": [
    "<h1 style=\"font-size:15px;\"><strong>Insight 18: Most accidents occur on dry roads.</strong></h1>\n",
    "<h2 style=\"font-size:15px;\"><strong> Insight 19: Accident numbers significantly increase on wet or damp roads.</strong></h2>\n",
    "<h2 style=\"font-size:15px;\"><strong> Insight 20: Few accidents happens on frost or ice roads and snow roads.\n",
    "\n"
   ]
  },
  {
   "cell_type": "markdown",
   "id": "8de26c94-db89-4c1b-8bbb-2696fb0038fd",
   "metadata": {},
   "source": [
    "<h1 style=\"font-size:20px;\"><strong> Q9. Monthly distribution of accident occurrences\n"
   ]
  },
  {
   "cell_type": "code",
   "execution_count": 61,
   "id": "29df6681-bfe5-4ff2-9993-8838fdf2e61e",
   "metadata": {},
   "outputs": [
    {
     "data": {
      "image/png": "[encoded data removed]",
      "text/plain": [
       "<Figure size 1000x500 with 1 Axes>"
      ]
     },
     "metadata": {},
     "output_type": "display_data"
    }
   ],
   "source": [
    "monthly_accidents = accident[\"Accident Date\"].dt.month.value_counts().sort_index()\n",
    "monthly_accidents.index = [\"Jan\",\"Feb\",\"Mar\",\"Apr\",\"May\",\"Jun\",\"Jul\",\"Aug\",\"Sep\",\"Oct\",\"Nov\",\"Dec\"]\n",
    "monthly_accidents.plot(color='#6A0066', kind=\"bar\", figsize=(10,5), title=\"Accidents by Month\")\n",
    "plt.show()"
   ]
  },
  {
   "cell_type": "markdown",
   "id": "1536e30b-184d-417a-9de0-00fb983b86f1",
   "metadata": {},
   "source": [
    "<h1 style=\"font-size:15px;\"><strong>Insight 21: The 2nd month (February) shows the lowest bar, meaning fewer accidents occur in February compared to other months </strong></h1>\n",
    "<h2 style=\"font-size:15px;\"><strong> Insight 22: From May to June, the accident counts remain fairly steady without sharp peaks. This suggests that summer months have more stable accident trends</strong></h2>\n",
    "    \n",
    "<h3 style=\"font-size:15px;\"><strong>Insight 23: October and November record the highest accident counts"
   ]
  },
  {
   "cell_type": "markdown",
   "id": "857e32d1-36f3-4f29-a1bb-844fd2ff86ef",
   "metadata": {},
   "source": [
    "<h1 style=\"font-size:20px;\"><strong> Q10. Average Cassualties per Accidents \n"
   ]
  },
  {
   "cell_type": "code",
   "execution_count": 62,
   "id": "5aeae653-3240-4bfd-9568-107372ee8394",
   "metadata": {},
   "outputs": [
    {
     "data": {
      "image/png": "[encoded data removed]",
      "text/plain": [
       "<Figure size 1000x500 with 1 Axes>"
      ]
     },
     "metadata": {},
     "output_type": "display_data"
    }
   ],
   "source": [
    "casualty_distribution = accident[\"Number_of_Casualties\"].value_counts().sort_index()\n",
    "casualty_distribution.plot(color='#6A0066', kind=\"bar\", figsize=(10,5), title=\"Casualties per Accident\")\n",
    "plt.show()"
   ]
  },
  {
   "cell_type": "markdown",
   "id": "13c99013-4002-4fb7-8b2c-d3ea73a7243b",
   "metadata": {},
   "source": [
    "<h1 style=\"font-size:15px;\"><strong>Insight 24: it's indicates that most accidents result in one casualty</strong></h1>\n",
    "<h2 style=\"font-size:15px;\"><strong> Insight 25: When you look at accidents with 2 or more casualties, the numbers drop fast, so those cases don’t happen as often."
   ]
  },
  {
   "cell_type": "markdown",
   "id": "ab0b6635-154d-4012-b52a-77c71c77406f",
   "metadata": {},
   "source": [
    "<h1 style=\"font-size:20px;\"><strong> ExploringData: National Trends to Local Insights"
   ]
  },
  {
   "cell_type": "code",
   "execution_count": 63,
   "id": "a5825f1d-e961-49b1-983c-554209123f48",
   "metadata": {},
   "outputs": [
    {
     "data": {
      "image/png": "[encoded data removed]",
      "text/plain": [
       "<Figure size 1000x500 with 1 Axes>"
      ]
     },
     "metadata": {},
     "output_type": "display_data"
    }
   ],
   "source": [
    "import matplotlib.pyplot as plt\n",
    "\n",
    "monthly_data = accident.groupby(['Year', 'Month']).size()\n",
    "\n",
    "monthly_data = monthly_data.unstack(level=0)\n",
    "\n",
    "monthly_data.plot(\n",
    "    marker='o', \n",
    "    figsize=(10, 5),\n",
    "    title='Monthly Road Accidents by Year (2019-2022)'\n",
    ")\n",
    "plt.xticks(range(1, 13), ['Jan','Feb','Mar','Apr','May','Jun','Jul','Aug','Sep','Oct','Nov','Dec'])\n",
    "plt.legend(title='Year and Month Severity Comparison', bbox_to_anchor = (1.05,1), loc='upper left')\n",
    "plt.grid(alpha=0.3)\n",
    "plt.show()"
   ]
  },
  {
   "cell_type": "markdown",
   "id": "3fb153d2-9cd3-4bb6-878d-768a97822409",
   "metadata": {},
   "source": [
    "<h1 style=\"font-size:15px;\"><strong>Insight 26: year 2019 had the highest accident counts and almost every month in 2019 recorded higher accidents compared to other years </strong></h1>\n",
    "\n",
    "<h1 style=\"font-size:15px;\"><strong>Insight 27: year 2022 had the lowest accident counts, The red line indicating the accident counts in year 2022 consistently stayed below the other years"
   ]
  },
  {
   "cell_type": "markdown",
   "id": "4b01c1bf-4d0a-4852-9edb-13138e0d8905",
   "metadata": {},
   "source": [
    " <h1 style=\"font-size:20px;\"><strong> GEOSPATIAL ANALYSIS\n",
    "</h1>"
   ]
  },
  {
   "cell_type": "code",
   "execution_count": 5,
   "id": "944379a9-06c3-4911-a2e8-ac9cad605dd5",
   "metadata": {},
   "outputs": [],
   "source": [
    "import folium\n",
    "from folium.plugins import HeatMap\n",
    "import pandas as pd\n",
    "\n",
    "file_path = \"accident_data.csv\"   \n",
    "accident = pd.read_csv(file_path)\n",
    "\n",
    "accident = accident.dropna(subset=[\"Latitude\", \"Longitude\"])\n"
   ]
  },
  {
   "cell_type": "code",
   "execution_count": 6,
   "id": "99c5217e-85de-404e-8c1c-4afb32194513",
   "metadata": {},
   "outputs": [],
   "source": [
    "westminster = accident[accident['District Area']== 'Westminster']"
   ]
  },
  {
   "cell_type": "code",
   "execution_count": 7,
   "id": "da317fcb-9dc3-4e7b-b8a2-35ac7bb154a6",
   "metadata": {},
   "outputs": [
    {
     "data": {
      "text/plain": [
       "Index                       object\n",
       "Accident_Severity           object\n",
       "Accident Date               object\n",
       "Latitude                   float64\n",
       "Light_Conditions            object\n",
       "District Area               object\n",
       "Longitude                  float64\n",
       "Number_of_Casualties         int64\n",
       "Number_of_Vehicles           int64\n",
       "Road_Surface_Conditions     object\n",
       "Road_Type                   object\n",
       "Urban_or_Rural_Area         object\n",
       "Weather_Conditions          object\n",
       "Vehicle_Type                object\n",
       "dtype: object"
      ]
     },
     "execution_count": 7,
     "metadata": {},
     "output_type": "execute_result"
    }
   ],
   "source": [
    "westminster.dtypes"
   ]
  },
  {
   "cell_type": "code",
   "execution_count": 8,
   "id": "61117a63-5e47-4c00-9898-ff1d98cc6a35",
   "metadata": {},
   "outputs": [],
   "source": [
    "westminster_fatal = westminster[westminster['Accident_Severity'] == 'Serious']"
   ]
  },
  {
   "cell_type": "code",
   "execution_count": 11,
   "id": "3d9ae02c-9ba3-4a25-86b4-c260d408a83a",
   "metadata": {},
   "outputs": [
    {
     "data": {
      "text/html": [
       "<div style=\"width:100%;\"><div style=\"position:relative;width:100%;height:0;padding-bottom:60%;\"><span style=\"color:#565656\">Make this Notebook Trusted to load map: File -> Trust Notebook</span><iframe srcdoc=\"&lt;!DOCTYPE html&gt;\n",
       "&lt;html&gt;\n",
       "&lt;head&gt;\n",
       "    \n",
       "    &lt;meta http-equiv=&quot;content-type&quot; content=&quot;text/html; charset=UTF-8&quot; /&gt;\n",
       "    &lt;script src=&quot;https://cdn.jsdelivr.net/npm/leaflet@1.9.3/dist/leaflet.js&quot;&gt;&lt;/script&gt;\n",
       "    &lt;script src=&quot;https://code.jquery.com/jquery-3.7.1.min.js&quot;&gt;&lt;/script&gt;\n",
       "    &lt;script src=&quot;https://cdn.jsdelivr.net/npm/bootstrap@5.2.2/dist/js/bootstrap.bundle.min.js&quot;&gt;&lt;/script&gt;\n",
       "    &lt;script src=&quot;https://cdnjs.cloudflare.com/ajax/libs/Leaflet.awesome-markers/2.0.2/leaflet.awesome-markers.js&quot;&gt;&lt;/script&gt;\n",
       "    &lt;link rel=&quot;stylesheet&quot; href=&quot;https://cdn.jsdelivr.net/npm/leaflet@1.9.3/dist/leaflet.css&quot;/&gt;\n",
       "    &lt;link rel=&quot;stylesheet&quot; href=&quot;https://cdn.jsdelivr.net/npm/bootstrap@5.2.2/dist/css/bootstrap.min.css&quot;/&gt;\n",
       "    &lt;link rel=&quot;stylesheet&quot; href=&quot;https://netdna.bootstrapcdn.com/bootstrap/3.0.0/css/bootstrap-glyphicons.css&quot;/&gt;\n",
       "    &lt;link rel=&quot;stylesheet&quot; href=&quot;https://cdn.jsdelivr.net/npm/@fortawesome/fontawesome-free@6.2.0/css/all.min.css&quot;/&gt;\n",
       "    &lt;link rel=&quot;stylesheet&quot; href=&quot;https://cdnjs.cloudflare.com/ajax/libs/Leaflet.awesome-markers/2.0.2/leaflet.awesome-markers.css&quot;/&gt;\n",
       "    &lt;link rel=&quot;stylesheet&quot; href=&quot;https://cdn.jsdelivr.net/gh/python-visualization/folium/folium/templates/leaflet.awesome.rotate.min.css&quot;/&gt;\n",
       "    \n",
       "            &lt;meta name=&quot;viewport&quot; content=&quot;width=device-width,\n",
       "                initial-scale=1.0, maximum-scale=1.0, user-scalable=no&quot; /&gt;\n",
       "            &lt;style&gt;\n",
       "                #map_c735d34a812573d0771a98ec82d4e068 {\n",
       "                    position: relative;\n",
       "                    width: 100.0%;\n",
       "                    height: 100.0%;\n",
       "                    left: 0.0%;\n",
       "                    top: 0.0%;\n",
       "                }\n",
       "                .leaflet-container { font-size: 1rem; }\n",
       "            &lt;/style&gt;\n",
       "\n",
       "            &lt;style&gt;html, body {\n",
       "                width: 100%;\n",
       "                height: 100%;\n",
       "                margin: 0;\n",
       "                padding: 0;\n",
       "            }\n",
       "            &lt;/style&gt;\n",
       "\n",
       "            &lt;style&gt;#map {\n",
       "                position:absolute;\n",
       "                top:0;\n",
       "                bottom:0;\n",
       "                right:0;\n",
       "                left:0;\n",
       "                }\n",
       "            &lt;/style&gt;\n",
       "\n",
       "            &lt;script&gt;\n",
       "                L_NO_TOUCH = false;\n",
       "                L_DISABLE_3D = false;\n",
       "            &lt;/script&gt;\n",
       "\n",
       "        \n",
       "    &lt;script src=&quot;https://cdn.jsdelivr.net/gh/python-visualization/folium@main/folium/templates/leaflet_heat.min.js&quot;&gt;&lt;/script&gt;\n",
       "&lt;/head&gt;\n",
       "&lt;body&gt;\n",
       "    \n",
       "    \n",
       "     &lt;h3 align=&quot;center&quot; style=&quot;font-size:20px; background-color: #6A0066; color: white; padding: 10px;&quot;&gt;\n",
       "         Fatal Accident Heatmap in Westminster\n",
       "     &lt;/h3&gt;\n",
       "     \n",
       "    \n",
       "            &lt;div class=&quot;folium-map&quot; id=&quot;map_c735d34a812573d0771a98ec82d4e068&quot; &gt;&lt;/div&gt;\n",
       "        \n",
       "&lt;/body&gt;\n",
       "&lt;script&gt;\n",
       "    \n",
       "    \n",
       "            var map_c735d34a812573d0771a98ec82d4e068 = L.map(\n",
       "                &quot;map_c735d34a812573d0771a98ec82d4e068&quot;,\n",
       "                {\n",
       "                    center: [51.512455616630675, -0.15341449028077755],\n",
       "                    crs: L.CRS.EPSG3857,\n",
       "                    ...{\n",
       "  &quot;zoom&quot;: 10,\n",
       "  &quot;zoomControl&quot;: true,\n",
       "  &quot;preferCanvas&quot;: false,\n",
       "}\n",
       "\n",
       "                }\n",
       "            );\n",
       "\n",
       "            \n",
       "\n",
       "        \n",
       "    \n",
       "            var tile_layer_51cbc24b44d3de4b55171ed2500240e7 = L.tileLayer(\n",
       "                &quot;https://tile.openstreetmap.org/{z}/{x}/{y}.png&quot;,\n",
       "                {\n",
       "  &quot;minZoom&quot;: 0,\n",
       "  &quot;maxZoom&quot;: 19,\n",
       "  &quot;maxNativeZoom&quot;: 19,\n",
       "  &quot;noWrap&quot;: false,\n",
       "  &quot;attribution&quot;: &quot;\\u0026copy; \\u003ca href=\\&quot;https://www.openstreetmap.org/copyright\\&quot;\\u003eOpenStreetMap\\u003c/a\\u003e contributors&quot;,\n",
       "  &quot;subdomains&quot;: &quot;abc&quot;,\n",
       "  &quot;detectRetina&quot;: false,\n",
       "  &quot;tms&quot;: false,\n",
       "  &quot;opacity&quot;: 1,\n",
       "}\n",
       "\n",
       "            );\n",
       "        \n",
       "    \n",
       "            tile_layer_51cbc24b44d3de4b55171ed2500240e7.addTo(map_c735d34a812573d0771a98ec82d4e068);\n",
       "        \n",
       "    \n",
       "            var heat_map_a7ffedd49eab3fafbe94d8b7d96bc56b = L.heatLayer(\n",
       "                [[51.49375, -0.155115], [51.522078, -0.201539], [51.522078, -0.201539], [51.518605, -0.15166], [51.50059, -0.149795], [51.497214, -0.152381], [51.510414, -0.128501], [51.507568, -0.130491], [51.506601, -0.143211], [51.510298, -0.138161], [51.499886, -0.128068], [51.520945, -0.180539], [51.522061, -0.159881], [51.501961, -0.151181], [51.502799, -0.15302], [51.514086, -0.150257], [51.516247, -0.161845], [51.512808, -0.132006], [51.523073, -0.196022], [51.503452, -0.148815], [51.522111, -0.16305], [51.488903, -0.132983], [51.506347, -0.127226], [51.500824, -0.124859], [51.52241, -0.193886], [51.51217, -0.131455], [51.533029, -0.188564], [51.505863, -0.130705], [51.512453, -0.115446], [51.522369, -0.162319], [51.500035, -0.126188], [51.493138, -0.139149], [51.511514, -0.141138], [51.515761, -0.142406], [51.51243, -0.130868], [51.510164, -0.187021], [51.514811, -0.144895], [51.499856, -0.126196], [51.531651, -0.175065], [51.515034, -0.136238], [51.510296, -0.138017], [51.52746, -0.183162], [51.523094, -0.15119], [51.520712, -0.165557], [51.531775, -0.177223], [51.514599, -0.154272], [51.515559, -0.181186], [51.526292, -0.206563], [51.523932, -0.15303], [51.533029, -0.188564], [51.514446, -0.133236], [51.512062, -0.175993], [51.508759, -0.137503], [51.501479, -0.177856], [51.50928, -0.130709], [51.526056, -0.197058], [51.520186, -0.160677], [51.501697, -0.174533], [51.525632, -0.204571], [51.507912, -0.123848], [51.507515, -0.127178], [51.506774, -0.142772], [51.514174, -0.15011], [51.496545, -0.144196], [51.535169, -0.164254], [51.520936, -0.145511], [51.515127, -0.142144], [51.523002, -0.151049], [51.511424, -0.141142], [51.515492, -0.176864], [51.513068, -0.131418], [51.501549, -0.16503], [51.49807, -0.14399], [51.512528, -0.188657], [51.501659, -0.160559], [51.528598, -0.175332], [51.515448, -0.139681], [51.490557, -0.152218], [51.531867, -0.177364], [51.521866, -0.158879], [51.513705, -0.154596], [51.511361, -0.148494], [51.512846, -0.162846], [51.510864, -0.179932], [51.491497, -0.149155], [51.52076, -0.157194], [51.492466, -0.147819], [51.514784, -0.195053], [51.512306, -0.128711], [51.512771, -0.11846], [51.522353, -0.155544], [51.512423, -0.158828], [51.485688, -0.134411], [51.507695, -0.127171], [51.515481, -0.147462], [51.512688, -0.130137], [51.490886, -0.150332], [51.50161, -0.174681], [51.50913, -0.132588], [51.500092, -0.141027], [51.537153, -0.176143], [51.50084, -0.125867], [51.496014, -0.150413], [51.512619, -0.148443], [51.527588, -0.197286], [51.535333, -0.157471], [51.510459, -0.18283], [51.507299, -0.170419], [51.507453, -0.12891], [51.523162, -0.184342], [51.526371, -0.176718], [51.506947, -0.142333], [51.508976, -0.117319], [51.502428, -0.152314], [51.501479, -0.177856], [51.49807, -0.14399], [51.512509, -0.175831], [51.51985, -0.15651], [51.500204, -0.153845], [51.506291, -0.152014], [51.515759, -0.18824], [51.513494, -0.141202], [51.515682, -0.189108], [51.510533, -0.181818], [51.534068, -0.162857], [51.485193, -0.137168], [51.494957, -0.129134], [51.5017, -0.174677], [51.506781, -0.143204], [51.506893, -0.122016], [51.513784, -0.153873], [51.533147, -0.172987], [51.51416, -0.149245], [51.50987, -0.122614], [51.513598, -0.159213], [51.507987, -0.139841], [51.519808, -0.176836], [51.516743, -0.159086], [51.510461, -0.182974], [51.527681, -0.174215], [51.49581, -0.143218], [51.526886, -0.192556], [51.519889, -0.158959], [51.533197, -0.176157], [51.507451, -0.128766], [51.513952, -0.153145], [51.511135, -0.128615], [51.515132, -0.142432], [51.527692, -0.180702], [51.509128, -0.132444], [51.514807, -0.144607], [51.507731, -0.140716], [51.526719, -0.175983], [51.503461, -0.149391], [51.494533, -0.125118], [51.522368, -0.173707], [51.513633, -0.155752], [51.51122, -0.128324], [51.494738, -0.155075], [51.507163, -0.122005], [51.516112, -0.182028], [51.51505, -0.165784], [51.507047, -0.126045], [51.494357, -0.13665], [51.513058, -0.15347], [51.532076, -0.202587], [51.509476, -0.13171], [51.512241, -0.175985], [51.510771, -0.133962], [51.504663, -0.123117], [51.533145, -0.172843], [51.512271, -0.12093], [51.502698, -0.152304], [51.521905, -0.17286], [51.514407, -0.136408], [51.527379, -0.183742], [51.507955, -0.126584], [51.521631, -0.172583], [51.503351, -0.136715], [51.508308, -0.131757], [51.524297, -0.182135], [51.516847, -0.165712], [51.513953, -0.193644], [51.523602, -0.143529], [51.515686, -0.137653], [51.514209, -0.129642], [51.509795, -0.151872], [51.499154, -0.138615], [51.488389, -0.128971], [51.515846, -0.142115], [51.496037, -0.129234], [51.519554, -0.183621], [51.512681, -0.118463], [51.51945, -0.188526], [51.519913, -0.143391], [51.511094, -0.131643], [51.518218, -0.167098], [51.50206, -0.151753], [51.51349, -0.158064], [51.502698, -0.152304], [51.502149, -0.174659], [51.520799, -0.171175], [51.51803, -0.143755], [51.504803, -0.126281], [51.514717, -0.173292], [51.515925, -0.13577], [51.498217, -0.136204], [51.510472, -0.183694], [51.496754, -0.146061], [51.508864, -0.144128], [51.526016, -0.171254], [51.516186, -0.186782], [51.496468, -0.133682], [51.513451, -0.149851], [51.504808, -0.126569], [51.506939, -0.124896], [51.515762, -0.136785], [51.520215, -0.168315], [51.519913, -0.143391], [51.515023, -0.129897], [51.499641, -0.129662], [51.51105, -0.180356], [51.50257, -0.149859], [51.512057, -0.130019], [51.49638, -0.15083], [51.519492, -0.168056], [51.521408, -0.193061], [51.487071, -0.130897], [51.50842, -0.138814], [51.496635, -0.144193], [51.527007, -0.212158], [51.517557, -0.182403], [51.507149, -0.126761], [51.500367, -0.169976], [51.497399, -0.135661], [51.524147, -0.201602], [51.492451, -0.152574], [51.50248, -0.149863], [51.528332, -0.181397], [51.511619, -0.176443], [51.513146, -0.159087], [51.519071, -0.158416], [51.498068, -0.143846], [51.508762, -0.132027], [51.497116, -0.14619], [51.516392, -0.142525], [51.523161, -0.149745], [51.524063, -0.144231], [51.536165, -0.176183], [51.516304, -0.131286], [51.505775, -0.130852], [51.485197, -0.137455], [51.49461, -0.152631], [51.530538, -0.184481], [51.512383, -0.167765], [51.511669, -0.139546], [51.517867, -0.167689], [51.513301, -0.129103], [51.50261, -0.152451], [51.529116, -0.17978], [51.506586, -0.147967], [51.493138, -0.139149], [51.499856, -0.126196], [51.502138, -0.139646], [51.515609, -0.138521], [51.512538, -0.166173], [51.508831, -0.125107], [51.497452, -0.156118], [51.520443, -0.200451], [51.519636, -0.188951], [51.51524, -0.154967], [51.52494, -0.165675], [51.520758, -0.15705], [51.510304, -0.184421], [51.520533, -0.200447], [51.50161, -0.174681], [51.502475, -0.149575], [51.512531, -0.148591], [51.513945, -0.152713], [51.509275, -0.136041], [51.502157, -0.152181], [51.519148, -0.169079], [51.523882, -0.178547], [51.513636, -0.155896], [51.52255, -0.173844], [51.510253, -0.146666], [51.524145, -0.201458], [51.520435, -0.170901], [51.508305, -0.131613], [51.51489, -0.144171], [51.519439, -0.187806], [51.524343, -0.150562], [51.527876, -0.180983], [51.517462, -0.182119], [51.521028, -0.145652], [51.523566, -0.198886], [51.528267, -0.165685], [51.511736, -0.132482], [51.515834, -0.164167], [51.514731, -0.168391], [51.514928, -0.135234], [51.51305, -0.113404], [51.511252, -0.113478], [51.51385, -0.129657], [51.519548, -0.177423], [51.519123, -0.144576], [51.523724, -0.145542], [51.515387, -0.130171], [51.525164, -0.197525], [51.523845, -0.153177], [51.512515, -0.158968], [51.535239, -0.162954], [51.502815, -0.154028], [51.513032, -0.129114], [51.512627, -0.143254], [51.519977, -0.176109], [51.513422, -0.153743], [51.517545, -0.141469], [51.514174, -0.15011], [51.498043, -0.153644], [51.514337, -0.177775], [51.517462, -0.182119], [51.492555, -0.147816], [51.521547, -0.167253], [51.49634, -0.14262], [51.508054, -0.127156], [51.514029, -0.12965], [51.534103, -0.188233], [51.513779, -0.153585], [51.50813, -0.126289], [51.515929, -0.187657], [51.5008, -0.123419], [51.51125, -0.118955], [51.534248, -0.174385], [51.521933, -0.157435], [51.519671, -0.185346], [51.512383, -0.167765], [51.515718, -0.134049], [51.509839, -0.137603], [51.513276, -0.116277], [51.501832, -0.160119], [51.502605, -0.123778], [51.519739, -0.172371], [51.525261, -0.203865], [51.518001, -0.141883], [51.510536, -0.119272], [51.507515, -0.127178], [51.525859, -0.178469], [51.510043, -0.133416], [51.512848, -0.16299], [51.523022, -0.152346], [51.496111, -0.145222], [51.502246, -0.152178], [51.492998, -0.147366], [51.500812, -0.124139], [51.495283, -0.149722], [51.533524, -0.156823], [51.515854, -0.136926], [51.502043, -0.173655], [51.511556, -0.17241], [51.506123, -0.130118], [51.52878, -0.163935], [51.512287, -0.19054], [51.51267, -0.128985], [51.513659, -0.123323], [51.524058, -0.201606], [51.511791, -0.152944], [51.508504, -0.127138], [51.529181, -0.213226], [51.506774, -0.142772], [51.519938, -0.144975], [51.495744, -0.133424], [51.518785, -0.151652], [51.520938, -0.157043], [51.488834, -0.134282], [51.523558, -0.175101], [51.512381, -0.167621], [51.507077, -0.127917], [51.510066, -0.134856], [51.509277, -0.136185], [51.525889, -0.186252], [51.533532, -0.192004], [51.508506, -0.127282], [51.512868, -0.147136], [51.523614, -0.16717], [51.515409, -0.160005], [51.501355, -0.181463], [51.52815, -0.181261], [51.499902, -0.174749], [51.493789, -0.140563], [51.506686, -0.14292], [51.500794, -0.122987], [51.503307, -0.150982], [51.516311, -0.131718], [51.533147, -0.172987], [51.512679, -0.157953], [51.51122, -0.128324], [51.525166, -0.19767], [51.497399, -0.135661], [51.501697, -0.174533], [51.513068, -0.159811], [51.493996, -0.125284], [51.504805, -0.126425], [51.515495, -0.131319], [51.509951, -0.133275], [51.514739, -0.146051], [51.514257, -0.166825], [51.519952, -0.18029], [51.514345, -0.189882], [51.496917, -0.139283], [51.537627, -0.17771], [51.51458, -0.135969], [51.511299, -0.13322], [51.504567, -0.151075], [51.535326, -0.185877], [51.510266, -0.14753], [51.5089, -0.135048], [51.514571, -0.146779], [51.514912, -0.156998], [51.489191, -0.128506], [51.500148, -0.127625], [51.524614, -0.202737], [51.496881, -0.125741], [51.519914, -0.172075], [51.510771, -0.133962], [51.501925, -0.126255], [51.509969, -0.134428], [51.490223, -0.136818], [51.506689, -0.143064], [51.528242, -0.181401], [51.516175, -0.174531], [51.497069, -0.137548], [51.534248, -0.174385], [51.513871, -0.153725], [51.511942, -0.128438], [51.516112, -0.182028], [51.533283, -0.187544], [51.492391, -0.13745], [51.51906, -0.169227], [51.534154, -0.1741], [51.506467, -0.123475], [51.514176, -0.150254], [51.510946, -0.133667], [51.515125, -0.142], [51.524763, -0.148671], [51.501529, -0.123966], [51.523867, -0.200892], [51.492025, -0.148413], [51.513889, -0.149112], [51.507479, -0.153263], [51.510992, -0.119686], [51.502968, -0.152293], [51.513703, -0.154452], [51.487521, -0.142258], [51.512082, -0.131603], [51.514222, -0.141748], [51.503203, -0.150122], [51.533087, -0.19231], [51.50971, -0.140779], [51.5225, -0.193883], [51.536347, -0.176319], [51.509704, -0.134727], [51.512777, -0.18735], [51.51134, -0.11333], [51.522502, -0.194027], [51.516757, -0.165716], [51.512135, -0.157686], [51.51608, -0.134178], [51.485684, -0.145502], [51.534338, -0.174381], [51.507072, -0.133249], [51.517652, -0.188597], [51.503873, -0.152688], [51.524685, -0.18976], [51.512368, -0.115738], [51.517861, -0.167257], [51.507333, -0.121422], [51.500482, -0.126026], [51.512062, -0.119065], [51.51214, -0.157975], [51.522087, -0.172997], [51.522021, -0.1459], [51.518045, -0.167538], [51.511925, -0.172972], [51.490424, -0.126871], [51.511591, -0.13465], [51.525439, -0.203714], [51.512778, -0.193258], [51.507319, -0.131798], [51.499313, -0.142931], [51.520575, -0.191508], [51.511034, -0.133519], [51.511428, -0.118803], [51.513596, -0.170599], [51.512095, -0.166623], [51.522642, -0.173984], [51.498092, -0.134048], [51.488488, -0.129543], [51.51608, -0.156951], [51.499225, -0.143079], [51.510936, -0.138712], [51.506776, -0.142916], [51.488921, -0.134135], [51.514973, -0.143736], [51.500881, -0.12284], [51.509904, -0.136015], [51.499671, -0.148536], [51.485123, -0.138467], [51.503793, -0.136265], [51.525861, -0.178613], [51.514497, -0.147791], [51.523975, -0.144379], [51.507953, -0.12644], [51.52317, -0.150322], [51.50987, -0.122614], [51.514174, -0.15011], [51.520467, -0.167152], [51.509347, -0.123645], [51.488751, -0.1291], [51.512033, -0.151205], [51.495934, -0.145374], [51.528242, -0.181401], [51.494357, -0.13665], [51.520011, -0.172504], [51.50778, -0.126879], [51.520404, -0.140344], [51.520087, -0.177402], [51.522529, -0.161015], [51.523932, -0.15303], [51.515125, -0.142], [51.511432, -0.119091], [51.500909, -0.124568], [51.522115, -0.157572], [51.517613, -0.180239], [51.5063, -0.15259], [51.506257, -0.12723], [51.519915, -0.143535], [51.493508, -0.139854], [51.515659, -0.164463], [51.510547, -0.182682], [51.531632, -0.185447], [51.522799, -0.201655], [51.515476, -0.187387], [51.502243, -0.14627], [51.520134, -0.168895], [51.520378, -0.155768], [51.512945, -0.140647], [51.537245, -0.176284], [51.515244, -0.155255], [51.492691, -0.139311], [51.522971, -0.183629], [51.511282, -0.132212], [51.49638, -0.15083], [51.510114, -0.149265], [51.523022, -0.152346], [51.506341, -0.143798], [51.510303, -0.138449], [51.525169, -0.145916], [51.512599, -0.175827], [51.510564, -0.11538], [51.5017, -0.174677], [51.510061, -0.134568], [51.514663, -0.158305], [51.522528, -0.155249], [51.515256, -0.144589], [51.501268, -0.130172], [51.507747, -0.141724], [51.521875, -0.159456], [51.508817, -0.135483], [51.533373, -0.187541], [51.505685, -0.130856], [51.504924, -0.150917], [51.499763, -0.148676], [51.515214, -0.176299], [51.521446, -0.172302], [51.502089, -0.142242], [51.514124, -0.124313], [51.485845, -0.132964], [51.508868, -0.127411], [51.507361, -0.12877], [51.515374, -0.140693], [51.519938, -0.179426], [51.526917, -0.212161], [51.519578, -0.156377], [51.50717, -0.128057], [51.515041, -0.194178], [51.520734, -0.195971], [51.493005, -0.12518], [51.512617, -0.148299], [51.511531, -0.147911], [51.500794, -0.122987], [51.524015, -0.152594], [51.531404, -0.17075], [51.523883, -0.144238], [51.514183, -0.150686], [51.515681, -0.137365], [51.524671, -0.148531], [51.524597, -0.189907], [51.514692, -0.137405], [51.527117, -0.161118], [51.510523, -0.152419], [51.501605, -0.162866], [51.521284, -0.16193], [51.508166, -0.151218], [51.490067, -0.127029], [51.521801, -0.166234], [51.507641, -0.140719], [51.4947, -0.152627], [51.517563, -0.188601], [51.519605, -0.186934], [51.516223, -0.148874], [51.503113, -0.150125], [51.510568, -0.115668], [51.519701, -0.169922], [51.50709, -0.140021], [51.512808, -0.132006], [51.530516, -0.206397], [51.514894, -0.144459], [51.523194, -0.174827], [51.497254, -0.14921], [51.521753, -0.157442], [51.513319, -0.113393], [51.506473, -0.152151], [51.515508, -0.195312], [51.534588, -0.167306], [51.516395, -0.142669], [51.510918, -0.131939], [51.504565, -0.150931], [51.52372, -0.145254], [51.519689, -0.163436], [51.496661, -0.151539], [51.530213, -0.169356], [51.520002, -0.171928], [51.517385, -0.142773], [51.521976, -0.143018], [51.514892, -0.144315], [51.512944, -0.11802], [51.499194, -0.129825], [51.494627, -0.125402], [51.52674, -0.194724], [51.537066, -0.176291], [51.512958, -0.175813], [51.515397, -0.142133], [51.503782, -0.135545], [51.507363, -0.128914], [51.51386, -0.141619], [51.507785, -0.127167], [51.527501, -0.174222], [51.509951, -0.133275], [51.528634, -0.166103], [51.536515, -0.175592], [51.526082, -0.192876], [51.516743, -0.159086], [51.533329, -0.178891], [51.522552, -0.173988], [51.519307, -0.156244], [51.530718, -0.184474], [51.521815, -0.172864], [51.516407, -0.172071], [51.514414, -0.159612], [51.501696, -0.15148], [51.519245, -0.169507], [51.523164, -0.184486], [51.507667, -0.131063], [51.501533, -0.164022], [51.523883, -0.144238], [51.507638, -0.140575], [51.518945, -0.144727], [51.510059, -0.134424], [51.525344, -0.197518], [51.525771, -0.178616], [51.515305, -0.141993], [51.512679, -0.118319], [51.489415, -0.131233], [51.51787, -0.167833], [51.510211, -0.132688], [51.501356, -0.130025], [51.514179, -0.150398], [51.500539, -0.140864], [51.510405, -0.14493], [51.496594, -0.141601], [51.52842, -0.175483], [51.507262, -0.128198], [51.527202, -0.195571], [51.514097, -0.168128], [51.52203, -0.157864], [51.497722, -0.156107], [51.510313, -0.184997], [51.523221, -0.147869], [51.496131, -0.135137], [51.485109, -0.137603], [51.532254, -0.190757], [51.522526, -0.155105], [51.49568, -0.135011], [51.512149, -0.158551], [51.497322, -0.142148], [51.486282, -0.137843], [51.524744, -0.158907], [51.49123, -0.14931], [51.53443, -0.174522], [51.522439, -0.143864], [51.52611, -0.177305], [51.511612, -0.176011], [51.536075, -0.176186], [51.526301, -0.20714], [51.517494, -0.166839], [51.513578, -0.129524], [51.50192, -0.125967], [51.514995, -0.156562], [51.502229, -0.145406], [51.515216, -0.176443], [51.51217, -0.131455], [51.521234, -0.152995], [51.508157, -0.139257], [51.507573, -0.130779], [51.513784, -0.153873], [51.529546, -0.201822], [51.485597, -0.145649], [51.507356, -0.128482], [51.515213, -0.141852], [51.500837, -0.125723], [51.511983, -0.114169], [51.511837, -0.173119], [51.507549, -0.140579], [51.520056, -0.175385], [51.488756, -0.129388], [51.522033, -0.163774], [51.521128, -0.192351], [51.507573, -0.130779], [51.511561, -0.132777], [51.509628, -0.118733], [51.494689, -0.146289], [51.485935, -0.13296], [51.500246, -0.139435], [51.509218, -0.132441], [51.49299, -0.141171], [51.503613, -0.136272], [51.517406, -0.155456], [51.505376, -0.151042], [51.510481, -0.115816], [51.490246, -0.138258], [51.495964, -0.147245], [51.521954, -0.170264], [51.519632, -0.188663], [51.514892, -0.144315], [51.507425, -0.127182], [51.515658, -0.158697], [51.52946, -0.167223], [51.530716, -0.18433], [51.501337, -0.180311], [51.50191, -0.159396], [51.52179, -0.159747], [51.512375, -0.11617], [51.50565, -0.15132], [51.497865, -0.148033], [51.516247, -0.161845], [51.51364, -0.156184], [51.496659, -0.151395], [51.519035, -0.144724], [51.510169, -0.187309], [51.530869, -0.176827], [51.496609, -0.125609], [51.508123, -0.131477], [51.50013, -0.126473], [51.502797, -0.152876], [51.510827, -0.120557], [51.513261, -0.177962], [51.487832, -0.127841], [51.510416, -0.185858], [51.492299, -0.13731], [51.525767, -0.178328], [51.511131, -0.179777], [51.488589, -0.135877], [51.514894, -0.144459], [51.520433, -0.147838], [51.520761, -0.191933], [51.51472, -0.173436], [51.5286, -0.175476], [51.502964, -0.123763], [51.517316, -0.195962], [51.520819, -0.16094], [51.516557, -0.147275], [51.513398, -0.157924], [51.53541, -0.16237], [51.515155, -0.172554], [51.515459, -0.140401], [51.51316, -0.159951], [51.513032, -0.129114], [51.487926, -0.128125], [51.527586, -0.197141], [51.512106, -0.161579], [51.52271, -0.201659], [51.506859, -0.14248], [51.514571, -0.146779], [51.507236, -0.132234], [51.500796, -0.123131], [51.521704, -0.160039], [51.523333, -0.183759], [51.503215, -0.150842], [51.528409, -0.192207], [51.49357, -0.155122], [51.500803, -0.123563], [51.524258, -0.150854], [51.518824, -0.137093], [51.513036, -0.129402], [51.512922, -0.161978], [51.512686, -0.175679], [51.507869, -0.138116], [51.504944, -0.146449], [51.511191, -0.143457], [51.524147, -0.16095], [51.515836, -0.164311], [51.506427, -0.132267], [51.527115, -0.172508], [51.511592, -0.174714], [51.513638, -0.184865], [51.505349, -0.149314], [51.485689, -0.145789], [51.520511, -0.181565], [51.48962, -0.144189], [51.520042, -0.180286], [51.51473, -0.145475], [51.512537, -0.143258], [51.513034, -0.129258], [51.512705, -0.142531], [51.520017, -0.172936], [51.496831, -0.139574], [51.531754, -0.170159], [51.503203, -0.150122], [51.507293, -0.141454], [51.523147, -0.148881], [51.500382, -0.153694], [51.534655, -0.160094], [51.528424, -0.181538], [51.514784, -0.195053], [51.506838, -0.12418], [51.505128, -0.129726], [51.506561, -0.123759], [51.523147, -0.148881], [51.51699, -0.157635], [51.514778, -0.137114], [51.516845, -0.171333], [51.508488, -0.12051], [51.515296, -0.141416], [51.504487, -0.123412], [51.51174, -0.178455], [51.50743, -0.12747], [51.510481, -0.115816], [51.531682, -0.177083], [51.52292, -0.17455], [51.524715, -0.168567], [51.517224, -0.195821], [51.505171, -0.138082], [51.527223, -0.173657], [51.510711, -0.118977], [51.506452, -0.139471], [51.507118, -0.153133], [51.511435, -0.119235], [51.511901, -0.142852], [51.510771, -0.133962], [51.506982, -0.138873], [51.529833, -0.168073], [51.505699, -0.1261], [51.515115, -0.130038], [51.513664, -0.169155], [51.518076, -0.146636], [51.509313, -0.127105], [51.493633, -0.14201], [51.513389, -0.128955], [51.523237, -0.148877], [51.536347, -0.176319], [51.501061, -0.1626], [51.500842, -0.126011], [51.524504, -0.149403], [51.516066, -0.150321], [51.514017, -0.151557], [51.53315, -0.173131], [51.535757, -0.155868], [51.501614, -0.174969], [51.528375, -0.172601], [51.489543, -0.139295], [51.496157, -0.125483], [51.49029, -0.129757], [51.512306, -0.128711], [51.511835, -0.172975], [51.526623, -0.192999], [51.515213, -0.141852], [51.491246, -0.150318], [51.533465, -0.187681], [51.492578, -0.137875], [51.509439, -0.123785], [51.516302, -0.142528], [51.518045, -0.167538], [51.516403, -0.148866], [51.51295, -0.140935], [51.517053, -0.144516], [51.50849, -0.120654], [51.494924, -0.132737], [51.508074, -0.139693], [51.494275, -0.154229], [51.524323, -0.201307], [51.507665, -0.130919], [51.514573, -0.146923], [51.510187, -0.142489], [51.503436, -0.136424], [51.502146, -0.157225], [51.519056, -0.163173], [51.513252, -0.160091], [51.500939, -0.12644], [51.533147, -0.172987], [51.515735, -0.175125], [51.487521, -0.142258], [51.48939, -0.14103], [51.5005, -0.149799], [51.524985, -0.203443], [51.507122, -0.142037], [51.513717, -0.155317], [51.510868, -0.157161], [51.534065, -0.19155], [51.502964, -0.123763], [51.513081, -0.160675], [51.518605, -0.15166], [51.512529, -0.114578], [51.527785, -0.21602], [51.508072, -0.139549], [51.515744, -0.164171]],\n",
       "                {\n",
       "  &quot;minOpacity&quot;: 0.5,\n",
       "  &quot;maxZoom&quot;: 18,\n",
       "  &quot;radius&quot;: 25,\n",
       "  &quot;blur&quot;: 15,\n",
       "}\n",
       "            );\n",
       "        \n",
       "    \n",
       "            heat_map_a7ffedd49eab3fafbe94d8b7d96bc56b.addTo(map_c735d34a812573d0771a98ec82d4e068);\n",
       "        \n",
       "    \n",
       "            tile_layer_51cbc24b44d3de4b55171ed2500240e7.addTo(map_c735d34a812573d0771a98ec82d4e068);\n",
       "        \n",
       "    \n",
       "            heat_map_a7ffedd49eab3fafbe94d8b7d96bc56b.addTo(map_c735d34a812573d0771a98ec82d4e068);\n",
       "        \n",
       "&lt;/script&gt;\n",
       "&lt;/html&gt;\" style=\"position:absolute;width:100%;height:100%;left:0;top:0;border:none !important;\" allowfullscreen webkitallowfullscreen mozallowfullscreen></iframe></div></div>"
      ],
      "text/plain": [
       "<folium.folium.Map at 0x1b203dd9040>"
      ]
     },
     "execution_count": 11,
     "metadata": {},
     "output_type": "execute_result"
    }
   ],
   "source": [
    "import folium\n",
    "from folium.plugins import HeatMap\n",
    "\n",
    "locations  = list(zip(westminster_fatal['Latitude'],westminster_fatal['Longitude']))\n",
    "\n",
    "m = folium.Map(location=[westminster_fatal['Latitude'].mean(), westminster_fatal['Longitude'].mean()], zoom_start=10)\n",
    "\n",
    "\n",
    "title_html = \"\"\"\n",
    "     <h3 align=\"center\" style=\"font-size:20px; background-color: #6A0066; color: white; padding: 10px;\">\n",
    "         Fatal Accident Heatmap in Westminster\n",
    "     </h3>\n",
    "     \"\"\"\n",
    "\n",
    "m.get_root().html.add_child(folium.Element(title_html))\n",
    "\n",
    "\n",
    "HeatMap(locations).add_to(m)\n",
    "\n",
    "\n",
    "m.save('accident_heatmap.html') \n",
    "m  "
   ]
  },
  {
   "cell_type": "markdown",
   "id": "c8ab3074-f427-4349-9e0c-869e554b71b6",
   "metadata": {},
   "source": [
    "<h1 style=\"font-size:15px;\"><strong>Insight 28: The heatmap shows a concentrted region of fatal accidents around Westminster, likely indicating high-risk areas. The intensity of the red color suggests that this area has the highest frequency of accidents. </strong></h1>\n",
    "\n",
    "<h2 style=\"font-size:15px;\"><strong> Insight 29: The heatmap highlights the geographical distribution of fatal accidents, which can be useful for local authorities to identify hotspots.</h2>"
   ]
  },
  {
   "cell_type": "code",
   "execution_count": 14,
   "id": "ba193121-5be8-4791-b666-c6ae5b25d745",
   "metadata": {},
   "outputs": [
    {
     "data": {
      "text/html": [
       "<div style=\"width:100%;\"><div style=\"position:relative;width:100%;height:0;padding-bottom:60%;\"><span style=\"color:#565656\">Make this Notebook Trusted to load map: File -> Trust Notebook</span><iframe srcdoc=\"&lt;!DOCTYPE html&gt;\n",
       "&lt;html&gt;\n",
       "&lt;head&gt;\n",
       "    \n",
       "    &lt;meta http-equiv=&quot;content-type&quot; content=&quot;text/html; charset=UTF-8&quot; /&gt;\n",
       "    &lt;script src=&quot;https://cdn.jsdelivr.net/npm/leaflet@1.9.3/dist/leaflet.js&quot;&gt;&lt;/script&gt;\n",
       "    &lt;script src=&quot;https://code.jquery.com/jquery-3.7.1.min.js&quot;&gt;&lt;/script&gt;\n",
       "    &lt;script src=&quot;https://cdn.jsdelivr.net/npm/bootstrap@5.2.2/dist/js/bootstrap.bundle.min.js&quot;&gt;&lt;/script&gt;\n",
       "    &lt;script src=&quot;https://cdnjs.cloudflare.com/ajax/libs/Leaflet.awesome-markers/2.0.2/leaflet.awesome-markers.js&quot;&gt;&lt;/script&gt;\n",
       "    &lt;link rel=&quot;stylesheet&quot; href=&quot;https://cdn.jsdelivr.net/npm/leaflet@1.9.3/dist/leaflet.css&quot;/&gt;\n",
       "    &lt;link rel=&quot;stylesheet&quot; href=&quot;https://cdn.jsdelivr.net/npm/bootstrap@5.2.2/dist/css/bootstrap.min.css&quot;/&gt;\n",
       "    &lt;link rel=&quot;stylesheet&quot; href=&quot;https://netdna.bootstrapcdn.com/bootstrap/3.0.0/css/bootstrap-glyphicons.css&quot;/&gt;\n",
       "    &lt;link rel=&quot;stylesheet&quot; href=&quot;https://cdn.jsdelivr.net/npm/@fortawesome/fontawesome-free@6.2.0/css/all.min.css&quot;/&gt;\n",
       "    &lt;link rel=&quot;stylesheet&quot; href=&quot;https://cdnjs.cloudflare.com/ajax/libs/Leaflet.awesome-markers/2.0.2/leaflet.awesome-markers.css&quot;/&gt;\n",
       "    &lt;link rel=&quot;stylesheet&quot; href=&quot;https://cdn.jsdelivr.net/gh/python-visualization/folium/folium/templates/leaflet.awesome.rotate.min.css&quot;/&gt;\n",
       "    \n",
       "            &lt;meta name=&quot;viewport&quot; content=&quot;width=device-width,\n",
       "                initial-scale=1.0, maximum-scale=1.0, user-scalable=no&quot; /&gt;\n",
       "            &lt;style&gt;\n",
       "                #map_11ed2d72389bf2557c1c42103fd800c1 {\n",
       "                    position: relative;\n",
       "                    width: 100.0%;\n",
       "                    height: 100.0%;\n",
       "                    left: 0.0%;\n",
       "                    top: 0.0%;\n",
       "                }\n",
       "                .leaflet-container { font-size: 1rem; }\n",
       "            &lt;/style&gt;\n",
       "\n",
       "            &lt;style&gt;html, body {\n",
       "                width: 100%;\n",
       "                height: 100%;\n",
       "                margin: 0;\n",
       "                padding: 0;\n",
       "            }\n",
       "            &lt;/style&gt;\n",
       "\n",
       "            &lt;style&gt;#map {\n",
       "                position:absolute;\n",
       "                top:0;\n",
       "                bottom:0;\n",
       "                right:0;\n",
       "                left:0;\n",
       "                }\n",
       "            &lt;/style&gt;\n",
       "\n",
       "            &lt;script&gt;\n",
       "                L_NO_TOUCH = false;\n",
       "                L_DISABLE_3D = false;\n",
       "            &lt;/script&gt;\n",
       "\n",
       "        \n",
       "    &lt;script src=&quot;https://cdn.jsdelivr.net/gh/python-visualization/folium@main/folium/templates/leaflet_heat.min.js&quot;&gt;&lt;/script&gt;\n",
       "&lt;/head&gt;\n",
       "&lt;body&gt;\n",
       "    \n",
       "    \n",
       "     &lt;h3 align=&quot;center&quot; style=&quot;font-size:20px; background-color: #6A0066; color: white; padding: 10px;&quot;&gt;\n",
       "         Casualty Heatmap for Camden\n",
       "     &lt;/h3&gt;\n",
       "     \n",
       "    \n",
       "            &lt;div class=&quot;folium-map&quot; id=&quot;map_11ed2d72389bf2557c1c42103fd800c1&quot; &gt;&lt;/div&gt;\n",
       "        \n",
       "&lt;/body&gt;\n",
       "&lt;script&gt;\n",
       "    \n",
       "    \n",
       "            var map_11ed2d72389bf2557c1c42103fd800c1 = L.map(\n",
       "                &quot;map_11ed2d72389bf2557c1c42103fd800c1&quot;,\n",
       "                {\n",
       "                    center: [51.535432054002534, -0.1448363287801779],\n",
       "                    crs: L.CRS.EPSG3857,\n",
       "                    ...{\n",
       "  &quot;zoom&quot;: 14,\n",
       "  &quot;zoomControl&quot;: true,\n",
       "  &quot;preferCanvas&quot;: false,\n",
       "}\n",
       "\n",
       "                }\n",
       "            );\n",
       "\n",
       "            \n",
       "\n",
       "        \n",
       "    \n",
       "            var tile_layer_1e29a13df21e53e115a00da52ec25778 = L.tileLayer(\n",
       "                &quot;https://tile.openstreetmap.org/{z}/{x}/{y}.png&quot;,\n",
       "                {\n",
       "  &quot;minZoom&quot;: 0,\n",
       "  &quot;maxZoom&quot;: 19,\n",
       "  &quot;maxNativeZoom&quot;: 19,\n",
       "  &quot;noWrap&quot;: false,\n",
       "  &quot;attribution&quot;: &quot;\\u0026copy; \\u003ca href=\\&quot;https://www.openstreetmap.org/copyright\\&quot;\\u003eOpenStreetMap\\u003c/a\\u003e contributors&quot;,\n",
       "  &quot;subdomains&quot;: &quot;abc&quot;,\n",
       "  &quot;detectRetina&quot;: false,\n",
       "  &quot;tms&quot;: false,\n",
       "  &quot;opacity&quot;: 1,\n",
       "}\n",
       "\n",
       "            );\n",
       "        \n",
       "    \n",
       "            tile_layer_1e29a13df21e53e115a00da52ec25778.addTo(map_11ed2d72389bf2557c1c42103fd800c1);\n",
       "        \n",
       "    \n",
       "            var heat_map_b01edd393912f98f2152a2d2f7e9b6d2 = L.heatLayer(\n",
       "                [[51.518494, -0.105251, 1], [51.518494, -0.105251, 1], [51.518409, -0.105543, 1], [51.518409, -0.105543, 3], [51.53572, -0.164953, 1], [51.515659, -0.130304, 1], [51.516744, -0.130691, 1], [51.538488, -0.169456, 1], [51.537839, -0.168185, 1], [51.515933, -0.130581, 1], [51.537747, -0.168044, 1], [51.516375, -0.13013, 2], [51.53563, -0.164957, 1], [51.515748, -0.1303, 1], [51.515603, -0.126847, 1], [51.5162, -0.130425, 1], [51.515659, -0.130304, 1], [51.516384, -0.130706, 1], [51.51638, -0.130418, 4], [51.5162, -0.130425, 1], [51.53581, -0.16495, 1], [51.517569, -0.120424, 1], [51.537836, -0.168041, 1], [51.537836, -0.168041, 1], [51.516377, -0.130274, 1], [51.542154, -0.145225, 1], [51.517866, -0.11652, 1], [51.519018, -0.121085, 1], [51.542641, -0.141889, 1], [51.530448, -0.121624, 1], [51.522963, -0.125968, 2], [51.528007, -0.132104, 1], [51.554455, -0.16117, 1], [51.545784, -0.15301, 1], [51.54275, -0.137414, 1], [51.546563, -0.168267, 1], [51.535164, -0.135416, 3], [51.523818, -0.11195, 1], [51.519154, -0.123962, 1], [51.524024, -0.141782, 1], [51.516041, -0.126108, 1], [51.543507, -0.162621, 1], [51.528618, -0.119681, 1], [51.545155, -0.141642, 1], [51.527249, -0.118439, 1], [51.543897, -0.153087, 1], [51.539412, -0.142453, 2], [51.518649, -0.114902, 1], [51.521168, -0.114942, 1], [51.518237, -0.122847, 1], [51.524788, -0.116378, 1], [51.547767, -0.130574, 1], [51.531569, -0.141186, 1], [51.515861, -0.120494, 1], [51.537566, -0.145124, 1], [51.540106, -0.140838, 1], [51.529313, -0.140701, 1], [51.520299, -0.128095, 1], [51.545765, -0.163251, 1], [51.527012, -0.131713, 1], [51.536714, -0.142418, 1], [51.544973, -0.141505, 1], [51.546738, -0.17951, 1], [51.552158, -0.192708, 1], [51.525277, -0.130054, 1], [51.561499, -0.180363, 1], [51.539581, -0.141725, 1], [51.526493, -0.133031, 1], [51.547453, -0.190875, 1], [51.549184, -0.134843, 1], [51.531193, -0.140192, 1], [51.543885, -0.192748, 1], [51.523684, -0.137327, 1], [51.540741, -0.135477, 1], [51.546539, -0.143893, 1], [51.529084, -0.126293, 1], [51.543505, -0.162477, 1], [51.543798, -0.152514, 1], [51.542733, -0.142029, 1], [51.527361, -0.142367, 1], [51.53987, -0.194781, 1], [51.520032, -0.133872, 1], [51.542237, -0.196707, 1], [51.53915, -0.142896, 1], [51.528521, -0.119252, 1], [51.537053, -0.141107, 1], [51.546634, -0.144178, 1], [51.548534, -0.190977, 1], [51.548122, -0.130271, 1], [51.523788, -0.126943, 1], [51.551124, -0.166641, 2], [51.556152, -0.177691, 1], [51.522781, -0.125831, 1], [51.543814, -0.153523, 1], [51.520908, -0.11553, 1], [51.516299, -0.119756, 1], [51.520031, -0.105764, 1], [51.530639, -0.122337, 2], [51.524788, -0.116378, 1], [51.546398, -0.157745, 1], [51.515748, -0.1303, 2], [51.521313, -0.124018, 1], [51.525723, -0.135514, 1], [51.526809, -0.130279, 1], [51.537357, -0.154649, 1], [51.522398, -0.135649, 1], [51.552626, -0.188074, 1], [51.535183, -0.14796, 1], [51.524786, -0.127479, 1], [51.52056, -0.121886, 1], [51.54593, -0.150841, 2], [51.533082, -0.145883, 2], [51.53118, -0.133705, 1], [51.538965, -0.142615, 2], [51.549728, -0.163668, 1], [51.547679, -0.130722, 3], [51.56233, -0.14729, 2], [51.54109, -0.192281, 1], [51.540566, -0.193312, 1], [51.545514, -0.141627, 1], [51.538186, -0.144522, 1], [51.525032, -0.114783, 1], [51.543296, -0.126575, 1], [51.519799, -0.119323, 1], [51.550805, -0.140691, 1], [51.543065, -0.16884, 1], [51.551711, -0.141086, 1], [51.521622, -0.132077, 1], [51.537053, -0.141107, 1], [51.54847, -0.181027, 1], [51.54275, -0.137414, 2], [51.517813, -0.130071, 1], [51.519681, -0.111977, 1], [51.540623, -0.139375, 1], [51.551589, -0.167632, 1], [51.52252, -0.137663, 1], [51.514977, -0.127016, 1], [51.520737, -0.116113, 1], [51.547905, -0.191002, 1], [51.53071, -0.132426, 1], [51.530054, -0.119477, 1], [51.551862, -0.185219, 1], [51.527996, -0.131384, 3], [51.524422, -0.115961, 1], [51.518839, -0.121092, 1], [51.516864, -0.126939, 1], [51.517569, -0.120424, 1], [51.550206, -0.153985, 1], [51.522092, -0.110868, 1], [51.526403, -0.138657, 1], [51.570326, -0.146821, 1], [51.551954, -0.18536, 1], [51.547234, -0.159442, 1], [51.553141, -0.169157, 2], [51.538957, -0.136415, 1], [51.518408, -0.122263, 1], [51.519507, -0.123515, 1], [51.539057, -0.142756, 2], [51.541952, -0.138167, 1], [51.529193, -0.138832, 1], [51.535346, -0.135553, 1], [51.545604, -0.141624, 1], [51.521978, -0.109431, 1], [51.543178, -0.141723, 1], [51.539223, -0.170436, 1], [51.519984, -0.119604, 1], [51.523242, -0.126533, 1], [51.552128, -0.161841, 1], [51.53879, -0.142911, 1], [51.52847, -0.138573, 2], [51.527268, -0.130837, 2], [51.545985, -0.148675, 1], [51.524967, -0.13886, 2], [51.547461, -0.179769, 1], [51.566157, -0.150453, 1], [51.546648, -0.179513, 1], [51.522873, -0.114728, 1], [51.542458, -0.147376, 1], [51.530551, -0.122484, 1], [51.526258, -0.123959, 1], [51.520214, -0.134009, 1], [51.523684, -0.137327, 2], [51.535296, -0.189771, 2], [51.520717, -0.12606, 1], [51.548378, -0.180887, 1], [51.554197, -0.196666, 1], [51.541622, -0.14568, 2], [51.523014, -0.134759, 1], [51.533032, -0.137089, 2], [51.521406, -0.124158, 1], [51.549634, -0.163384, 1], [51.542242, -0.179545, 1], [51.540226, -0.159869, 1], [51.546415, -0.141735, 2], [51.527146, -0.145835, 1], [51.55216, -0.141068, 1], [51.539145, -0.142608, 1], [51.525368, -0.135816, 1], [51.54275, -0.137414, 1], [51.518233, -0.122559, 2], [51.538263, -0.138029, 3], [51.54266, -0.137417, 1], [51.533947, -0.138061, 1], [51.541775, -0.138319, 1], [51.524782, -0.144202, 1], [51.521414, -0.113491, 1], [51.518241, -0.111892, 1], [51.516785, -0.127663, 1], [51.562476, -0.179602, 1], [51.55281, -0.188355, 1], [51.532772, -0.137677, 1], [51.520947, -0.134844, 1], [51.541025, -0.142099, 1], [51.530627, -0.138485, 1], [51.543507, -0.162621, 2], [51.55002, -0.182408, 2], [51.519661, -0.121923, 1], [51.552906, -0.188784, 1], [51.541088, -0.192137, 1], [51.565195, -0.146452, 2], [51.55207, -0.192856, 1], [51.526064, -0.134346, 1], [51.546826, -0.191044, 1], [51.550791, -0.139826, 1], [51.521327, -0.113638, 1], [51.535579, -0.133236, 1], [51.543712, -0.141412, 1], [51.547935, -0.181337, 1], [51.541952, -0.138167, 1], [51.545002, -0.126361, 1], [51.552443, -0.141922, 1], [51.516285, -0.130134, 1], [51.519253, -0.135778, 1], [51.552817, -0.188787, 2], [51.52006, -0.118736, 1], [51.57002, -0.144524, 1], [51.521903, -0.110299, 1], [51.531542, -0.122588, 1], [51.538086, -0.172501, 1], [51.515601, -0.126703, 1], [51.516209, -0.119759, 1], [51.52134, -0.108881, 1], [51.540773, -0.137494, 1], [51.551752, -0.207293, 1], [51.557784, -0.144157, 1], [51.535077, -0.135564, 1], [51.530381, -0.123068, 1], [51.545871, -0.175794, 1], [51.522953, -0.136636, 2], [51.545484, -0.179848, 1], [51.553051, -0.16916, 1], [51.536714, -0.142418, 1], [51.543836, -0.154964, 1], [51.55152, -0.192156, 1], [51.543834, -0.15482, 1], [51.525134, -0.126744, 1], [51.540233, -0.14314, 1], [51.537237, -0.141388, 1], [51.555538, -0.178725, 1], [51.557496, -0.171578, 2], [51.534489, -0.138183, 1], [51.53888, -0.142907, 4], [51.524686, -0.138151, 1], [51.543816, -0.153667, 1], [51.552536, -0.188077, 1], [51.547688, -0.194472, 1], [51.553363, -0.143183, 1], [51.557781, -0.195803, 1], [51.547767, -0.130574, 3], [51.530381, -0.123068, 1], [51.557059, -0.195688, 1], [51.547057, -0.165362, 1], [51.571183, -0.149816, 1], [51.525652, -0.125425, 1], [51.521182, -0.115807, 1], [51.521412, -0.113347, 1], [51.558942, -0.149159, 1], [51.527701, -0.12981, 1], [51.520567, -0.116697, 1], [51.523991, -0.117132, 1], [51.542934, -0.149088, 1], [51.521078, -0.114946, 2], [51.520311, -0.117572, 1], [51.531309, -0.130527, 1], [51.552353, -0.141926, 1], [51.542982, -0.140721, 1], [51.519719, -0.125525, 1], [51.542309, -0.138008, 1], [51.555255, -0.166331, 1], [51.560162, -0.146657, 1], [51.547146, -0.15959, 1], [51.526064, -0.134346, 1], [51.534416, -0.122325, 1], [51.546775, -0.14172, 1], [51.538173, -0.138033, 1], [51.516774, -0.126943, 1], [51.526403, -0.138657, 1], [51.516652, -0.130551, 1], [51.516288, -0.130278, 1], [51.520765, -0.134707, 1], [51.525816, -0.130032, 1], [51.534408, -0.138763, 1], [51.561319, -0.18037, 1], [51.540352, -0.14501, 1], [51.520145, -0.118444, 1], [51.534777, -0.122455, 1], [51.554572, -0.162896, 1], [51.543018, -0.126009, 1], [51.517382, -0.131242, 1], [51.530358, -0.132873, 1], [51.522698, -0.131889, 1], [51.519191, -0.120645, 1], [51.526747, -0.120767, 1], [51.538878, -0.142763, 1], [51.525804, -0.129311, 1], [51.515684, -0.126267, 1], [51.516548, -0.118448, 1], [51.513718, -0.127068, 1], [51.521412, -0.113347, 1], [51.530641, -0.122481, 1], [51.543694, -0.140259, 1], [51.52158, -0.112619, 1], [51.538875, -0.142619, 1], [51.535947, -0.191187, 1], [51.539756, -0.187431, 2], [51.529374, -0.133202, 1], [51.549562, -0.181849, 1], [51.550114, -0.182692, 1], [51.545653, -0.133401, 1], [51.539242, -0.143037, 1], [51.562303, -0.185813, 1], [51.54001, -0.186412, 1], [51.540452, -0.139959, 1], [51.52791, -0.131676, 1], [51.524242, -0.115969, 2], [51.521919, -0.133795, 2], [51.555812, -0.196458, 1], [51.526993, -0.13056, 1], [51.533254, -0.134052, 2], [51.517297, -0.120291, 1], [51.54642, -0.142023, 1], [51.53988, -0.143587, 1], [51.517947, -0.11594, 1], [51.521412, -0.113347, 1], [51.550279, -0.175907, 1], [51.54316, -0.129321, 2], [51.548743, -0.141063, 1], [51.530862, -0.136313, 1], [51.53604, -0.191328, 3], [51.543897, -0.153087, 1], [51.5283, -0.127911, 1], [51.551969, -0.192139, 1], [51.538955, -0.170591, 1], [51.542746, -0.148518, 1], [51.543507, -0.162621, 1], [51.553549, -0.143608, 1], [51.53263, -0.145757, 1], [51.543287, -0.125998, 1], [51.524205, -0.124908, 1], [51.51629, -0.130422, 1], [51.53949, -0.17605, 1], [51.524715, -0.123013, 1], [51.547134, -0.141706, 1], [51.549544, -0.169157, 1], [51.522871, -0.114584, 2], [51.558392, -0.14846, 1], [51.515186, -0.123261, 1], [51.540938, -0.142246, 1], [51.543717, -0.141701, 1], [51.523504, -0.137334, 2], [51.516472, -0.130558, 1], [51.54061, -0.144279, 1], [51.542943, -0.166826, 1], [51.522322, -0.11403, 1], [51.515569, -0.130307, 1], [51.554074, -0.171283, 1], [51.535209, -0.189919, 1], [51.55043, -0.191478, 2], [51.517479, -0.120428, 1], [51.527086, -0.1307, 1], [51.515596, -0.126415, 1], [51.524385, -0.1249, 1], [51.53775, -0.122765, 1], [51.540272, -0.151359, 1], [51.55426, -0.177478, 1], [51.54061, -0.144279, 1], [51.538875, -0.142619, 1], [51.528212, -0.128059, 1], [51.541946, -0.166289, 1], [51.542454, -0.193237, 1], [51.545691, -0.175802, 1], [51.54222, -0.138012, 1], [51.524242, -0.115969, 1], [51.523747, -0.129972, 1], [51.553901, -0.165953, 1], [51.530468, -0.12292, 1], [51.526145, -0.133766, 1], [51.529281, -0.138684, 1], [51.528472, -0.138717, 3], [51.557691, -0.195807, 1], [51.561127, -0.150802, 1], [51.530837, -0.134728, 1], [51.522597, -0.114307, 2], [51.516981, -0.123043, 1], [51.555628, -0.178722, 1], [51.542114, -0.17133, 1], [51.556655, -0.146655, 1], [51.544885, -0.141653, 1], [51.524202, -0.14163, 1], [51.518322, -0.122555, 1], [51.556617, -0.178682, 1], [51.526672, -0.138646, 1], [51.552348, -0.175968, 1], [51.551246, -0.191879, 1], [51.549, -0.145957, 1], [51.543539, -0.141852, 1], [51.529775, -0.124535, 1], [51.550178, -0.14086, 1], [51.554202, -0.191185, 1], [51.516532, -0.128682, 1], [51.535166, -0.13556, 1], [51.556477, -0.146807, 1], [51.528367, -0.13209, 1], [51.524682, -0.137863, 1], [51.517571, -0.120568, 1], [51.517571, -0.120568, 1], [51.518506, -0.111593, 1], [51.521585, -0.135394, 1], [51.527844, -0.127498, 1], [51.546064, -0.147951, 1], [51.538132, -0.152455, 1], [51.523325, -0.120475, 1], [51.538361, -0.144226, 1], [51.518496, -0.105395, 1], [51.537479, -0.145271, 1], [51.528472, -0.138717, 1], [51.539949, -0.142287, 1], [51.541548, -0.17539, 1], [51.537269, -0.154797, 1], [51.528945, -0.117649, 1], [51.528989, -0.126009, 1], [51.515534, -0.128147, 1], [51.540192, -0.140546, 1], [51.52727, -0.130981, 1], [51.518751, -0.12124, 1], [51.539233, -0.14246, 1], [51.515603, -0.126847, 1], [51.537878, -0.142083, 1], [51.542557, -0.147949, 1], [51.518236, -0.105983, 1], [51.539493, -0.141873, 3], [51.535095, -0.148108, 1], [51.557423, -0.195962, 1], [51.529315, -0.140845, 1], [51.54593, -0.150841, 1], [51.520564, -0.116553, 1], [51.551982, -0.193004, 2], [51.558132, -0.143421, 1], [51.541655, -0.142073, 1], [51.515663, -0.119349, 1], [51.55402, -0.191048, 2], [51.523768, -0.125647, 1], [51.558576, -0.148741, 2], [51.541548, -0.17539, 1], [51.518406, -0.105399, 1], [51.550759, -0.183676, 1], [51.520947, -0.1236, 2], [51.515843, -0.119342, 2], [51.55207, -0.141072, 1], [51.516617, -0.128391, 1], [51.513776, -0.125048, 1], [51.553951, -0.140562, 1], [51.552817, -0.188787, 1], [51.52252, -0.137663, 1], [51.537394, -0.151331, 1], [51.543341, -0.17503, 1], [51.540917, -0.192721, 1], [51.517011, -0.130536, 1], [51.524684, -0.138007, 1], [51.518676, -0.105388, 1], [51.520055, -0.118448, 2], [51.54109, -0.192281, 1], [51.527663, -0.13875, 1], [51.549192, -0.141045, 1], [51.553485, -0.168133, 1], [51.554436, -0.188867, 1], [51.532302, -0.136398, 1], [51.539042, -0.136123, 1], [51.51629, -0.130422, 1], [51.537984, -0.137464, 1], [51.541995, -0.175228, 1], [51.539701, -0.195509, 1], [51.549839, -0.153567, 1], [51.562332, -0.187688, 1], [51.519582, -0.105783, 1], [51.543729, -0.159583, 1], [51.532302, -0.136398, 1], [51.519587, -0.117314, 1], [51.518928, -0.121089, 1], [51.546385, -0.145486, 1], [51.529011, -0.138695, 1], [51.532302, -0.136398, 1], [51.517712, -0.118112, 1], [51.549414, -0.166566, 1], [51.521935, -0.112316, 1], [51.514979, -0.127161, 1], [51.526401, -0.132891, 1], [51.542575, -0.137709, 2], [51.551928, -0.195314, 1], [51.521665, -0.112327, 1], [51.524458, -0.135133, 1], [51.52023, -0.118152, 3], [51.520313, -0.117716, 1], [51.543608, -0.174875, 1], [51.533468, -0.136206, 1], [51.542842, -0.137554, 1], [51.539219, -0.141595, 1], [51.557662, -0.147768, 1], [51.521767, -0.135531, 1], [51.539665, -0.175754, 2], [51.527182, -0.131129, 1], [51.517956, -0.116516, 1], [51.553417, -0.186888, 1], [51.569231, -0.151483, 1], [51.543629, -0.141848, 1], [51.542721, -0.193082, 1], [51.523771, -0.142801, 1], [51.516859, -0.126651, 1], [51.524267, -0.128798, 1], [51.539668, -0.141577, 1], [51.528618, -0.119681, 1], [51.530978, -0.121025, 1], [51.517686, -0.12777, 1], [51.516866, -0.127083, 1], [51.547402, -0.14155, 1], [51.555449, -0.178729, 1], [51.515741, -0.129868, 1], [51.537406, -0.152052, 1], [51.521485, -0.106713, 1], [51.542329, -0.14493, 1], [51.517868, -0.116664, 1], [51.542641, -0.141889, 1], [51.528641, -0.132367, 1], [51.540133, -0.194338, 1], [51.538136, -0.152743, 1], [51.545844, -0.179834, 1], [51.536046, -0.19176, 1], [51.549186, -0.134987, 1], [51.558668, -0.177591, 1], [51.542649, -0.14809, 1], [51.522953, -0.136636, 1], [51.536012, -0.149224, 1], [51.543632, -0.136368, 1], [51.51602, -0.130433, 1], [51.51811, -0.126167, 1], [51.550669, -0.18368, 1], [51.522597, -0.114307, 1], [51.561319, -0.18037, 1], [51.517636, -0.11898, 1], [51.54318, -0.141867, 1], [51.551112, -0.16592, 1], [51.524364, -0.134848, 4], [51.521917, -0.122407, 1], [51.535116, -0.189778, 3], [51.533517, -0.122362, 1], [51.518839, -0.121092, 1], [51.525565, -0.125573, 1], [51.537744, -0.144972, 3], [51.546289, -0.19121, 1], [51.541696, -0.179134, 1], [51.522691, -0.125835, 1], [51.515433, -0.12743, 1], [51.551449, -0.199227, 1], [51.527611, -0.129814, 1], [51.556014, -0.14596, 1], [51.521417, -0.113635, 1], [51.528707, -0.136545, 1], [51.522049, -0.124996, 1], [51.541779, -0.138607, 1], [51.540452, -0.139959, 1], [51.527699, -0.129666, 1], [51.538511, -0.142345, 1], [51.528472, -0.138717, 1], [51.525169, -0.145916, 1], [51.545844, -0.151133, 1], [51.516965, -0.116413, 1], [51.519756, -0.122208, 1], [51.549102, -0.141048, 1], [51.541548, -0.17539, 1], [51.527867, -0.117693, 2], [51.543157, -0.174749, 1], [51.518417, -0.128461, 2], [51.54372, -0.13622, 1], [51.541629, -0.17481, 1], [51.545788, -0.141905, 1], [51.547146, -0.15959, 1], [51.532433, -0.138988, 1], [51.551537, -0.175856, 1], [51.527069, -0.118447, 1], [51.541613, -0.17957, 1], [51.554433, -0.182809, 1], [51.534867, -0.122451, 1], [51.552812, -0.188499, 2], [51.518841, -0.121236, 1], [51.539682, -0.142442, 1], [51.540195, -0.157851, 1], [51.539047, -0.170732, 1], [51.559214, -0.149292, 1], [51.52396, -0.137748, 1], [51.528472, -0.138717, 1], [51.534238, -0.122477, 1], [51.544686, -0.134738, 1], [51.517567, -0.12028, 1], [51.521485, -0.106713, 1], [51.519068, -0.135497, 1], [51.535095, -0.148108, 1], [51.546098, -0.178814, 1], [51.555166, -0.166334, 1], [51.524331, -0.138454, 1], [51.550088, -0.140864, 1], [51.524795, -0.128055, 1], [51.515209, -0.11908, 1], [51.518749, -0.121096, 1], [51.517656, -0.131519, 1], [51.521076, -0.114802, 1], [51.523625, -0.122337, 1], [51.521992, -0.110295, 1], [51.515684, -0.126267, 1], [51.544213, -0.173265, 1], [51.529853, -0.123811, 1], [51.528382, -0.138721, 1], [51.538878, -0.142763, 1], [51.526996, -0.130704, 1], [51.537403, -0.192283, 1], [51.534957, -0.122447, 1], [51.522871, -0.114584, 1], [51.528537, -0.125883, 1], [51.547934, -0.192876, 1], [51.51805, -0.111179, 1], [51.565837, -0.181777, 1], [51.521972, -0.108999, 1], [51.554928, -0.151197, 1], [51.530381, -0.123068, 1], [51.526237, -0.133907, 1], [51.553848, -0.185717, 1], [51.518841, -0.121236, 1], [51.552478, -0.167019, 1], [51.542662, -0.137561, 1], [51.542242, -0.162239, 1], [51.539668, -0.141577, 1], [51.547849, -0.141388, 1], [51.524546, -0.134985, 1], [51.542465, -0.147809, 1], [51.52505, -0.138424, 1], [51.569553, -0.143389, 1], [51.521403, -0.135258, 1], [51.55402, -0.191048, 1], [51.567203, -0.182877, 1], [51.516299, -0.119756, 1], [51.519209, -0.133041, 1], [51.551959, -0.185648, 1], [51.530865, -0.119588, 1], [51.520216, -0.134153, 1], [51.523995, -0.11742, 1], [51.528044, -0.128787, 1], [51.521322, -0.11335, 1], [51.525385, -0.114336, 1], [51.557442, -0.168118, 1], [51.524523, -0.127922, 1], [51.546143, -0.175928, 2], [51.542444, -0.17521, 1], [51.516207, -0.119615, 1], [51.526977, -0.135174, 1], [51.558576, -0.148741, 1], [51.543455, -0.136519, 1], [51.553202, -0.161509, 1], [51.526403, -0.138657, 1], [51.552993, -0.194406, 1], [51.535478, -0.132519, 1], [51.519729, -0.10938, 1], [51.543507, -0.162621, 1], [51.542752, -0.137558, 1], [51.541595, -0.138326, 1], [51.520887, -0.125477, 1], [51.53553, -0.135834, 1], [51.525779, -0.133349, 1], [51.516209, -0.119759, 1], [51.520214, -0.134009, 1], [51.56693, -0.153885, 1], [51.51805, -0.128043, 1], [51.548745, -0.141207, 2], [51.548531, -0.161842, 1], [51.542662, -0.137561, 1], [51.527178, -0.130841, 1], [51.517571, -0.120568, 1], [51.549656, -0.182134, 1], [51.521048, -0.113073, 1], [51.526235, -0.133763, 1], [51.524613, -0.127918, 1], [51.525004, -0.135543, 1], [51.520495, -0.117853, 1], [51.531113, -0.135149, 1], [51.5446, -0.13503, 1], [51.531068, -0.121021, 1], [51.532888, -0.122388, 1], [51.532392, -0.136395, 1], [51.536934, -0.122366, 1], [51.53095, -0.119296, 1], [51.545491, -0.162974, 1], [51.539153, -0.194954, 1], [51.541534, -0.197744, 1], [51.536684, -0.192312, 1], [51.535024, -0.189638, 1], [51.538418, -0.193974, 1], [51.536134, -0.191613, 1], [51.535485, -0.190341, 1], [51.535761, -0.190762, 1], [51.55942, -0.197181, 1], [51.567936, -0.183713, 2], [51.550299, -0.182974, 1], [51.547378, -0.180205, 1], [51.567477, -0.183154, 1], [51.552494, -0.168029, 3], [51.543154, -0.174605, 1], [51.545194, -0.144092, 1], [51.516371, -0.129842, 1], [51.52168, -0.124435, 1], [51.521076, -0.114802, 1], [51.542714, -0.1752, 1], [51.518417, -0.128461, 1], [51.525138, -0.138277, 2], [51.515594, -0.126271, 1], [51.543045, -0.150381, 1], [51.540452, -0.139959, 4], [51.530038, -0.124092, 1], [51.539061, -0.194813, 1], [51.539611, -0.195513, 1], [51.542682, -0.144483, 2], [51.532291, -0.130055, 1], [51.522225, -0.136089, 2], [51.515748, -0.1303, 1], [51.518406, -0.105399, 1], [51.555082, -0.178311, 1], [51.551849, -0.167045, 1], [51.523625, -0.122337, 1], [51.52727, -0.130981, 1], [51.539611, -0.195513, 1], [51.543519, -0.151948, 1], [51.518406, -0.105399, 1], [51.517633, -0.118836, 1], [51.516384, -0.130706, 1], [51.533556, -0.147449, 1], [51.517318, -0.121587, 1], [51.526417, -0.133899, 1], [51.541548, -0.17539, 1], [51.528613, -0.119392, 1], [51.515603, -0.126847, 1], [51.516212, -0.119903, 1], [51.517011, -0.124915, 1], [51.520226, -0.117864, 1], [51.518142, -0.11132, 1], [51.521777, -0.124864, 1], [51.551439, -0.140953, 1], [51.532943, -0.137093, 1], [51.538696, -0.142626, 2], [51.541655, -0.142073, 1], [51.521246, -0.114218, 1], [51.568433, -0.17518, 1], [51.527256, -0.124494, 1], [51.517013, -0.13068, 1], [51.517567, -0.12028, 1], [51.54345, -0.136231, 1], [51.526507, -0.133896, 1], [51.536252, -0.14734, 1], [51.52977, -0.124247, 2], [51.550117, -0.182837, 1], [51.517182, -0.129953, 1], [51.56067, -0.150387, 1], [51.555105, -0.173982, 1], [51.515682, -0.126123, 1], [51.515391, -0.119216, 1], [51.516387, -0.119608, 1], [51.543542, -0.136372, 1], [51.541447, -0.180442, 1], [51.541548, -0.17539, 1], [51.518147, -0.111608, 1], [51.519686, -0.112265, 1], [51.542085, -0.175225, 1], [51.536714, -0.142418, 1], [51.554067, -0.16508, 1], [51.562568, -0.179743, 1], [51.517728, -0.130363, 1], [51.528219, -0.128491, 1], [51.535503, -0.128481, 1], [51.517479, -0.120428, 1], [51.56993, -0.144528, 1], [51.525652, -0.125425, 1], [51.51994, -0.122488, 1], [51.524613, -0.127918, 1], [51.540281, -0.140543, 1], [51.526325, -0.133759, 1], [51.521497, -0.113055, 1], [51.524874, -0.127331, 1], [51.553528, -0.176642, 1], [51.519848, -0.122348, 1], [51.542731, -0.141885, 1], [51.538265, -0.138173, 2], [51.554376, -0.144728, 1], [51.55207, -0.141072, 1], [51.525295, -0.114339, 1], [51.539701, -0.195509, 1], [51.531809, -0.139302, 1], [51.528298, -0.127767, 2], [51.544502, -0.163013, 1], [51.526488, -0.138366, 1], [51.550071, -0.191493, 1], [51.542752, -0.137558, 1], [51.52745, -0.130974, 1], [51.524107, -0.141346, 1], [51.528202, -0.138728, 1], [51.514712, -0.127316, 1], [51.544686, -0.134738, 1], [51.562309, -0.151619, 1], [51.529429, -0.125414, 3], [51.557329, -0.195677, 1], [51.5407, -0.144275, 1], [51.528254, -0.119407, 1], [51.551796, -0.192578, 1], [51.531377, -0.146096, 1], [51.539934, -0.135654, 1], [51.545585, -0.157489, 1], [51.542899, -0.192931, 1], [51.518052, -0.111323, 1], [51.541786, -0.173362, 1], [51.556645, -0.186327, 1], [51.54504, -0.134435, 1], [51.517567, -0.12028, 1], [51.551917, -0.194593, 1], [51.516108, -0.124664, 1], [51.545067, -0.14179, 1], [51.522133, -0.135949, 2], [51.517016, -0.130824, 1], [51.5214, -0.135114, 3], [51.549747, -0.193813, 1], [51.523226, -0.131147, 1], [51.527348, -0.130257, 1], [51.543731, -0.159727, 1], [51.552162, -0.192996, 1], [51.538329, -0.193977, 1], [51.540452, -0.139959, 1], [51.536118, -0.138838, 1], [51.530556, -0.122773, 1], [51.548289, -0.135168, 1], [51.528562, -0.138714, 1], [51.532607, -0.127302, 1], [51.547767, -0.130574, 1], [51.543507, -0.162621, 1], [51.554069, -0.165225, 1], [51.543017, -0.137258, 1], [51.541255, -0.145262, 1], [51.534688, -0.122458, 1], [51.54083, -0.135473, 1], [51.524686, -0.138151, 1], [51.536714, -0.142418, 1], [51.518583, -0.121968, 1], [51.539935, -0.147046, 1], [51.513564, -0.12866, 1], [51.517484, -0.120716, 1], [51.535077, -0.135564, 1], [51.538334, -0.142497, 1], [51.541696, -0.179134, 1], [51.522873, -0.125972, 1], [51.54059, -0.188984, 1], [51.550207, -0.182833, 1], [51.551207, -0.166205, 1], [51.530641, -0.122481, 1], [51.522353, -0.127146, 1], [51.529176, -0.126434, 1], [51.546865, -0.141717, 1], [51.542551, -0.141892, 1], [51.525592, -0.138546, 1], [51.520428, -0.130541, 1], [51.519594, -0.112124, 1], [51.539784, -0.195073, 1], [51.516357, -0.128978, 2], [51.540192, -0.140546, 1], [51.535298, -0.132527, 1], [51.523148, -0.120627, 1], [51.523834, -0.129824, 1], [51.545153, -0.141498, 1], [51.55559, -0.193726, 1], [51.553049, -0.169016, 1], [51.52226, -0.132628, 2], [51.54257, -0.137421, 1], [51.519669, -0.105635, 1], [51.523399, -0.130707, 1], [51.526315, -0.138805, 1], [51.525503, -0.144316, 2], [51.516696, -0.127667, 1], [51.529084, -0.126293, 1], [51.541553, -0.175679, 4], [51.528382, -0.138721, 1], [51.526053, -0.133626, 1], [51.516751, -0.119881, 1], [51.54947, -0.175939, 1], [51.522691, -0.125835, 2], [51.541459, -0.135447, 1], [51.543611, -0.17502, 1], [51.550728, -0.175889, 1], [51.517474, -0.131382, 1], [51.538361, -0.144226, 1], [51.525385, -0.114336, 1], [51.517818, -0.119116, 1], [51.536373, -0.143586, 1], [51.554757, -0.192172, 1], [51.541946, -0.166289, 1], [51.518144, -0.111464, 1], [51.521076, -0.114802, 2], [51.523686, -0.137471, 1], [51.518756, -0.121528, 1], [51.551713, -0.14123, 1], [51.544686, -0.134738, 1], [51.518746, -0.120952, 3], [51.517378, -0.125332, 1], [51.54584, -0.150845, 2], [51.550675, -0.155264, 1], [51.542364, -0.19324, 1], [51.547491, -0.141547, 1], [51.543834, -0.15482, 1], [51.548053, -0.200659, 1], [51.529943, -0.123807, 1], [51.535491, -0.133384, 1], [51.541544, -0.175102, 3], [51.527613, -0.129958, 2], [51.518112, -0.115068, 2], [51.542085, -0.146526, 2], [51.540192, -0.140546, 1], [51.539318, -0.142168, 1], [51.546145, -0.147371, 2], [51.521417, -0.113635, 1], [51.519681, -0.111977, 1], [51.550807, -0.140835, 1], [51.542029, -0.171622, 2], [51.555954, -0.147838, 1], [51.541548, -0.17539, 1], [51.529011, -0.138695, 1], [51.538783, -0.142478, 1], [51.527701, -0.12981, 1], [51.52409, -0.128949, 1], [51.541548, -0.17539, 1], [51.570711, -0.148392, 1], [51.538878, -0.142763, 1], [51.548117, -0.129983, 2], [51.542752, -0.137558, 1], [51.528766, -0.145914, 1], [51.534916, -0.148115, 1], [51.520228, -0.118008, 1], [51.53829, -0.174079, 1], [51.516196, -0.124516, 1], [51.54938, -0.181712, 1], [51.545453, -0.126486, 1], [51.518142, -0.11132, 1], [51.521407, -0.113058, 1], [51.524027, -0.141926, 1], [51.540104, -0.140694, 1], [51.530081, -0.126829, 1], [51.55417, -0.177482, 1], [51.514695, -0.126307, 1], [51.550774, -0.133047, 1], [51.519021, -0.121229, 1], [51.520336, -0.1304, 2], [51.551533, -0.141238, 1], [51.543168, -0.19292, 1], [51.540452, -0.139959, 1], [51.520993, -0.115238, 1], [51.538786, -0.142623, 1], [51.549748, -0.182274, 1], [51.528472, -0.138717, 1], [51.527573, -0.144376, 1], [51.546544, -0.144182, 1], [51.545835, -0.150556, 1], [51.549382, -0.181856, 1], [51.541728, -0.175383, 1], [51.515659, -0.130304, 1], [51.545786, -0.14176, 2], [51.519574, -0.122071, 1], [51.517818, -0.119116, 1], [51.528472, -0.138717, 1], [51.515023, -0.118655, 1], [51.555538, -0.178725, 1], [51.552646, -0.189371, 1], [51.528535, -0.125739, 1], [51.536371, -0.143442, 1], [51.517975, -0.12329, 1], [51.548114, -0.152483, 1], [51.539701, -0.195509, 1], [51.539037, -0.141459, 2], [51.533127, -0.137374, 1], [51.531721, -0.13945, 1], [51.539044, -0.136267, 1], [51.543038, -0.149949, 1], [51.545549, -0.178259, 1], [51.520147, -0.118588, 1], [51.521787, -0.136828, 2], [51.542579, -0.195539, 1], [51.552896, -0.159213, 1], [51.525371, -0.13596, 1], [51.537404, -0.134892, 1], [51.523401, -0.130851, 1], [51.537327, -0.141384, 1], [51.562923, -0.17944, 3], [51.524709, -0.139591, 1], [51.541995, -0.14653, 1], [51.534086, -0.129837, 1], [51.517569, -0.120424, 2], [51.526749, -0.132156, 1], [51.528996, -0.126441, 1], [51.524967, -0.13886, 1], [51.547767, -0.130574, 1], [51.541539, -0.174814, 1], [51.546766, -0.135519, 2], [51.540544, -0.140099, 1], [51.537404, -0.134892, 1], [51.517027, -0.125923, 1], [51.562299, -0.179754, 1], [51.516534, -0.128826, 1], [51.542751, -0.143182, 1], [51.53914, -0.170872, 1], [51.521316, -0.124162, 2], [51.542572, -0.137565, 1], [51.521363, -0.138431, 1], [51.542222, -0.138156, 1], [51.53262, -0.139413, 1], [51.541777, -0.138463, 1], [51.527661, -0.138606, 1], [51.542804, -0.175196, 1], [51.556785, -0.19541, 1], [51.54692, -0.179647, 1], [51.527452, -0.131118, 1], [51.54568, -0.140755, 1], [51.522224, -0.124701, 1], [51.549568, -0.153434, 1], [51.538811, -0.138584, 1], [51.546376, -0.17938, 1], [51.526225, -0.138809, 1], [51.527888, -0.11899, 1], [51.546542, -0.144037, 1], [51.537081, -0.137212, 1], [51.537827, -0.184768, 1], [51.542857, -0.144187, 1], [51.521076, -0.114802, 1], [51.521244, -0.114074, 1], [51.530733, -0.122621, 1], [51.545974, -0.147955, 1], [51.524701, -0.127771, 1], [51.540367, -0.140251, 1], [51.542534, -0.175207, 1], [51.538955, -0.170591, 1], [51.530351, -0.121195, 3], [51.543509, -0.162765, 1], [51.554072, -0.153973, 1], [51.553238, -0.141024, 1], [51.536323, -0.140416, 1], [51.538021, -0.151162, 1], [51.521316, -0.124162, 1], [51.521972, -0.108999, 1], [51.542271, -0.146951, 1], [51.517156, -0.122747, 1], [51.515066, -0.127013, 1], [51.542622, -0.16929, 2], [51.519332, -0.129432, 1], [51.52332, -0.137053, 1], [51.521078, -0.114946, 1], [51.515928, -0.130292, 1], [51.513829, -0.128361, 1], [51.516025, -0.119479, 1], [51.527816, -0.131391, 1], [51.542419, -0.144926, 1], [51.53888, -0.142907, 1], [51.526405, -0.138802, 1], [51.547396, -0.129868, 1], [51.524786, -0.127479, 1], [51.53914, -0.170872, 1], [51.538945, -0.141318, 1], [51.523788, -0.126943, 1], [51.527788, -0.135285, 1], [51.51764, -0.119268, 1], [51.555498, -0.193585, 1], [51.538057, -0.142075, 1], [51.554626, -0.177896, 1], [51.522691, -0.125835, 1], [51.51694, -0.126071, 2], [51.537504, -0.193, 1], [51.541806, -0.197877, 1], [51.543105, -0.137111, 1], [51.552528, -0.175961, 2], [51.520883, -0.125189, 1], [51.548924, -0.181297, 1], [51.542939, -0.149376, 1], [51.54681, -0.161046, 1], [51.530837, -0.134728, 1], [51.55402, -0.191048, 1], [51.541022, -0.158972, 1], [51.528653, -0.144477, 1], [51.519279, -0.120498, 1], [51.524705, -0.128059, 1], [51.521958, -0.108135, 1], [51.527355, -0.130689, 1], [51.523737, -0.118152, 1], [51.52082, -0.115677, 1], [51.523744, -0.129828, 1], [51.541718, -0.134716, 1], [51.516868, -0.127227, 1], [51.53888, -0.142907, 1], [51.537237, -0.141388, 1], [51.535931, -0.138413, 1], [51.521412, -0.113347, 3], [51.544173, -0.153508, 1], [51.524208, -0.125052, 1], [51.553979, -0.182538, 1], [51.528653, -0.127464, 1], [51.545568, -0.133693, 1], [51.524703, -0.127915, 1], [51.545937, -0.157042, 1], [51.517387, -0.120287, 1], [51.530104, -0.133893, 1], [51.555689, -0.176844, 1], [51.539137, -0.170728, 1], [51.527726, -0.131395, 1], [51.535166, -0.13556, 1], [51.536773, -0.146165, 1], [51.539756, -0.187431, 1], [51.54914, -0.177827, 1], [51.515594, -0.126271, 1], [51.539772, -0.142438, 1], [51.520398, -0.117425, 5], [51.529171, -0.126146, 1], [51.519527, -0.136055, 1], [51.550262, -0.134799, 1], [51.548932, -0.153027, 1], [51.528382, -0.138721, 1], [51.528562, -0.138714, 1], [51.542001, -0.135569, 1], [51.52986, -0.124243, 1], [51.516928, -0.130972, 1], [51.551314, -0.184664, 1], [51.53334, -0.122514, 1], [51.520484, -0.117133, 1], [51.523138, -0.136917, 1], [51.516933, -0.120018, 1], [51.561229, -0.180374, 1], [51.550899, -0.169535, 1], [51.544164, -0.141538, 1], [51.517624, -0.123881, 1], [51.525977, -0.117627, 2], [51.542937, -0.149232, 2], [51.527034, -0.138776, 1], [51.53723, -0.192723, 1], [51.555584, -0.170068, 1], [51.549296, -0.153301, 1], [51.546401, -0.180965, 1], [51.53572, -0.164953, 1], [51.537747, -0.168044, 1], [51.551717, -0.141519, 1], [51.538958, -0.170735, 1], [51.525567, -0.125717, 1], [51.523863, -0.142942, 2], [51.545478, -0.133696, 1], [51.539611, -0.195513, 1], [51.545181, -0.177697, 2], [51.541744, -0.142069, 1], [51.54465, -0.143826, 1], [51.517391, -0.120575, 1], [51.526415, -0.12251, 1], [51.542651, -0.148234, 1], [51.543333, -0.151523, 1], [51.518928, -0.121089, 2], [51.550718, -0.140838, 1], [51.524613, -0.127918, 1], [51.52409, -0.128949, 1], [51.514712, -0.127316, 1], [51.535388, -0.132523, 1], [51.558574, -0.148597, 2], [51.548949, -0.194566, 1], [51.546384, -0.185726, 1], [51.518663, -0.132631, 1], [51.54098, -0.139216, 1], [51.553238, -0.169585, 1], [51.5264, -0.138513, 1], [51.55513, -0.141235, 1], [51.548992, -0.191535, 1], [51.514271, -0.12791, 1], [51.539401, -0.141732, 1], [51.537824, -0.184624, 1], [51.550009, -0.164378, 1], [51.518633, -0.119515, 2], [51.516567, -0.125222, 1], [51.541786, -0.173362, 1], [51.549842, -0.142316, 1], [51.525567, -0.125717, 1], [51.530657, -0.134735, 1], [51.52214, -0.113893, 1], [51.524528, -0.12821, 4], [51.543206, -0.149221, 1], [51.523771, -0.142801, 1], [51.549549, -0.140886, 1], [51.525458, -0.135813, 2], [51.55243, -0.141057, 2], [51.537688, -0.193281, 1], [51.51764, -0.119268, 1], [51.553904, -0.154701, 1], [51.521414, -0.113491, 2], [51.546455, -0.161348, 1], [51.542572, -0.137565, 2], [51.53289, -0.133779, 1], [51.557511, -0.195814, 1], [51.52003, -0.122485, 1], [51.534262, -0.146556, 1], [51.557783, -0.195947, 1], [51.544022, -0.166783, 1], [51.537401, -0.151763, 1], [51.541744, -0.142069, 1], [51.535074, -0.13542, 1], [51.525477, -0.136965, 1], [51.518364, -0.130769, 1], [51.554755, -0.192028, 3], [51.538514, -0.142489, 2], [51.543839, -0.155108, 2], [51.550204, -0.182689, 1], [51.541744, -0.142069, 1], [51.546562, -0.128316, 1], [51.53021, -0.123652, 1], [51.534934, -0.189642, 1], [51.525475, -0.125577, 1], [51.556383, -0.146522, 1], [51.515601, -0.126703, 1], [51.519788, -0.129846, 1], [51.518804, -0.124553, 1], [51.537511, -0.141665, 1], [51.562566, -0.179599, 1], [51.535227, -0.122436, 2], [51.545932, -0.150985, 2], [51.517569, -0.120424, 1], [51.547849, -0.141388, 1], [51.531809, -0.139302, 1], [51.517571, -0.120568, 1], [51.549546, -0.163531, 1], [51.553687, -0.163797, 1], [51.531309, -0.130527, 1], [51.545871, -0.175794, 1], [51.527588, -0.145385, 1], [51.539639, -0.191474, 1], [51.534934, -0.189642, 2], [51.523747, -0.129972, 1], [51.539611, -0.195513, 3], [51.556347, -0.178693, 1], [51.546475, -0.145482, 1], [51.53977, -0.142294, 2], [51.547196, -0.180068, 1], [51.545641, -0.1784, 1], [51.551389, -0.166342, 1], [51.52955, -0.138673, 1], [51.541701, -0.179422, 1], [51.545067, -0.14179, 1], [51.539581, -0.141725, 1], [51.550805, -0.140691, 2], [51.534476, -0.143086, 1], [51.515066, -0.127013, 1], [51.541687, -0.138466, 1], [51.517016, -0.130824, 1], [51.553801, -0.136818, 1], [51.551719, -0.175993, 1], [51.525456, -0.135669, 1], [51.516617, -0.128391, 1], [51.539242, -0.143037, 1], [51.515686, -0.126411, 1], [51.539332, -0.143033, 1], [51.528302, -0.128055, 1], [51.520124, -0.122769, 1], [51.543839, -0.155108, 1], [51.541624, -0.145824, 1], [51.526203, -0.126123, 1], [51.528991, -0.126153, 1], [51.559735, -0.182597, 2], [51.513631, -0.127216, 1], [51.521997, -0.110583, 1], [51.540542, -0.139955, 1], [51.557691, -0.195807, 1], [51.554444, -0.171989, 1], [51.552863, -0.168591, 1], [51.516377, -0.130274, 1], [51.53539, -0.190056, 1], [51.536314, -0.191606, 3], [51.552519, -0.141053, 1], [51.536714, -0.142418, 1], [51.527268, -0.130837, 1], [51.522007, -0.122403, 1], [51.546415, -0.141735, 11], [51.543029, -0.166534, 1], [51.550759, -0.183676, 1], [51.54364, -0.125551, 1], [51.542641, -0.141889, 1], [51.52006, -0.118736, 1], [51.516377, -0.130274, 2], [51.549635, -0.140594, 1], [51.548089, -0.191283, 1], [51.55197, -0.15752, 2], [51.545985, -0.148675, 1], [51.522871, -0.125828, 2], [51.54565, -0.1559, 1], [51.529161, -0.136815, 1], [51.544973, -0.141505, 1], [51.52424, -0.115824, 1], [51.52573, -0.135946, 5], [51.541865, -0.138315, 1], [51.517774, -0.127622, 2], [51.54938, -0.181712, 1], [51.547558, -0.180198, 1], [51.546, -0.143915, 1], [51.538783, -0.142478, 1], [51.530561, -0.123061, 1], [51.524892, -0.122861, 2], [51.518931, -0.121233, 1], [51.555855, -0.175972, 1], [51.550845, -0.183384, 1], [51.543114, -0.14908, 1], [51.52427, -0.128942, 1], [51.525565, -0.125573, 1], [51.553237, -0.158046, 4], [51.519574, -0.122071, 1], [51.539047, -0.170732, 1], [51.529346, -0.120227, 1], [51.515737, -0.123959, 1], [51.522866, -0.136784, 2], [51.542065, -0.179696, 1], [51.517626, -0.118404, 1], [51.541687, -0.138466, 3], [51.530803, -0.121321, 1], [51.524686, -0.138151, 1], [51.530798, -0.121032, 1], [51.541804, -0.145817, 1], [51.54237, -0.147524, 1], [51.538878, -0.142763, 1], [51.52505, -0.138424, 1], [51.51611, -0.130429, 1], [51.541548, -0.17539, 1], [51.521412, -0.113347, 4], [51.549352, -0.191521, 1], [51.517016, -0.130824, 2], [51.520958, -0.113077, 1], [51.539611, -0.195513, 1], [51.5438, -0.152658, 1], [51.545096, -0.177989, 1], [51.537404, -0.134892, 1], [51.538991, -0.138576, 1], [51.568877, -0.174874, 1], [51.523037, -0.119334, 1], [51.536118, -0.138838, 1], [51.522309, -0.124409, 1], [51.526076, -0.123822, 1], [51.552628, -0.142203, 1], [51.553364, -0.171888, 1], [51.527598, -0.145961, 1], [51.551762, -0.167193, 1], [51.5445, -0.162869, 1], [51.519684, -0.134607, 1], [51.534224, -0.138483, 1], [51.534742, -0.137164, 1], [51.520564, -0.116553, 2], [51.519671, -0.105779, 1], [51.521905, -0.110443, 1], [51.541548, -0.17539, 2], [51.536241, -0.146619, 1], [51.516299, -0.119756, 1], [51.539756, -0.141429, 1], [51.541842, -0.125625, 1], [51.543729, -0.159583, 1], [51.542042, -0.138163, 2], [51.516136, -0.126392, 1], [51.54705, -0.159161, 1], [51.539087, -0.144629, 1], [51.555015, -0.173986, 1], [51.550672, -0.183824, 1], [51.539493, -0.141873, 1], [51.538671, -0.141041, 1], [51.540998, -0.192141, 1], [51.516698, -0.127811, 1], [51.519942, -0.133876, 2], [51.530272, -0.138788, 1], [51.554286, -0.144732, 1], [51.539408, -0.188166, 2], [51.52514, -0.138421, 4], [51.538263, -0.138029, 1], [51.521412, -0.113347, 2], [51.515071, -0.12168, 1], [51.543729, -0.159583, 1], [51.521859, -0.135671, 1], [51.524778, -0.138291, 2], [51.556644, -0.192097, 2], [51.520246, -0.130404, 1], [51.520659, -0.116837, 1], [51.51896, -0.111862, 1], [51.557785, -0.178636, 2], [51.556053, -0.194573, 1], [51.515543, -0.128723, 1], [51.54847, -0.181027, 1], [51.55353, -0.176786, 2], [51.526251, -0.117904, 1], [51.52226, -0.127006, 1], [51.546832, -0.179794, 1], [51.535794, -0.129767, 2], [51.552218, -0.167607, 1], [51.552519, -0.141053, 1], [51.546918, -0.191185, 1], [51.562481, -0.179891, 1], [51.546739, -0.191192, 1], [51.55822, -0.143273, 1], [51.54947, -0.175939, 3], [51.543816, -0.153667, 1], [51.528994, -0.126297, 1], [51.533069, -0.139395, 1], [51.519021, -0.121229, 1], [51.51931, -0.10565, 2], [51.545167, -0.165294, 1], [51.550575, -0.183395, 1], [51.518493, -0.121971, 1], [51.54406, -0.175002, 1], [51.528382, -0.138721, 1], [51.542575, -0.137709, 1], [51.522864, -0.136639, 1], [51.551793, -0.18075, 1], [51.539127, -0.141455, 1], [51.516447, -0.128974, 1], [51.541924, -0.142062, 1], [51.521076, -0.114802, 1], [51.519544, -0.120198, 1], [51.537668, -0.140217, 1], [51.524615, -0.128063, 1], [51.520484, -0.117133, 1], [51.516772, -0.126799, 1], [51.520847, -0.106162, 1], [51.516571, -0.119889, 1], [51.528526, -0.11954, 1], [51.529281, -0.138684, 1], [51.53095, -0.119296, 1], [51.530948, -0.119152, 1], [51.519671, -0.105779, 1], [51.518496, -0.105395, 1], [51.542752, -0.137558, 1], [51.553272, -0.194972, 1], [51.545002, -0.126361, 1], [51.536847, -0.122514, 1], [51.539724, -0.139412, 1], [51.534413, -0.122181, 1], [51.521847, -0.106842, 1], [51.530798, -0.121032, 1], [51.530798, -0.121032, 1], [51.544101, -0.126253, 1], [51.557259, -0.179522, 1], [51.518841, -0.121236, 1], [51.520393, -0.105893, 1], [51.538421, -0.194118, 1], [51.539883, -0.195646, 2], [51.538879, -0.194676, 1], [51.540892, -0.196904, 1], [51.541808, -0.198021, 1], [51.541718, -0.198025, 1], [51.537232, -0.192867, 1], [51.541352, -0.197607, 1], [51.539977, -0.195931, 1], [51.540067, -0.195927, 2], [51.539613, -0.195657, 1], [51.539611, -0.195513, 1], [51.567567, -0.183151, 1], [51.561491, -0.191472, 1], [51.562639, -0.190128, 1], [51.571088, -0.149531, 1], [51.518229, -0.10555, 1], [51.543545, -0.136516, 1], [51.523788, -0.126943, 1], [51.517864, -0.116376, 2], [51.518933, -0.121377, 1], [51.555286, -0.145412, 1], [51.518105, -0.114636, 1], [51.537184, -0.155089, 1], [51.5416, -0.138614, 1], [51.54204, -0.138019, 1], [51.518997, -0.136653, 1], [51.560128, -0.178975, 1], [51.530169, -0.126681, 1], [51.540019, -0.140986, 1], [51.536714, -0.142418, 1], [51.541422, -0.138766, 1], [51.541548, -0.17539, 2], [51.531363, -0.145232, 1], [51.546399, -0.175052, 1], [51.55297, -0.158201, 1], [51.549102, -0.141048, 1], [51.526353, -0.129865, 1], [51.517571, -0.120568, 1], [51.53038, -0.134314, 1], [51.542624, -0.169435, 1], [51.515684, -0.126267, 1], [51.544963, -0.175254, 1], [51.521965, -0.108567, 1], [51.545873, -0.181708, 1], [51.543729, -0.159583, 1], [51.542857, -0.144187, 1], [51.551243, -0.191735, 1], [51.518841, -0.121236, 1], [51.529249, -0.125421, 1], [51.519711, -0.108228, 1], [51.532361, -0.145768, 1], [51.546886, -0.131764, 2], [51.548932, -0.153027, 1], [51.523311, -0.119611, 1], [51.549552, -0.14103, 1], [51.51805, -0.111179, 1], [51.551969, -0.192139, 1], [51.522023, -0.112168, 1], [51.517866, -0.127763, 1], [51.536714, -0.142418, 1], [51.53923, -0.142316, 1], [51.565718, -0.15682, 1], [51.539153, -0.194954, 1], [51.544599, -0.17498, 1], [51.550838, -0.165643, 1], [51.519686, -0.134751, 1], [51.554352, -0.177619, 1], [51.543622, -0.141416, 1], [51.545731, -0.178396, 1], [51.540542, -0.139955, 1], [51.537504, -0.193, 1], [51.538178, -0.138321, 1], [51.545468, -0.155763, 1], [51.526965, -0.134454, 1], [51.548745, -0.141207, 1], [51.53888, -0.142907, 1], [51.521414, -0.113491, 1], [51.538449, -0.144078, 1], [51.528549, -0.132226, 1], [51.517975, -0.12329, 2], [51.556709, -0.196278, 1], [51.537827, -0.184768, 1], [51.516774, -0.126943, 1], [51.541546, -0.175246, 1], [51.516384, -0.130706, 1], [51.54041, -0.188992, 1], [51.543029, -0.166534, 1], [51.561821, -0.149186, 1], [51.526581, -0.132884, 1], [51.517919, -0.131076, 1], [51.543524, -0.152236, 1], [51.517908, -0.119113, 1], [51.541139, -0.137912, 1], [51.522645, -0.122954, 1], [51.55483, -0.19693, 2], [51.557691, -0.195807, 1], [51.543545, -0.136516, 1], [51.527303, -0.144387, 1], [51.541551, -0.141212, 1], [51.541784, -0.173218, 1], [51.522232, -0.114033, 1], [51.524242, -0.115969, 1], [51.527009, -0.131569, 1], [51.543029, -0.166534, 1], [51.564129, -0.152988, 1], [51.546098, -0.178814, 1], [51.537827, -0.184768, 1], [51.52082, -0.126921, 1], [51.520311, -0.117572, 1], [51.519714, -0.119615, 1], [51.530468, -0.12292, 1], [51.539943, -0.187856, 1], [51.516193, -0.124372, 1], [51.518841, -0.121236, 1], [51.54937, -0.140893, 1], [51.521974, -0.109143, 1], [51.541242, -0.138773, 1], [51.526225, -0.138809, 1], [51.524686, -0.138151, 1], [51.528998, -0.126585, 1], [51.540062, -0.143724, 1], [51.54469, -0.135027, 1], [51.544245, -0.192733, 1], [51.52791, -0.131676, 1], [51.553139, -0.169012, 1], [51.541728, -0.175383, 2], [51.526415, -0.133755, 1], [51.545696, -0.141764, 1], [51.540246, -0.144005, 1], [51.52986, -0.124243, 1], [51.52709, -0.130989, 2], [51.51694, -0.126071, 1], [51.521772, -0.124575, 1], [51.547938, -0.141384, 1], [51.527922, -0.121151, 1], [51.540362, -0.139963, 1], [51.545269, -0.177549, 1], [51.53778, -0.193422, 1], [51.51908, -0.10811, 1], [51.539694, -0.177628, 1], [51.516278, -0.129702, 1], [51.527687, -0.145958, 1], [51.525567, -0.125717, 1], [51.539042, -0.136123, 1], [51.547767, -0.130574, 1], [51.527609, -0.12967, 2], [51.54076, -0.194169, 1], [51.521131, -0.123881, 2], [51.541905, -0.175232, 1], [51.540627, -0.139663, 1], [51.540625, -0.139519, 1], [51.551629, -0.175997, 1], [51.527272, -0.131125, 1], [51.555783, -0.148422, 1], [51.528616, -0.119536, 1], [51.525565, -0.125573, 1], [51.543811, -0.153379, 1], [51.527155, -0.1294, 1], [51.534617, -0.140629, 1], [51.53723, -0.192723, 1], [51.521076, -0.114802, 1], [51.515601, -0.126703, 1], [51.552519, -0.141053, 1], [51.522814, -0.122226, 1], [51.542806, -0.17534, 1], [51.537962, -0.193559, 1], [51.541276, -0.181026, 1], [51.547483, -0.135345, 2], [51.527178, -0.130841, 2], [51.530291, -0.123072, 1], [51.52623, -0.133475, 1], [51.54045, -0.139815, 1], [51.54884, -0.158656, 1], [51.528931, -0.12803, 1], [51.52727, -0.130981, 1], [51.52623, -0.133475, 1], [51.556474, -0.140892, 1], [51.529687, -0.124683, 1], [51.550805, -0.140691, 1], [51.53914, -0.14232, 1], [51.551537, -0.175856, 1], [51.557963, -0.19594, 1], [51.546113, -0.156747, 1], [51.549851, -0.142893, 1], [51.521497, -0.113055, 1], [51.521412, -0.113347, 2], [51.526133, -0.138668, 1], [51.51355, -0.127796, 1], [51.51629, -0.130422, 1], [51.528159, -0.119123, 1], [51.527272, -0.131125, 1], [51.53572, -0.164953, 1], [51.519087, -0.119785, 1], [51.543427, -0.151808, 1], [51.527072, -0.118591, 1], [51.559328, -0.19704, 1], [51.545731, -0.178396, 1], [51.54295, -0.167258, 3], [51.55467, -0.151929, 1], [51.556473, -0.146518, 1], [51.550764, -0.138096, 1], [51.561321, -0.180514, 1], [51.547679, -0.130722, 1], [51.52718, -0.130985, 1], [51.53941, -0.18831, 1], [51.52623, -0.133475, 2], [51.520318, -0.118004, 1], [51.545653, -0.133401, 1], [51.545876, -0.153151, 1], [51.516933, -0.120018, 1], [51.546418, -0.141879, 1], [51.540192, -0.140546, 1], [51.534867, -0.122451, 1], [51.55193, -0.195458, 2], [51.523682, -0.137183, 1], [51.550651, -0.205894, 1], [51.538444, -0.155182, 1], [51.526751, -0.1323, 1], [51.523542, -0.122773, 1], [51.528382, -0.138721, 1], [51.539933, -0.141278, 1], [51.533125, -0.13723, 3], [51.549712, -0.197421, 1], [51.518928, -0.121089, 1], [51.519191, -0.120645, 1], [51.5542, -0.19104, 1], [51.541458, -0.175394, 1], [51.552586, -0.168169, 1], [51.529862, -0.124387, 1], [51.536714, -0.142418, 1], [51.547905, -0.191002, 1], [51.542364, -0.19324, 1], [51.526582, -0.13865, 1], [51.539493, -0.141873, 1], [51.543887, -0.175441, 1], [51.527088, -0.130844, 2], [51.527263, -0.130549, 1], [51.525988, -0.140837, 1], [51.522046, -0.124852, 1], [51.53572, -0.164953, 1], [51.556437, -0.17869, 2], [51.539931, -0.141134, 2], [51.537145, -0.141247, 1], [51.558416, -0.196211, 2], [51.524414, -0.138018, 1], [51.543545, -0.136516, 1], [51.525712, -0.129171, 1], [51.546951, -0.175895, 1], [51.516382, -0.130562, 2], [51.549199, -0.152872, 1], [51.525565, -0.125573, 1], [51.55617, -0.178845, 1], [51.519498, -0.122939, 2], [51.522138, -0.124993, 2], [51.519021, -0.121229, 1], [51.514294, -0.129351, 1], [51.542003, -0.135713, 1], [51.519279, -0.120498, 1], [51.542857, -0.144187, 1], [51.535206, -0.189775, 1], [51.538147, -0.19384, 1], [51.540452, -0.139959, 3], [51.541712, -0.174374, 1], [51.539129, -0.141599, 1], [51.54692, -0.179647, 1], [51.524868, -0.138288, 1], [51.516774, -0.126943, 1], [51.515603, -0.126847, 2], [51.554447, -0.172133, 1], [51.570319, -0.146388, 1], [51.542244, -0.145222, 1], [51.53723, -0.192723, 1], [51.551153, -0.191738, 1], [51.516481, -0.119892, 1], [51.524703, -0.127915, 2], [51.545932, -0.191368, 1], [51.526223, -0.138665, 1], [51.51594, -0.125392, 1], [51.542112, -0.171186, 1], [51.529685, -0.124539, 1], [51.530123, -0.1238, 1], [51.524786, -0.116234, 1], [51.525567, -0.125717, 1], [51.538958, -0.170735, 1], [51.542949, -0.144328, 1], [51.551793, -0.18075, 1], [51.52624, -0.134051, 1], [51.539153, -0.194954, 1], [51.541801, -0.145672, 1], [51.555404, -0.193301, 1], [51.517567, -0.12028, 1], [51.524431, -0.127782, 1], [51.520993, -0.132103, 1], [51.552525, -0.135716, 1], [51.543139, -0.150666, 1], [51.551299, -0.166346, 1], [51.538098, -0.133277, 2], [51.540131, -0.142424, 1], [51.539793, -0.19565, 1], [51.520656, -0.116693, 1], [51.549934, -0.153852, 1], [51.538173, -0.138033, 1], [51.517868, -0.116664, 1], [51.540452, -0.139959, 1], [51.531273, -0.145235, 1], [51.557928, -0.187863, 1], [51.53572, -0.164953, 1], [51.542489, -0.195543, 1], [51.546748, -0.151385, 1], [51.517633, -0.118836, 1], [51.550164, -0.197547, 1], [51.528, -0.131672, 1], [51.544437, -0.14744, 1], [51.554107, -0.19667, 1], [51.530471, -0.123064, 1], [51.533032, -0.137089, 2], [51.523837, -0.129969, 2], [51.523127, -0.11933, 1], [51.525593, -0.144313, 1], [51.525171, -0.123427, 1], [51.543236, -0.151094, 1], [51.537211, -0.145426, 1], [51.523401, -0.130851, 1], [51.539485, -0.175761, 1], [51.526786, -0.14585, 1], [51.521956, -0.124856, 1], [51.552522, -0.141197, 2], [51.535777, -0.140005, 1], [51.556877, -0.19555, 1], [51.546418, -0.141879, 1], [51.541624, -0.145824, 1], [51.557992, -0.168817, 1], [51.543885, -0.175297, 1], [51.553478, -0.161931, 1], [51.52014, -0.112534, 1], [51.541258, -0.197322, 1], [51.539143, -0.142464, 1], [51.52727, -0.130981, 1], [51.557992, -0.168817, 1], [51.528382, -0.138721, 1], [51.554166, -0.171423, 1], [51.517802, -0.12373, 1], [51.518387, -0.13221, 1], [51.521039, -0.123741, 1], [51.539201, -0.192212, 1], [51.526233, -0.133619, 1], [51.526076, -0.123822, 1], [51.550334, -0.18528, 1], [51.528596, -0.140875, 1], [51.529283, -0.138828, 1], [51.518023, -0.120694, 1], [51.521325, -0.113494, 1], [51.542454, -0.193237, 1], [51.523983, -0.139189, 1], [51.541548, -0.17539, 1], [51.553371, -0.189775, 1], [51.550738, -0.199832, 1], [51.54111, -0.181897, 1], [51.544691, -0.17512, 1], [51.56067, -0.150387, 1], [51.54153, -0.180006, 1], [51.548932, -0.153027, 1], [51.556965, -0.195403, 1], [51.556475, -0.146662, 1], [51.545924, -0.161947, 1], [51.5162, -0.130425, 1], [51.521316, -0.124162, 1], [51.546232, -0.175924, 1], [51.532512, -0.138264, 1], [51.54371, -0.152662, 1], [51.538878, -0.142763, 1], [51.554499, -0.152513, 1], [51.538968, -0.142759, 1], [51.550718, -0.140838, 1], [51.541609, -0.173513, 1], [51.539129, -0.141599, 1], [51.550071, -0.191493, 1], [51.55189, -0.141079, 1], [51.527058, -0.134594, 1], [51.528998, -0.126585, 1], [51.534131, -0.143966, 1], [51.516384, -0.130706, 1], [51.545388, -0.1337, 1], [51.547898, -0.133165, 1], [51.549022, -0.153023, 1], [51.533122, -0.137086, 1], [51.527434, -0.11872, 1], [51.549639, -0.140882, 1], [51.525385, -0.114336, 1], [51.534954, -0.139174, 1], [51.524322, -0.137877, 1], [51.539137, -0.170728, 1], [51.54388, -0.175009, 2], [51.525894, -0.129308, 1], [51.517569, -0.120424, 1], [51.556419, -0.194992, 1], [51.516472, -0.130558, 1], [51.535077, -0.135564, 1], [51.536592, -0.192171, 1], [51.55033, -0.184992, 1], [51.561139, -0.180377, 1], [51.563798, -0.149106, 1], [51.536715, -0.136795, 1], [51.532607, -0.127302, 1], [51.549478, -0.153438, 2], [51.530556, -0.122773, 2], [51.545557, -0.149991, 1], [51.562248, -0.188124, 1], [51.528998, -0.126585, 1], [51.54575, -0.150848, 1], [51.524615, -0.128063, 1], [51.524332, -0.115965, 1], [51.532962, -0.126999, 2], [51.520912, -0.127061, 1], [51.55426, -0.177478, 1], [51.539045, -0.170588, 1], [51.536063, -0.146771, 1], [51.517871, -0.116808, 1], [51.544195, -0.172112, 1], [51.534081, -0.129549, 1], [51.55016, -0.191489, 1], [51.550358, -0.140853, 1], [51.519942, -0.133876, 1], [51.524592, -0.137866, 1], [51.51917, -0.136214, 1], [51.520672, -0.134567, 1], [51.547817, -0.191149, 1], [51.522956, -0.13678, 1], [51.545606, -0.141768, 1], [51.528382, -0.138721, 1], [51.551064, -0.191742, 1], [51.526805, -0.124369, 1], [51.549102, -0.141048, 1], [51.549733, -0.163957, 1], [51.522315, -0.136085, 1], [51.545699, -0.141908, 1], [51.518507, -0.128457, 1], [51.541508, -0.138474, 1], [51.541191, -0.175549, 1], [51.557785, -0.178636, 1], [51.539086, -0.138861, 1], [51.523161, -0.138357, 2], [51.527514, -0.135008, 1], [51.548833, -0.141059, 1], [51.538449, -0.144078, 1], [51.536066, -0.146915, 1], [51.546102, -0.179102, 1], [51.558913, -0.181765, 1], [51.515513, -0.12685, 1], [51.540364, -0.140107, 1], [51.537486, -0.14008, 1], [51.528044, -0.128787, 2], [51.529463, -0.138821, 1], [51.555199, -0.174267, 1], [51.545844, -0.151133, 1], [51.537055, -0.141251, 1], [51.518023, -0.131936, 1], [51.547817, -0.191149, 1], [51.548899, -0.162404, 2], [51.519391, -0.133178, 1], [51.525131, -0.137844, 1], [51.551711, -0.141086, 1], [51.5541, -0.144307, 1], [51.553928, -0.190907, 1], [51.545283, -0.144089, 1], [51.521076, -0.114802, 1], [51.535404, -0.133532, 1], [51.545645, -0.155612, 1], [51.545609, -0.141912, 1], [51.542276, -0.147239, 1], [51.541913, -0.135717, 1], [51.534235, -0.139203, 1], [51.543377, -0.125995, 1], [51.543819, -0.15958, 1], [51.519018, -0.121085, 1], [51.521435, -0.131653, 1], [51.553928, -0.190907, 5], [51.527573, -0.138754, 1], [51.543247, -0.174746, 1], [51.518928, -0.121089, 1], [51.549464, -0.152573, 1], [51.51694, -0.126071, 1], [51.525046, -0.126892, 1], [51.545126, -0.134144, 1], [51.543729, -0.159583, 2], [51.539137, -0.170728, 1], [51.532433, -0.138988, 1], [51.516384, -0.130706, 1], [51.515511, -0.126706, 1], [51.552164, -0.193141, 1], [51.536597, -0.140693, 1], [51.554928, -0.151197, 1], [51.518749, -0.121096, 1], [51.551301, -0.16649, 1], [51.539519, -0.195372, 1], [51.52589, -0.117775, 1], [51.549538, -0.140165, 1], [51.521916, -0.111163, 1], [51.534934, -0.189642, 1], [51.549521, -0.144782, 1], [51.55501, -0.156387, 1], [51.549262, -0.191525, 1], [51.556655, -0.146655, 2], [51.570614, -0.147963, 1], [51.525189, -0.130201, 1], [51.51614, -0.121059, 1], [51.543852, -0.155973, 1], [51.543425, -0.151664, 1], [51.520313, -0.117716, 1], [51.5559, -0.178855, 1], [51.542245, -0.17392, 1], [51.545905, -0.126612, 1], [51.519021, -0.121229, 1], [51.528921, -0.138699, 1], [51.544058, -0.174857, 1], [51.526726, -0.130715, 1], [51.54584, -0.191228, 1], [51.550769, -0.149779, 1], [51.534954, -0.139174, 1], [51.522682, -0.114015, 1], [51.545635, -0.126623, 1], [51.545842, -0.150989, 1], [51.555781, -0.176985, 1], [51.547062, -0.131468, 1], [51.527613, -0.129958, 1], [51.537146, -0.147015, 1], [51.516926, -0.130828, 1], [51.542752, -0.137558, 1], [51.537145, -0.141247, 1], [51.521242, -0.11393, 1], [51.521594, -0.113483, 1], [51.544885, -0.141653, 1], [51.529862, -0.124387, 1], [51.527034, -0.138776, 1], [51.541617, -0.156784, 1], [51.514751, -0.118522, 1], [51.528991, -0.126153, 1], [51.54602, -0.150837, 1], [51.52968, -0.12425, 1], [51.527703, -0.129954, 1], [51.561127, -0.150802, 1], [51.534569, -0.137603, 1], [51.557439, -0.167974, 1], [51.541462, -0.135591, 1], [51.535095, -0.148108, 1], [51.525809, -0.135222, 2], [51.555529, -0.166608, 1], [51.521412, -0.113347, 3], [51.546147, -0.147515, 1], [51.553528, -0.176642, 2], [51.516292, -0.130566, 1], [51.547582, -0.130293, 1], [51.521414, -0.113491, 1], [51.52409, -0.128949, 1], [51.53493, -0.189353, 1], [51.544115, -0.144136, 1], [51.521587, -0.113051, 1], [51.524778, -0.138291, 1], [51.526201, -0.125979, 1], [51.541744, -0.142069, 1], [51.550628, -0.140842, 1], [51.521076, -0.114802, 1], [51.517067, -0.122751, 1], [51.521029, -0.106299, 1], [51.519492, -0.105786, 1], [51.51755, -0.119272, 1], [51.542551, -0.141892, 1], [51.532361, -0.145768, 1], [51.548526, -0.138764, 1], [51.539668, -0.141577, 1], [51.526495, -0.138798, 1], [51.539669, -0.187579, 1], [51.522522, -0.137807, 1], [51.563278, -0.179138, 1], [51.523132, -0.12524, 1], [51.556657, -0.146799, 1], [51.53559, -0.13958, 1], [51.527452, -0.131118, 1], [51.549641, -0.141026, 1], [51.539386, -0.135099, 1], [51.527351, -0.124779, 1], [51.532923, -0.147187, 1], [51.539137, -0.170728, 1], [51.519627, -0.119763, 1], [51.530031, -0.123659, 1], [51.541869, -0.138603, 3], [51.516613, -0.128102, 1], [51.525987, -0.123826, 1], [51.554849, -0.192313, 1], [51.526811, -0.130423, 1], [51.541255, -0.145262, 1], [51.524872, -0.144198, 1], [51.530556, -0.122773, 1], [51.531397, -0.13038, 1], [51.519117, -0.132901, 1], [51.520461, -0.115692, 1], [51.525228, -0.138273, 1], [51.530641, -0.122481, 1], [51.551539, -0.176, 1], [51.542084, -0.198443, 1], [51.529683, -0.124394, 2], [51.515774, -0.126263, 1], [51.552074, -0.193144, 1], [51.521406, -0.124158, 2], [51.537318, -0.192575, 1], [51.546418, -0.141879, 1], [51.559403, -0.178571, 1], [51.542802, -0.175052, 1], [51.530123, -0.1238, 1], [51.537749, -0.168188, 2], [51.549978, -0.150965, 1], [51.529373, -0.138825, 1], [51.547368, -0.191167, 1], [51.540233, -0.14314, 1], [51.518023, -0.131936, 1], [51.514974, -0.126872, 1], [51.55216, -0.141068, 1], [51.518023, -0.120694, 1], [51.554757, -0.192172, 1], [51.521076, -0.114802, 1], [51.516481, -0.119892, 1], [51.547098, -0.191178, 1], [51.552348, -0.175968, 2], [51.515066, -0.127013, 2], [51.5323, -0.136254, 1], [51.528219, -0.128491, 3], [51.543526, -0.192762, 1], [51.545568, -0.133693, 1], [51.528302, -0.128055, 2], [51.517931, -0.120553, 1], [51.530462, -0.122488, 1], [51.546921, -0.191329, 1], [51.547673, -0.176011, 1], [51.554757, -0.192172, 1], [51.558739, -0.141954, 1], [51.544482, -0.196474, 2], [51.517896, -0.124014, 1], [51.544682, -0.145844, 2], [51.530556, -0.122773, 1], [51.524615, -0.128063, 1], [51.535581, -0.13338, 1], [51.528247, -0.135843, 1], [51.549109, -0.141481, 1], [51.538419, -0.142205, 1], [51.54908, -0.191388, 1], [51.553365, -0.143327, 1], [51.521403, -0.135258, 1], [51.537404, -0.134892, 1], [51.523535, -0.122341, 1], [51.527178, -0.130841, 1], [51.52532, -0.138413, 1], [51.547589, -0.130725, 1], [51.548751, -0.19342, 2], [51.515186, -0.123261, 1], [51.546289, -0.19121, 1], [51.545724, -0.154888, 2], [51.538514, -0.142489, 1], [51.525655, -0.125569, 1], [51.515663, -0.119349, 1], [51.541806, -0.145961, 1], [51.539412, -0.142453, 1], [51.548563, -0.14107, 1], [51.546804, -0.143594, 1], [51.552168, -0.175975, 1], [51.520732, -0.115825, 1], [51.524113, -0.136012, 1], [51.545606, -0.141768, 1], [51.516198, -0.12466, 1], [51.553513, -0.152697, 1], [51.513831, -0.128505, 1], [51.525032, -0.137272, 2], [51.559003, -0.181761, 1], [51.55426, -0.177478, 1], [51.519119, -0.133045, 1], [51.551019, -0.154241, 2], [51.5167, -0.127955, 1], [51.516292, -0.130566, 1], [51.520334, -0.130256, 1], [51.537404, -0.134892, 1], [51.559131, -0.178438, 1], [51.545842, -0.150989, 1], [51.556475, -0.146662, 1], [51.555995, -0.139036, 1], [51.540275, -0.14011, 1], [51.516861, -0.126795, 1], [51.553986, -0.165661, 1], [51.540364, -0.140107, 2], [51.531489, -0.13052, 1], [51.559032, -0.149155, 1], [51.524332, -0.115965, 1], [51.556871, -0.171892, 1], [51.527272, -0.131125, 1], [51.545969, -0.182136, 1], [51.516822, -0.118725, 1], [51.539042, -0.136123, 1], [51.528277, -0.132093, 1], [51.553476, -0.161786, 1], [51.547512, -0.154238, 1], [51.538904, -0.138724, 1], [51.535301, -0.19006, 1], [51.560128, -0.178975, 1], [51.537831, -0.144824, 1], [51.549109, -0.152876, 1], [51.540613, -0.144423, 1], [51.541937, -0.171481, 1], [51.55216, -0.141068, 1], [51.554292, -0.191181, 1], [51.517495, -0.121436, 1], [51.539053, -0.142467, 1], [51.527816, -0.131391, 1], [51.546322, -0.175921, 1], [51.552991, -0.171038, 2], [51.526719, -0.130283, 1], [51.541997, -0.146674, 1], [51.519938, -0.122344, 1], [51.556527, -0.178686, 1], [51.539698, -0.143451, 1], [51.528562, -0.138714, 1], [51.530031, -0.123659, 1], [51.521414, -0.113491, 1], [51.535408, -0.139444, 1], [51.52006, -0.118736, 1], [51.517983, -0.107002, 1], [51.516774, -0.126943, 1], [51.54333, -0.139986, 1], [51.55394, -0.185858, 1], [51.54246, -0.14752, 1], [51.516382, -0.130562, 1], [51.520885, -0.125333, 1], [51.545476, -0.133552, 1], [51.528989, -0.126009, 1], [51.542872, -0.139428, 1], [51.545748, -0.150704, 1], [51.526315, -0.138805, 1], [51.526944, -0.13878, 1], [51.518198, -0.126019, 1], [51.543897, -0.153087, 1], [51.528382, -0.138721, 1], [51.51526, -0.122249, 1], [51.527613, -0.129958, 2], [51.545365, -0.177978, 1], [51.519714, -0.119615, 1], [51.560933, -0.178654, 1], [51.528994, -0.126297, 1], [51.546418, -0.141879, 1], [51.524453, -0.140467, 1], [51.519686, -0.112265, 1], [51.517387, -0.120287, 1], [51.55122, -0.184379, 1], [51.51638, -0.130418, 5], [51.543017, -0.137258, 1], [51.54584, -0.150845, 1], [51.542925, -0.125869, 1], [51.519671, -0.105779, 1], [51.5308, -0.121177, 1], [51.545002, -0.126361, 1], [51.536844, -0.12237, 1], [51.518321, -0.105691, 2], [51.534416, -0.122325, 1], [51.53884, -0.123441, 1], [51.530798, -0.121032, 1], [51.530798, -0.121032, 2], [51.5308, -0.121177, 1], [51.542174, -0.13513, 1], [51.521748, -0.111891, 1], [51.530731, -0.122477, 1], [51.537298, -0.122639, 1], [51.530639, -0.122337, 1], [51.530869, -0.119876, 1], [51.538568, -0.123308, 1], [51.53778, -0.193422, 1], [51.54071, -0.196767, 1], [51.538695, -0.194395, 1], [51.539701, -0.195509, 1], [51.538329, -0.193977, 1], [51.537506, -0.193144, 1], [51.536682, -0.192168, 1], [51.540069, -0.196071, 1], [51.536682, -0.192168, 1], [51.537596, -0.193141, 2], [51.538513, -0.194258, 1], [51.536866, -0.192449, 1], [51.538239, -0.193981, 1], [51.539609, -0.195368, 1], [51.559328, -0.19704, 3], [51.559423, -0.197325, 1], [51.567843, -0.183573, 1], [51.530867, -0.119732, 1], [51.525373, -0.136105, 1], [51.516294, -0.13071, 1], [51.526157, -0.145876, 2], [51.528274, -0.131949, 1], [51.545568, -0.133693, 1], [51.530296, -0.12336, 1], [51.558169, -0.145728, 1], [51.538271, -0.19023, 4], [51.527542, -0.131114, 1], [51.536508, -0.146464, 1], [51.519799, -0.119323, 1], [51.546418, -0.141879, 3], [51.543991, -0.153371, 1], [51.539485, -0.175761, 2], [51.527178, -0.130841, 4], [51.535528, -0.13569, 1], [51.52419, -0.14091, 1], [51.51976, -0.122496, 1], [51.552819, -0.188931, 3], [51.545647, -0.155756, 1], [51.517156, -0.122747, 1], [51.535502, -0.139728, 1], [51.554663, -0.1401, 1], [51.523248, -0.138209, 2], [51.552775, -0.168739, 1], [51.549438, -0.156612, 1], [51.54504, -0.134435, 1], [51.546328, -0.141883, 3], [51.532611, -0.12759, 1], [51.543163, -0.175182, 1], [51.517228, -0.127212, 1], [51.522694, -0.125979, 1], [51.519016, -0.120941, 1], [51.524797, -0.128199, 1], [51.52623, -0.133475, 1], [51.521903, -0.110299, 1], [51.526237, -0.133907, 1], [51.554941, -0.192454, 1], [51.525281, -0.135964, 1], [51.521076, -0.114802, 1], [51.571183, -0.149816, 1], [51.57022, -0.145815, 1], [51.518319, -0.105547, 1], [51.517983, -0.107002, 1], [51.559032, -0.149155, 1], [51.547342, -0.195351, 1], [51.527088, -0.130844, 1], [51.546391, -0.134524, 1], [51.527775, -0.14581, 1], [51.527159, -0.118443, 1], [51.544773, -0.134591, 1], [51.525412, -0.138554, 1], [51.526237, -0.133907, 1], [51.54993, -0.182411, 1], [51.543542, -0.136372, 1], [51.543722, -0.136364, 1], [51.535166, -0.13556, 2], [51.5459, -0.148967, 1], [51.540702, -0.144419, 1], [51.551962, -0.174253, 1], [51.543367, -0.136667, 1], [51.539475, -0.135096, 1], [51.539424, -0.143173, 1], [51.549439, -0.139592, 2], [51.525502, -0.13855, 1], [51.518839, -0.121092, 1], [51.518044, -0.12199, 1], [51.520001, -0.109513, 1], [51.539219, -0.141595, 1], [51.541231, -0.138052, 1], [51.517792, -0.134396, 2], [51.516085, -0.123224, 1], [51.554069, -0.165225, 1], [51.550193, -0.164659, 1], [51.551849, -0.167045, 2], [51.516288, -0.130278, 2], [51.526403, -0.138657, 2], [51.514751, -0.118522, 1], [51.538604, -0.142486, 1], [51.539701, -0.195509, 1], [51.542548, -0.147373, 2], [51.562753, -0.180024, 1], [51.545985, -0.148675, 1], [51.532515, -0.127162, 1], [51.552353, -0.141926, 1], [51.553975, -0.16494, 1], [51.549111, -0.15302, 1], [51.549192, -0.141045, 1], [51.530733, -0.122621, 1], [51.527634, -0.131255, 1], [51.541537, -0.17467, 1], [51.515571, -0.119209, 1], [51.556704, -0.178535, 1], [51.519753, -0.122064, 1], [51.534932, -0.189497, 1], [51.528261, -0.125462, 1], [51.53294, -0.136949, 1], [51.521553, -0.127756, 1], [51.517661, -0.120564, 1], [51.550196, -0.164803, 1], [51.523686, -0.137471, 1], [51.529436, -0.120224, 1], [51.548206, -0.141229, 1], [51.518894, -0.12455, 1], [51.555628, -0.178722, 1], [51.538873, -0.142475, 1], [51.521955, -0.10799, 1], [51.527492, -0.144956, 1], [51.520939, -0.106303, 1], [51.54353, -0.169831, 2], [51.521983, -0.109719, 1], [51.523504, -0.137334, 1], [51.520527, -0.108626, 1], [51.548735, -0.146256, 1], [51.541631, -0.174955, 2], [51.529007, -0.138407, 1], [51.525077, -0.145775, 1], [51.556747, -0.146796, 1], [51.520706, -0.108619, 1], [51.536042, -0.191472, 1], [51.524053, -0.126644, 1], [51.51938, -0.132457, 1], [51.541237, -0.184344, 1], [51.522901, -0.133322, 1], [51.549983, -0.19164, 1], [51.531896, -0.139154, 1], [51.530929, -0.134868, 1], [51.550628, -0.140842, 1], [51.52821, -0.127915, 1], [51.547748, -0.152065, 2], [51.521493, -0.135254, 1], [51.530798, -0.121032, 1], [51.540613, -0.144423, 1], [51.525295, -0.114339, 1], [51.544975, -0.141649, 1], [51.541541, -0.174958, 1], [51.538878, -0.142763, 1], [51.550732, -0.136078, 1], [51.524276, -0.140618, 1], [51.515751, -0.130444, 1], [51.557766, -0.143003, 1], [51.529099, -0.138547, 1], [51.549111, -0.15302, 1], [51.542883, -0.174472, 1], [51.523955, -0.143082, 1], [51.545419, -0.175668, 1], [51.55411, -0.191044, 1], [51.541777, -0.138463, 1], [51.55206, -0.157516, 1], [51.520076, -0.130987, 1], [51.55016, -0.151102, 1], [51.537404, -0.134892, 1], [51.554444, -0.171989, 1], [51.546398, -0.146351, 2], [51.550872, -0.179345, 1], [51.543615, -0.175308, 1], [51.517016, -0.130824, 1], [51.540613, -0.178889, 4], [51.545773, -0.15229, 4], [51.529687, -0.124683, 3], [51.543238, -0.151238, 1], [51.517686, -0.12777, 1], [51.541701, -0.179422, 1], [51.519269, -0.119922, 1], [51.527034, -0.138776, 1], [51.538096, -0.144525, 1], [51.519972, -0.118884, 1], [51.531719, -0.139306, 1], [51.536374, -0.137962, 1], [51.542847, -0.132218, 1], [51.520456, -0.121026, 1], [51.551614, -0.192441, 1], [51.520682, -0.129521, 1], [51.545898, -0.148823, 2], [51.559032, -0.149155, 1], [51.530554, -0.122629, 1], [51.543507, -0.162621, 2], [51.544686, -0.134738, 1], [51.530869, -0.119876, 1], [51.529595, -0.124542, 1], [51.544109, -0.172404, 1], [51.542152, -0.145081, 1], [51.525775, -0.14445, 1], [51.523205, -0.124228, 1], [51.528292, -0.138725, 1], [51.523115, -0.124232, 1], [51.529176, -0.143446, 1], [51.537839, -0.168185, 1], [51.539888, -0.178485, 1], [51.524273, -0.140474, 1], [51.536682, -0.192168, 2], [51.53905, -0.170876, 1], [51.551658, -0.177871, 1], [51.539037, -0.141459, 1], [51.550709, -0.192044, 1], [51.537576, -0.140076, 1], [51.521129, -0.123737, 1], [51.526719, -0.130283, 1], [51.555036, -0.192738, 1], [51.54371, -0.152662, 1], [51.543759, -0.133046, 1], [51.567202, -0.154018, 1], [51.536222, -0.191465, 1], [51.545014, -0.1441, 1], [51.517931, -0.120553, 1], [51.528904, -0.126301, 1], [51.517387, -0.120287, 1], [51.521825, -0.122267, 1], [51.529844, -0.128857, 1], [51.542344, -0.134546, 3], [51.517594, -0.12763, 1], [51.515682, -0.126123, 1], [51.528921, -0.138699, 1], [51.53018, -0.138648, 2], [51.517018, -0.130969, 1], [51.55402, -0.191048, 1], [51.518286, -0.125872, 1], [51.517661, -0.120564, 1], [51.529777, -0.124679, 1], [51.533214, -0.137226, 1], [51.520567, -0.116697, 1], [51.542085, -0.146526, 1], [51.562224, -0.186538, 1], [51.538534, -0.143786, 1], [51.523876, -0.115551, 2], [51.524208, -0.125052, 1], [51.549102, -0.141048, 1], [51.546538, -0.17245, 1], [51.527703, -0.129954, 1], [51.53235, -0.139424, 1], [51.520147, -0.118588, 1], [51.545547, -0.178115, 1], [51.522127, -0.118651, 1], [51.530116, -0.146003, 1], [51.517958, -0.111039, 1], [51.543514, -0.163053, 1], [51.552483, -0.178848, 1], [51.54284, -0.148803, 1], [51.526832, -0.137342, 1], [51.539055, -0.142612, 1], [51.541541, -0.174958, 1], [51.562656, -0.179595, 1], [51.530016, -0.134041, 1], [51.517477, -0.120284, 1], [51.535024, -0.189638, 1], [51.539044, -0.136267, 1], [51.549549, -0.140886, 1], [51.517023, -0.125635, 1], [51.556473, -0.146518, 1], [51.551103, -0.182653, 1], [51.522784, -0.125975, 1], [51.539846, -0.187428, 1], [51.539322, -0.142456, 1], [51.516299, -0.119756, 1], [51.522868, -0.11444, 1], [51.526493, -0.138654, 1], [51.536629, -0.137087, 1], [51.546517, -0.142452, 1], [51.517387, -0.120287, 1], [51.544686, -0.134738, 1], [51.536682, -0.192168, 1], [51.540098, -0.186264, 1], [51.539145, -0.142608, 1], [51.518052, -0.111323, 1], [51.549641, -0.163816, 1], [51.537839, -0.168185, 1], [51.553734, -0.166825, 1], [51.5461, -0.178958, 1], [51.525715, -0.129315, 1], [51.532943, -0.137093, 1], [51.52359, -0.114554, 1], [51.518052, -0.111323, 2], [51.539233, -0.14246, 1], [51.515684, -0.126267, 1], [51.519191, -0.120645, 1], [51.531751, -0.1357, 1], [51.549729, -0.140879, 1], [51.540865, -0.137635, 1], [51.515391, -0.119216, 1], [51.51867, -0.12182, 1], [51.530809, -0.138622, 1], [51.525046, -0.138136, 1], [51.548474, -0.146843, 1], [51.548899, -0.162404, 1], [51.553384, -0.161646, 1], [51.524611, -0.127774, 1], [51.51629, -0.130422, 1], [51.553975, -0.16494, 3], [51.539243, -0.19495, 1], [51.545743, -0.133397, 1], [51.552524, -0.193126, 1], [51.521343, -0.131512, 1], [51.537313, -0.140519, 1], [51.519804, -0.119611, 1], [51.528384, -0.138865, 1], [51.542456, -0.147232, 1], [51.530733, -0.122621, 1], [51.545639, -0.178256, 1], [51.539992, -0.150649, 1], [51.521343, -0.131512, 1], [51.553898, -0.165808, 1], [51.537329, -0.141528, 1], [51.530464, -0.122632, 1], [51.549731, -0.141023, 1], [51.537095, -0.149469, 1], [51.536373, -0.143586, 1], [51.539242, -0.143037, 2], [51.517776, -0.127766, 1], [51.555455, -0.196617, 1], [51.546495, -0.158174, 1], [51.527641, -0.131687, 1], [51.54045, -0.139815, 1], [51.570416, -0.146817, 1], [51.521076, -0.114802, 1], [51.517864, -0.116376, 1], [51.558028, -0.148186, 1], [51.518928, -0.121089, 1], [51.540104, -0.140694, 1], [51.516756, -0.12579, 1], [51.519104, -0.120793, 1], [51.514271, -0.12791, 1], [51.549927, -0.19972, 1], [51.540452, -0.139959, 1], [51.54372, -0.13622, 4], [51.54847, -0.181027, 1], [51.554253, -0.136944, 1], [51.526325, -0.133759, 1], [51.515767, -0.114589, 1], [51.538968, -0.142759, 1], [51.538081, -0.137893, 1], [51.5215, -0.113199, 1], [51.529077, -0.125861, 1], [51.54061, -0.144279, 2], [51.529079, -0.126005, 1], [51.529101, -0.138692, 1], [51.541025, -0.142099, 1], [51.521866, -0.12486, 1], [51.554648, -0.144861, 1], [51.525987, -0.123826, 1], [51.561823, -0.149331, 1], [51.516617, -0.128391, 1], [51.546418, -0.141879, 1], [51.539752, -0.187143, 1], [51.543294, -0.149073, 1], [51.556248, -0.17812, 1], [51.521235, -0.124742, 1], [51.53888, -0.142907, 1], [51.542964, -0.139568, 1], [51.51811, -0.114924, 1], [51.525475, -0.114332, 1], [51.532605, -0.127158, 1], [51.516698, -0.127811, 1], [51.555456, -0.208445, 1], [51.549478, -0.153438, 1], [51.541858, -0.177974, 1], [51.542334, -0.16238, 1], [51.542752, -0.137558, 1], [51.528989, -0.126009, 1], [51.517209, -0.120439, 1], [51.533556, -0.147449, 2], [51.518749, -0.121096, 1], [51.542027, -0.171478, 1], [51.527069, -0.118447, 1], [51.534623, -0.146685, 2], [51.549836, -0.182127, 1], [51.518359, -0.119238, 1], [51.529862, -0.124387, 1], [51.547423, -0.160011, 1], [51.536714, -0.142418, 1], [51.523594, -0.13733, 1], [51.54162, -0.180002, 1], [51.555107, -0.174127, 1], [51.543287, -0.125998, 1], [51.539872, -0.194925, 1], [51.519372, -0.137647, 1], [51.567382, -0.154011, 1], [51.54372, -0.13622, 1], [51.518184, -0.119534, 1], [51.535095, -0.148108, 2], [51.546384, -0.151111, 1], [51.546757, -0.198259, 1], [51.562744, -0.179448, 1], [51.544365, -0.194748, 1], [51.52082, -0.115677, 1], [51.53566, -0.132656, 1], [51.553001, -0.189068, 1], [51.52244, -0.13262, 1], [51.541808, -0.146105, 1], [51.515603, -0.126847, 1], [51.554539, -0.172274, 2], [51.550993, -0.204726, 1], [51.523042, -0.125244, 1], [51.545644, -0.178544, 1], [51.544686, -0.134738, 1], [51.522135, -0.136093, 1], [51.517193, -0.125052, 1], [51.536964, -0.146878, 1], [51.548472, -0.181171, 1], [51.540016, -0.140842, 1], [51.514753, -0.118666, 1], [51.545157, -0.141786, 1], [51.533581, -0.137644, 1], [51.515682, -0.126123, 1], [51.53733, -0.15292, 1], [51.541935, -0.171337, 1], [51.535485, -0.132952, 1], [51.556439, -0.13873, 1], [51.521417, -0.113635, 1], [51.541862, -0.178262, 1], [51.528472, -0.138717, 1], [51.520313, -0.117716, 1], [51.522046, -0.136096, 1], [51.536598, -0.146461, 2], [51.541703, -0.173798, 1], [51.516193, -0.124372, 3], [51.542454, -0.193237, 1], [51.516198, -0.12466, 1], [51.530314, -0.124513, 1], [51.562389, -0.17975, 1], [51.548898, -0.191251, 1], [51.553229, -0.169009, 1], [51.545419, -0.175668, 2], [51.543991, -0.153371, 1], [51.537968, -0.142079, 1], [51.538785, -0.194392, 1], [51.552909, -0.188928, 1], [51.522442, -0.132765, 1], [51.517283, -0.125048, 1], [51.552998, -0.188924, 1], [51.515603, -0.126847, 1], [51.539226, -0.136404, 1], [51.545656, -0.133545, 1], [51.531754, -0.135844, 1], [51.543422, -0.151519, 1], [51.524329, -0.13831, 1], [51.570616, -0.148108, 1], [51.517196, -0.125196, 1], [51.552652, -0.189804, 1], [51.521414, -0.113491, 1], [51.529346, -0.120227, 1], [51.517714, -0.123877, 2], [51.53683, -0.132752, 1], [51.526811, -0.130423, 1], [51.532561, -0.147057, 1], [51.538968, -0.142759, 1], [51.519803, -0.108368, 1], [51.551786, -0.197771, 1], [51.544775, -0.134735, 1], [51.553921, -0.196245, 1], [51.528472, -0.138717, 1], [51.514663, -0.11867, 1], [51.543431, -0.175027, 1], [51.540802, -0.196908, 1], [51.542364, -0.19324, 2], [51.516861, -0.126795, 1], [51.529084, -0.126293, 1], [51.52423, -0.137737, 1], [51.545656, -0.133545, 1], [51.528472, -0.138717, 1], [51.519774, -0.134603, 1], [51.51967, -0.1225, 1], [51.517387, -0.120287, 1], [51.530104, -0.133893, 1], [51.530028, -0.123515, 1], [51.562534, -0.189123, 1], [51.549111, -0.15302, 1], [51.546492, -0.15803, 2], [51.545743, -0.133397, 1], [51.544317, -0.134177, 1], [51.546726, -0.144318, 1], [51.529191, -0.138688, 1], [51.536714, -0.142418, 1], [51.543029, -0.166534, 1], [51.518839, -0.121092, 1], [51.545743, -0.133397, 1], [51.515958, -0.126544, 1], [51.527182, -0.131129, 1], [51.536629, -0.137087, 1], [51.553422, -0.169867, 1], [51.529011, -0.138695, 1], [51.544081, -0.153368, 2], [51.530777, -0.119736, 3], [51.538147, -0.142072, 1], [51.543748, -0.149343, 1], [51.521861, -0.135815, 1], [51.554218, -0.140407, 1], [51.523859, -0.131409, 1], [51.530541, -0.138777, 1], [51.543498, -0.139258, 1], [51.542581, -0.195683, 1], [51.543139, -0.150666, 1], [51.525645, -0.136238, 1], [51.55131, -0.196059, 1], [51.526237, -0.133907, 1], [51.538786, -0.142623, 1], [51.539233, -0.14246, 1], [51.514977, -0.127016, 1], [51.535485, -0.190341, 1], [51.539268, -0.138998, 2], [51.517364, -0.124468, 1], [51.5242, -0.135864, 1], [51.5283, -0.127911, 2], [51.545237, -0.175531, 1], [51.52097, -0.125041, 1], [51.522263, -0.12715, 1], [51.540702, -0.144419, 1], [51.523824, -0.140492, 2], [51.55556, -0.14569, 1], [51.519544, -0.120198, 1], [51.521331, -0.113926, 1], [51.517564, -0.120136, 1], [51.517975, -0.12329, 1], [51.525385, -0.114336, 1], [51.533764, -0.126534, 1], [51.526405, -0.138802, 1], [51.528989, -0.126009, 1], [51.540938, -0.142246, 2], [51.550654, -0.206038, 1], [51.526074, -0.123678, 1], [51.536308, -0.145175, 1], [51.529081, -0.126149, 3], [51.52003, -0.122485, 1], [51.536683, -0.146169, 1], [51.526203, -0.126123, 1], [51.52106, -0.125037, 1], [51.52191, -0.110731, 4], [51.520313, -0.117716, 1], [51.527816, -0.131391, 1], [51.524219, -0.114528, 1], [51.528344, -0.119403, 2], [51.519671, -0.105779, 1], [51.533556, -0.136059, 1], [51.528382, -0.138721, 1], [51.520246, -0.130404, 2], [51.516484, -0.120036, 1], [51.549378, -0.181568, 1], [51.542751, -0.143182, 1], [51.516447, -0.128974, 1], [51.550117, -0.182837, 2], [51.52718, -0.130985, 1], [51.524244, -0.116113, 1], [51.534897, -0.135571, 1], [51.527685, -0.145814, 1], [51.523797, -0.121897, 1], [51.521974, -0.109143, 1], [51.518926, -0.120945, 1], [51.529512, -0.119355, 1], [51.551433, -0.198218, 1], [51.519544, -0.120198, 1], [51.528472, -0.138717, 1], [51.557534, -0.168259, 1], [51.523788, -0.126943, 1], [51.517484, -0.120716, 1], [51.523161, -0.138357, 3], [51.517975, -0.12329, 2], [51.526225, -0.138809, 1], [51.540192, -0.140546, 1], [51.527611, -0.129814, 1], [51.518319, -0.105547, 1], [51.527355, -0.130689, 1], [51.557172, -0.168129, 1], [51.539042, -0.136123, 1], [51.520652, -0.116405, 1], [51.517868, -0.116664, 2], [51.53496, -0.122591, 1], [51.525827, -0.136374, 1], [51.5419, -0.146245, 1], [51.52736, -0.130977, 1], [51.528996, -0.126441, 1], [51.536509, -0.152232, 1], [51.521235, -0.124742, 1], [51.539149, -0.131504, 1], [51.524205, -0.124908, 1], [51.549444, -0.191662, 1], [51.543545, -0.136516, 1], [51.526405, -0.138802, 1], [51.550332, -0.185136, 1], [51.543545, -0.136516, 1], [51.542656, -0.12588, 1], [51.537873, -0.193563, 1], [51.528809, -0.126016, 1], [51.544327, -0.174847, 1], [51.518928, -0.121089, 1], [51.549748, -0.182274, 1], [51.520301, -0.133861, 1], [51.527069, -0.118447, 1], [51.536922, -0.132893, 1], [51.516302, -0.1199, 1], [51.523491, -0.130848, 1], [51.52986, -0.124243, 1], [51.530164, -0.12077, 1], [51.519501, -0.106362, 1], [51.52196, -0.108279, 1], [51.539742, -0.169118, 1], [51.551842, -0.207289, 1], [51.53936, -0.139138, 1], [51.523357, -0.133736, 1], [51.529591, -0.124254, 1], [51.520318, -0.118004, 1], [51.545063, -0.141502, 1], [51.541824, -0.135721, 1], [51.525052, -0.138568, 1], [51.543977, -0.175438, 1], [51.516938, -0.125927, 1], [51.554273, -0.161033, 1], [51.521414, -0.113491, 1], [51.532798, -0.128015, 1], [51.536682, -0.192168, 2], [51.555012, -0.145135, 1], [51.519255, -0.135922, 1], [51.544686, -0.134738, 1], [51.538955, -0.170591, 1], [51.555098, -0.196775, 1], [51.541546, -0.175246, 1], [51.532438, -0.139276, 1], [51.528472, -0.138717, 1], [51.525167, -0.145772, 1], [51.528952, -0.123704, 1], [51.525593, -0.144313, 1], [51.544599, -0.17498, 1], [51.542152, -0.17378, 1], [51.534717, -0.135579, 1], [51.555498, -0.193585, 2], [51.525256, -0.145768, 1], [51.551869, -0.185652, 1], [51.530116, -0.123367, 1], [51.552483, -0.178848, 1], [51.525138, -0.138277, 1], [51.539137, -0.170728, 1], [51.541744, -0.142069, 1], [51.522232, -0.114033, 1], [51.52727, -0.130981, 1], [51.54371, -0.152662, 1], [51.518232, -0.111316, 1], [51.523932, -0.141641, 1], [51.541687, -0.138466, 1], [51.516136, -0.126392, 1], [51.533141, -0.126992, 6], [51.549748, -0.182274, 1], [51.535397, -0.1331, 1], [51.539664, -0.187291, 1], [51.532433, -0.138988, 1], [51.540802, -0.139368, 1], [51.52424, -0.115824, 1], [51.523625, -0.122337, 1], [51.548475, -0.141218, 1], [51.524244, -0.116113, 1], [51.528382, -0.138721, 1], [51.551046, -0.202272, 1], [51.515209, -0.11908, 1], [51.55449, -0.151936, 1], [51.553144, -0.169301, 1], [51.518843, -0.12138, 1], [51.536042, -0.191472, 1], [51.554578, -0.186409, 1], [51.517237, -0.122167, 2], [51.549549, -0.140886, 1], [51.53066, -0.146269, 3], [51.550592, -0.13291, 1], [51.521995, -0.110439, 1], [51.518246, -0.129044, 1], [51.527701, -0.12981, 1], [51.525567, -0.125717, 1], [51.517571, -0.120568, 1], [51.538786, -0.142623, 1], [51.549172, -0.191528, 1], [51.542946, -0.149808, 1], [51.530448, -0.121624, 1], [51.522343, -0.12657, 2], [51.54929, -0.181716, 1], [51.517108, -0.125344, 1], [51.54963, -0.140306, 1], [51.522346, -0.126714, 1], [51.527701, -0.12981, 1], [51.546566, -0.151248, 1], [51.540781, -0.143695, 1], [51.539682, -0.142442, 1], [51.551043, -0.133036, 1], [51.523401, -0.130851, 1], [51.546505, -0.141731, 1], [51.554069, -0.165225, 1], [51.556248, -0.17812, 1], [51.540452, -0.139959, 1], [51.545566, -0.133549, 1], [51.515463, -0.123682, 1], [51.541808, -0.198021, 1], [51.53253, -0.139417, 1], [51.527182, -0.131129, 1], [51.525382, -0.136681, 1], [51.55306, -0.158197, 1], [51.513428, -0.125783, 1], [51.549111, -0.15302, 1], [51.542366, -0.147236, 1], [51.522599, -0.125695, 1], [51.52097, -0.125041, 1], [51.538449, -0.144078, 1], [51.551278, -0.182357, 2], [51.521345, -0.131656, 1], [51.524249, -0.127645, 1], [51.546495, -0.158174, 4], [51.564243, -0.143172, 1], [51.535136, -0.13931, 1], [51.526811, -0.130423, 1], [51.528155, -0.118835, 1], [51.536533, -0.136658, 1], [51.537314, -0.134896, 1], [51.54372, -0.13622, 1], [51.526147, -0.13391, 1], [51.521891, -0.109579, 1], [51.549756, -0.154003, 1], [51.530224, -0.124516, 1], [51.516663, -0.120029, 2], [51.522322, -0.11403, 1], [51.545271, -0.177693, 1], [51.539259, -0.149814, 1], [51.517193, -0.125052, 1], [51.53604, -0.191328, 1], [51.527663, -0.13875, 1], [51.528472, -0.138717, 1], [51.55869, -0.196489, 1], [51.551389, -0.166342, 1], [51.530462, -0.122488, 1], [51.514977, -0.127016, 1], [51.522899, -0.121934, 1], [51.516926, -0.130828, 1], [51.550071, -0.191493, 1], [51.54565, -0.1559, 1], [51.534867, -0.122451, 1], [51.538787, -0.194536, 1], [51.552628, -0.188218, 2], [51.549352, -0.191521, 1], [51.537055, -0.141251, 1], [51.562571, -0.179887, 3], [51.525021, -0.130929, 1], [51.517242, -0.122455, 1], [51.520223, -0.11772, 1], [51.532599, -0.138116, 1], [51.548951, -0.19471, 1], [51.540452, -0.139959, 2], [51.530127, -0.124088, 1], [51.523865, -0.143086, 1], [51.569051, -0.15149, 1], [51.529355, -0.126426, 1], [51.514182, -0.127914, 1], [51.524965, -0.138716, 1], [51.516294, -0.13071, 1], [51.542454, -0.193237, 1], [51.517299, -0.120435, 1], [51.554108, -0.1909, 1], [51.553733, -0.155285, 1], [51.52623, -0.133475, 1], [51.526327, -0.133903, 1], [51.525655, -0.125569, 1], [51.521029, -0.106299, 1], [51.522855, -0.119197, 1], [51.537598, -0.193285, 1], [51.54091, -0.140517, 2], [51.524774, -0.138003, 1], [51.544885, -0.141653, 1], [51.535592, -0.139724, 1], [51.542454, -0.193237, 3], [51.515603, -0.126847, 2], [51.540362, -0.139963, 1], [51.535164, -0.135416, 1], [51.521029, -0.106299, 1], [51.556053, -0.194573, 1], [51.546379, -0.191206, 1], [51.524332, -0.115965, 1], [51.514647, -0.128904, 1], [51.517567, -0.12028, 1], [51.547548, -0.19116, 1], [51.543333, -0.151523, 1], [51.545876, -0.141757, 1], [51.538968, -0.142759, 1], [51.551349, -0.140957, 1], [51.553051, -0.16916, 1], [51.526493, -0.138654, 2], [51.539406, -0.14202, 1], [51.543823, -0.154099, 2], [51.518633, -0.119515, 1], [51.543333, -0.151523, 1], [51.526076, -0.123822, 1], [51.541553, -0.175679, 1], [51.545606, -0.141768, 1], [51.544686, -0.134738, 1], [51.546473, -0.151107, 1], [51.525593, -0.144313, 1], [51.521403, -0.135258, 1], [51.524406, -0.131819, 1], [51.521083, -0.132099, 1], [51.542752, -0.137558, 1], [51.55661, -0.166709, 1], [51.540592, -0.189129, 1], [51.542755, -0.149095, 1], [51.537232, -0.192867, 1], [51.543613, -0.175164, 1], [51.520827, -0.11611, 1], [51.529765, -0.118336, 1], [51.543613, -0.169395, 1], [51.550878, -0.156698, 1], [51.547767, -0.130574, 2], [51.529683, -0.124394, 1], [51.541687, -0.138466, 1], [51.535298, -0.189915, 1], [51.541845, -0.194559, 1], [51.53086, -0.1193, 1], [51.530869, -0.119876, 1], [51.530793, -0.120744, 1], [51.519671, -0.105779, 1], [51.530798, -0.121032, 1], [51.519761, -0.105775, 2], [51.518404, -0.105255, 1], [51.530888, -0.121029, 1], [51.530876, -0.120308, 1], [51.543197, -0.126002, 1], [51.54437, -0.126242, 1], [51.530978, -0.121025, 1], [51.521031, -0.106443, 1], [51.5308, -0.121177, 1], [51.530888, -0.121029, 2], [51.520667, -0.10617, 1], [51.530796, -0.120888, 1], [51.530722, -0.121901, 1], [51.530862, -0.119444, 1], [51.521757, -0.106845, 1], [51.530826, -0.122761, 1], [51.530791, -0.1206, 1], [51.530722, -0.121901, 1], [51.530796, -0.120888, 1], [51.538333, -0.194265, 1], [51.541718, -0.198025, 1], [51.538329, -0.193977, 1], [51.538331, -0.194121, 1], [51.538421, -0.194118, 1], [51.537688, -0.193281, 1], [51.537598, -0.193285, 1], [51.535671, -0.190766, 1], [51.5419, -0.198162, 1], [51.537598, -0.193285, 2], [51.539701, -0.195509, 1], [51.539061, -0.194813, 1], [51.53659, -0.192027, 1], [51.567661, -0.183436, 1], [51.559423, -0.197325, 1], [51.559059, -0.197051, 1], [51.559239, -0.197044, 1], [51.534955, -0.122303, 1], [51.521757, -0.106845, 1], [51.542551, -0.141892, 1], [51.55193, -0.195458, 1], [51.525371, -0.13596, 1], [51.545937, -0.157042, 1], [51.562218, -0.145852, 1], [51.532943, -0.137093, 1], [51.517564, -0.120136, 2], [51.53683, -0.132752, 1], [51.534249, -0.140068, 1], [51.556882, -0.178383, 1], [51.516744, -0.130691, 2], [51.514271, -0.12791, 1], [51.563239, -0.142203, 1], [51.523686, -0.137471, 1], [51.522141, -0.125137, 2], [51.541916, -0.135861, 5], [51.517627, -0.124025, 1], [51.518233, -0.122559, 1], [51.549199, -0.152872, 1], [51.558774, -0.178596, 1], [51.542557, -0.147949, 1], [51.554015, -0.196529, 1], [51.520313, -0.117716, 1], [51.53603, -0.138986, 1], [51.535114, -0.189634, 1], [51.560899, -0.176491, 1], [51.554499, -0.152513, 1], [51.518928, -0.121089, 1], [51.538969, -0.194673, 1], [51.526074, -0.123678, 1], [51.549102, -0.141048, 1], [51.537417, -0.152772, 1], [51.542948, -0.149952, 2], [51.545844, -0.179834, 1], [51.524822, -0.135406, 1], [51.526235, -0.133763, 1], [51.530641, -0.122481, 1], [51.527032, -0.116142, 1], [51.554069, -0.165225, 1], [51.538263, -0.138029, 1], [51.529945, -0.123951, 1], [51.554152, -0.164788, 1], [51.527178, -0.130841, 1], [51.550764, -0.183965, 1], [51.521327, -0.113638, 4], [51.541995, -0.14653, 1], [51.521412, -0.113347, 2], [51.529648, -0.133479, 1], [51.517166, -0.123323, 3], [51.555222, -0.193164, 1]],\n",
       "                {\n",
       "  &quot;minOpacity&quot;: 0.5,\n",
       "  &quot;maxZoom&quot;: 13,\n",
       "  &quot;radius&quot;: 8,\n",
       "  &quot;blur&quot;: 6,\n",
       "}\n",
       "            );\n",
       "        \n",
       "    \n",
       "            heat_map_b01edd393912f98f2152a2d2f7e9b6d2.addTo(map_11ed2d72389bf2557c1c42103fd800c1);\n",
       "        \n",
       "    \n",
       "            tile_layer_1e29a13df21e53e115a00da52ec25778.addTo(map_11ed2d72389bf2557c1c42103fd800c1);\n",
       "        \n",
       "    \n",
       "            heat_map_b01edd393912f98f2152a2d2f7e9b6d2.addTo(map_11ed2d72389bf2557c1c42103fd800c1);\n",
       "        \n",
       "&lt;/script&gt;\n",
       "&lt;/html&gt;\" style=\"position:absolute;width:100%;height:100%;left:0;top:0;border:none !important;\" allowfullscreen webkitallowfullscreen mozallowfullscreen></iframe></div></div>"
      ],
      "text/plain": [
       "<folium.folium.Map at 0x1b203ddb410>"
      ]
     },
     "execution_count": 14,
     "metadata": {},
     "output_type": "execute_result"
    }
   ],
   "source": [
    "import folium\n",
    "from folium.plugins import HeatMap\n",
    "\n",
    "\n",
    "district_name = \"Camden\"\n",
    "\n",
    "camden = accident[accident[\"District Area\"] == district_name]\n",
    "\n",
    "camden = camden.dropna(subset=[\"Latitude\", \"Longitude\"])\n",
    "\n",
    "m = folium.Map(\n",
    "    location=[camden[\"Latitude\"].mean(), camden[\"Longitude\"].mean()],\n",
    "    zoom_start=14\n",
    ")\n",
    "\n",
    "heat_data = list(zip(camden[\"Latitude\"], camden[\"Longitude\"], camden[\"Number_of_Casualties\"]))\n",
    "HeatMap(heat_data, max_zoom=13, radius=8, blur=6).add_to(m)\n",
    "\n",
    "title_html = \"\"\"\n",
    "     <h3 align=\"center\" style=\"font-size:20px; background-color: #6A0066; color: white; padding: 10px;\">\n",
    "         Casualty Heatmap for Camden\n",
    "     </h3>\n",
    "     \"\"\"\n",
    "\n",
    "m.get_root().html.add_child(folium.Element(title_html))\n",
    "\n",
    "m.save(\"camden_casualty_heatmap.html\")\n",
    "m\n"
   ]
  },
  {
   "cell_type": "markdown",
   "id": "88eda230-8968-47f7-aac0-fcebc78eba6c",
   "metadata": {},
   "source": [
    "<h1 style=\"font-size:15px;\"><strong> Insight 30: High Casualty Density Around Major Roads </strong></h1>\n",
    "<p1>There is a clear concentration of casualties along major roads and intersections in Camden, indicating these areas as high-risk zones for traffic-related incidents</p1>"
   ]
  },
  {
   "cell_type": "markdown",
   "id": "3442f009-89d1-4dae-a39d-a30835f27c4c",
   "metadata": {},
   "source": [
    "<h1 style=\"font-size:15px;\"><strong> Insight 31: Low Incident Ares</strong></h1>\n",
    "\n",
    "<p1>Outer parts of Camden such as Belsize Park, South Hampstead, and Primrose Hill appear in blue, reflecting low casualty density and lower risk.</p1>"
   ]
  },
  {
   "cell_type": "markdown",
   "id": "dabed250-3ad2-49b1-af82-d910212d29ca",
   "metadata": {},
   "source": []
  }
 ],
 "metadata": {
  "kernelspec": {
   "display_name": "Python 3 (ipykernel)",
   "language": "python",
   "name": "python3"
  },
  "language_info": {
   "codemirror_mode": {
    "name": "ipython",
    "version": 3
   },
   "file_extension": ".py",
   "mimetype": "text/x-python",
   "name": "python",
   "nbconvert_exporter": "python",
   "pygments_lexer": "ipython3",
   "version": "3.12.10"
  }
 },
 "nbformat": 4,
 "nbformat_minor": 5
}
